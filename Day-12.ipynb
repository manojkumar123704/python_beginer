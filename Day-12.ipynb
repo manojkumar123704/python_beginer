{
 "cells": [
  {
   "cell_type": "code",
   "execution_count": 1,
   "id": "4e20a344-8744-48fb-b27c-71428f8807cf",
   "metadata": {},
   "outputs": [
    {
     "data": {
      "text/plain": [
       "2"
      ]
     },
     "execution_count": 1,
     "metadata": {},
     "output_type": "execute_result"
    }
   ],
   "source": [
    "1+1\n"
   ]
  },
  {
   "cell_type": "code",
   "execution_count": 2,
   "id": "9e2bb8ec-b957-47a8-a048-63d84be0a1a1",
   "metadata": {},
   "outputs": [
    {
     "data": {
      "text/plain": [
       "1"
      ]
     },
     "execution_count": 2,
     "metadata": {},
     "output_type": "execute_result"
    }
   ],
   "source": [
    "2-1"
   ]
  },
  {
   "cell_type": "code",
   "execution_count": 3,
   "id": "5ca67742-4dec-486c-b94d-cb6d9440dae9",
   "metadata": {},
   "outputs": [
    {
     "data": {
      "text/plain": [
       "12"
      ]
     },
     "execution_count": 3,
     "metadata": {},
     "output_type": "execute_result"
    }
   ],
   "source": [
    "3*4"
   ]
  },
  {
   "cell_type": "markdown",
   "id": "f4a8de24-51a0-4c11-96a1-83d414444db0",
   "metadata": {},
   "source": [
    "#### "
   ]
  },
  {
   "cell_type": "code",
   "execution_count": 5,
   "id": "1f5b1ad3-1eb7-44e7-9507-f40e3b0be03a",
   "metadata": {},
   "outputs": [
    {
     "data": {
      "text/plain": [
       "2.0"
      ]
     },
     "execution_count": 5,
     "metadata": {},
     "output_type": "execute_result"
    }
   ],
   "source": [
    "8/4"
   ]
  },
  {
   "cell_type": "code",
   "execution_count": 6,
   "id": "8ba8882a-7ff2-4351-9a1b-39e696eab182",
   "metadata": {},
   "outputs": [
    {
     "data": {
      "text/plain": [
       "2"
      ]
     },
     "execution_count": 6,
     "metadata": {},
     "output_type": "execute_result"
    }
   ],
   "source": [
    "8//4"
   ]
  },
  {
   "cell_type": "code",
   "execution_count": 7,
   "id": "d2b752b0-a86f-40d8-9171-b2237cca4f4c",
   "metadata": {},
   "outputs": [
    {
     "data": {
      "text/plain": [
       "1.6"
      ]
     },
     "execution_count": 7,
     "metadata": {},
     "output_type": "execute_result"
    }
   ],
   "source": [
    "8/5"
   ]
  },
  {
   "cell_type": "code",
   "execution_count": 8,
   "id": "390942c2-a5a2-46fe-b09c-2eac9e54e809",
   "metadata": {},
   "outputs": [
    {
     "data": {
      "text/plain": [
       "1"
      ]
     },
     "execution_count": 8,
     "metadata": {},
     "output_type": "execute_result"
    }
   ],
   "source": [
    "8//5"
   ]
  },
  {
   "cell_type": "code",
   "execution_count": 9,
   "id": "006a70fa-c74b-44cc-8dc0-79a40df5a79c",
   "metadata": {},
   "outputs": [
    {
     "data": {
      "text/plain": [
       "10"
      ]
     },
     "execution_count": 9,
     "metadata": {},
     "output_type": "execute_result"
    }
   ],
   "source": [
    "8+9-7"
   ]
  },
  {
   "cell_type": "code",
   "execution_count": 10,
   "id": "ac5b27e6-32f3-46a5-8c1f-5fe56888948e",
   "metadata": {},
   "outputs": [
    {
     "ename": "SyntaxError",
     "evalue": "invalid syntax (3517709320.py, line 1)",
     "output_type": "error",
     "traceback": [
      "\u001b[1;36m  Cell \u001b[1;32mIn[10], line 1\u001b[1;36m\u001b[0m\n\u001b[1;33m    8+8-\u001b[0m\n\u001b[1;37m        ^\u001b[0m\n\u001b[1;31mSyntaxError\u001b[0m\u001b[1;31m:\u001b[0m invalid syntax\n"
     ]
    }
   ],
   "source": [
    "8+8-"
   ]
  },
  {
   "cell_type": "code",
   "execution_count": 34,
   "id": "1a26b47d-6e36-4055-b81e-5fbae2ccbaa8",
   "metadata": {},
   "outputs": [
    {
     "data": {
      "text/plain": [
       "30"
      ]
     },
     "execution_count": 34,
     "metadata": {},
     "output_type": "execute_result"
    }
   ],
   "source": [
    "5+5*5"
   ]
  },
  {
   "cell_type": "code",
   "execution_count": 36,
   "id": "1a680bb5-0a27-44ea-8072-90327dcd233d",
   "metadata": {},
   "outputs": [
    {
     "data": {
      "text/plain": [
       "50"
      ]
     },
     "execution_count": 36,
     "metadata": {},
     "output_type": "execute_result"
    }
   ],
   "source": [
    "(5+5)*5"
   ]
  },
  {
   "cell_type": "code",
   "execution_count": 38,
   "id": "59a05c17-1a7f-45f6-beb1-aa486cd92729",
   "metadata": {},
   "outputs": [
    {
     "data": {
      "text/plain": [
       "32"
      ]
     },
     "execution_count": 38,
     "metadata": {},
     "output_type": "execute_result"
    }
   ],
   "source": [
    "2*2*2*2*2"
   ]
  },
  {
   "cell_type": "code",
   "execution_count": 40,
   "id": "c527195e-cc03-42ad-877d-f0b484def4d7",
   "metadata": {},
   "outputs": [
    {
     "data": {
      "text/plain": [
       "32"
      ]
     },
     "execution_count": 40,
     "metadata": {},
     "output_type": "execute_result"
    }
   ],
   "source": [
    "2**5"
   ]
  },
  {
   "cell_type": "code",
   "execution_count": 42,
   "id": "7d926aec-68ed-4312-9c68-d4d7e8818a3f",
   "metadata": {},
   "outputs": [
    {
     "data": {
      "text/plain": [
       "10"
      ]
     },
     "execution_count": 42,
     "metadata": {},
     "output_type": "execute_result"
    }
   ],
   "source": [
    "2*5"
   ]
  },
  {
   "cell_type": "code",
   "execution_count": 44,
   "id": "edd76387-f365-455a-a78f-365e4c6bb9b1",
   "metadata": {},
   "outputs": [
    {
     "data": {
      "text/plain": [
       "5.0"
      ]
     },
     "execution_count": 44,
     "metadata": {},
     "output_type": "execute_result"
    }
   ],
   "source": [
    "15/3"
   ]
  },
  {
   "cell_type": "code",
   "execution_count": 46,
   "id": "080c2c4c-9ae6-4cf6-9c1c-d07c3e4e2fff",
   "metadata": {},
   "outputs": [
    {
     "data": {
      "text/plain": [
       "5"
      ]
     },
     "execution_count": 46,
     "metadata": {},
     "output_type": "execute_result"
    }
   ],
   "source": [
    "15//3"
   ]
  },
  {
   "cell_type": "code",
   "execution_count": 48,
   "id": "cf3e3097-c498-4469-970b-86e312721668",
   "metadata": {},
   "outputs": [
    {
     "data": {
      "text/plain": [
       "1"
      ]
     },
     "execution_count": 48,
     "metadata": {},
     "output_type": "execute_result"
    }
   ],
   "source": [
    "15%2"
   ]
  },
  {
   "cell_type": "code",
   "execution_count": 50,
   "id": "5241ba25-1da3-49a2-b6ee-72ab2b0c2e95",
   "metadata": {},
   "outputs": [
    {
     "data": {
      "text/plain": [
       "0"
      ]
     },
     "execution_count": 50,
     "metadata": {},
     "output_type": "execute_result"
    }
   ],
   "source": [
    "10%2"
   ]
  },
  {
   "cell_type": "code",
   "execution_count": 52,
   "id": "d50980ba-7de5-4cee-b26c-ebe5df96ee76",
   "metadata": {},
   "outputs": [
    {
     "ename": "SyntaxError",
     "evalue": "invalid syntax (1742385895.py, line 1)",
     "output_type": "error",
     "traceback": [
      "\u001b[1;36m  Cell \u001b[1;32mIn[52], line 1\u001b[1;36m\u001b[0m\n\u001b[1;33m    15%%2\u001b[0m\n\u001b[1;37m       ^\u001b[0m\n\u001b[1;31mSyntaxError\u001b[0m\u001b[1;31m:\u001b[0m invalid syntax\n"
     ]
    }
   ],
   "source": [
    "15%%2\n"
   ]
  },
  {
   "cell_type": "code",
   "execution_count": 54,
   "id": "aceac452-6495-49b5-8e34-8b38e515ed41",
   "metadata": {},
   "outputs": [
    {
     "ename": "TypeError",
     "evalue": "unsupported operand type(s) for +: 'int' and 'str'",
     "output_type": "error",
     "traceback": [
      "\u001b[1;31m---------------------------------------------------------------------------\u001b[0m",
      "\u001b[1;31mTypeError\u001b[0m                                 Traceback (most recent call last)",
      "Cell \u001b[1;32mIn[54], line 1\u001b[0m\n\u001b[1;32m----> 1\u001b[0m \u001b[38;5;241m3\u001b[39m\u001b[38;5;241m+\u001b[39m\u001b[38;5;124m'\u001b[39m\u001b[38;5;124mnit\u001b[39m\u001b[38;5;124m'\u001b[39m\n",
      "\u001b[1;31mTypeError\u001b[0m: unsupported operand type(s) for +: 'int' and 'str'"
     ]
    }
   ],
   "source": [
    "3+'nit'"
   ]
  },
  {
   "cell_type": "code",
   "execution_count": null,
   "id": "c2eb6c76-3332-4feb-bf36-f2fd31819b54",
   "metadata": {},
   "outputs": [],
   "source": [
    "a,b,c,d,e=15,7.8,'nit',8+9j,True"
   ]
  },
  {
   "cell_type": "code",
   "execution_count": null,
   "id": "ebe778b8-ff40-4820-8878-1e74b05211e1",
   "metadata": {},
   "outputs": [],
   "source": [
    "print(a,b,c,d,e)\n",
    "print(b)\n",
    "print(c)\n",
    "print(d)\n",
    "print(e)"
   ]
  },
  {
   "cell_type": "code",
   "execution_count": null,
   "id": "1f39ae27-da79-4b06-8e49-d2f6ad476f68",
   "metadata": {},
   "outputs": [],
   "source": [
    "print(type(a))\n",
    "print(type(b))\n",
    "print(type(c))\n",
    "print(type(d))\n",
    "print(type(e))\n",
    "print(type(a))"
   ]
  },
  {
   "cell_type": "code",
   "execution_count": null,
   "id": "03ca9d2e-754f-424e-aa61-66c88429f767",
   "metadata": {},
   "outputs": [],
   "source": [
    "type(c)"
   ]
  },
  {
   "cell_type": "code",
   "execution_count": null,
   "id": "fdf2b768-4ab5-4261-8700-8d7168ac8f81",
   "metadata": {},
   "outputs": [],
   "source": [
    "'naresh it'"
   ]
  },
  {
   "cell_type": "code",
   "execution_count": 58,
   "id": "db2ec83c-7d46-4aec-ad58-3dd6872af350",
   "metadata": {},
   "outputs": [
    {
     "name": "stdout",
     "output_type": "stream",
     "text": [
      "max it\n"
     ]
    }
   ],
   "source": [
    "print(\"max it\")"
   ]
  },
  {
   "cell_type": "code",
   "execution_count": 63,
   "id": "79cedc61-8a9b-413c-975e-ae82684e253b",
   "metadata": {},
   "outputs": [
    {
     "data": {
      "text/plain": [
       "'max it technologies'"
      ]
     },
     "execution_count": 63,
     "metadata": {},
     "output_type": "execute_result"
    }
   ],
   "source": [
    "\"max it technologies\""
   ]
  },
  {
   "cell_type": "code",
   "execution_count": 65,
   "id": "2508002e-e780-43da-b9a2-ce74eda7cd8a",
   "metadata": {},
   "outputs": [
    {
     "data": {
      "text/plain": [
       "'max it technologies'"
      ]
     },
     "execution_count": 65,
     "metadata": {},
     "output_type": "execute_result"
    }
   ],
   "source": [
    "s1=\"max it technologies\"\n",
    "s1\n"
   ]
  },
  {
   "cell_type": "code",
   "execution_count": 67,
   "id": "b168fdd6-c9c6-40a5-8465-4fb2fb5495ad",
   "metadata": {},
   "outputs": [
    {
     "data": {
      "text/plain": [
       "str"
      ]
     },
     "execution_count": 67,
     "metadata": {},
     "output_type": "execute_result"
    }
   ],
   "source": [
    "a=3\n",
    "b='hi'\n",
    "type(b)"
   ]
  },
  {
   "cell_type": "code",
   "execution_count": 69,
   "id": "d068a9a4-afcc-4bb8-8b82-c98f413bd85b",
   "metadata": {},
   "outputs": [
    {
     "ename": "SyntaxError",
     "evalue": "invalid syntax. Perhaps you forgot a comma? (1428052980.py, line 1)",
     "output_type": "error",
     "traceback": [
      "\u001b[1;36m  Cell \u001b[1;32mIn[69], line 1\u001b[1;36m\u001b[0m\n\u001b[1;33m    print('max it's\"technology\")\u001b[0m\n\u001b[1;37m          ^\u001b[0m\n\u001b[1;31mSyntaxError\u001b[0m\u001b[1;31m:\u001b[0m invalid syntax. Perhaps you forgot a comma?\n"
     ]
    }
   ],
   "source": [
    "print('max it's\"technology\")"
   ]
  },
  {
   "cell_type": "code",
   "execution_count": 71,
   "id": "7f231a9f-e582-404d-bddf-100b7cb3c838",
   "metadata": {},
   "outputs": [
    {
     "name": "stdout",
     "output_type": "stream",
     "text": [
      "max it's\"technology\"\n"
     ]
    }
   ],
   "source": [
    "print('max it\\'s\"technology\"')#\\ has some special meaning to ignore the error"
   ]
  },
  {
   "cell_type": "code",
   "execution_count": 73,
   "id": "968d845e-2f4b-4680-a713-7134681fb736",
   "metadata": {},
   "outputs": [
    {
     "name": "stdout",
     "output_type": "stream",
     "text": [
      "max it technology\n"
     ]
    }
   ],
   "source": [
    "print('max it',\"technology\")"
   ]
  },
  {
   "cell_type": "code",
   "execution_count": 75,
   "id": "fbad6cf4-ef6c-46c7-88c0-5d988fd6a0a2",
   "metadata": {},
   "outputs": [
    {
     "name": "stdout",
     "output_type": "stream",
     "text": [
      "max it\",\"technology\n"
     ]
    }
   ],
   "source": [
    "print('max it\",\"technology')"
   ]
  },
  {
   "cell_type": "code",
   "execution_count": 77,
   "id": "a7d4cb08-dc75-44a4-8b7f-5faa5dcc9f75",
   "metadata": {},
   "outputs": [
    {
     "data": {
      "text/plain": [
       "'nit  nit'"
      ]
     },
     "execution_count": 77,
     "metadata": {},
     "output_type": "execute_result"
    }
   ],
   "source": [
    "'nit ' + ' nit'"
   ]
  },
  {
   "cell_type": "code",
   "execution_count": 79,
   "id": "07bc8115-a3c9-4940-85ef-191cb2986222",
   "metadata": {},
   "outputs": [
    {
     "data": {
      "text/plain": [
       "'nitnit'"
      ]
     },
     "execution_count": 79,
     "metadata": {},
     "output_type": "execute_result"
    }
   ],
   "source": [
    "'nit'  'nit'"
   ]
  },
  {
   "cell_type": "code",
   "execution_count": 81,
   "id": "540fbb34-d64f-45be-815d-17e1984f6db0",
   "metadata": {},
   "outputs": [
    {
     "data": {
      "text/plain": [
       "'  nit    nit    nit    nit    nit  '"
      ]
     },
     "execution_count": 81,
     "metadata": {},
     "output_type": "execute_result"
    }
   ],
   "source": [
    "5*'  nit  '"
   ]
  },
  {
   "cell_type": "code",
   "execution_count": 83,
   "id": "2c9388b3-89a8-4a8e-9a64-74a1de693c2b",
   "metadata": {},
   "outputs": [
    {
     "name": "stdout",
     "output_type": "stream",
     "text": [
      "c:\n",
      "it\n"
     ]
    }
   ],
   "source": [
    "print('c:\\nit')"
   ]
  },
  {
   "cell_type": "code",
   "execution_count": 85,
   "id": "e1971a64-00c7-44dd-be0a-f4843e74aae4",
   "metadata": {},
   "outputs": [
    {
     "name": "stdout",
     "output_type": "stream",
     "text": [
      "c:\\nit:\n"
     ]
    }
   ],
   "source": [
    "#raw string we have r\n",
    "print(r\"c:\\nit:\")"
   ]
  },
  {
   "cell_type": "code",
   "execution_count": 87,
   "id": "e9ee6c3b-c297-4b7a-b3b4-7b21deeccb5a",
   "metadata": {},
   "outputs": [
    {
     "data": {
      "text/plain": [
       "2"
      ]
     },
     "execution_count": 87,
     "metadata": {},
     "output_type": "execute_result"
    }
   ],
   "source": [
    "2\n"
   ]
  },
  {
   "cell_type": "code",
   "execution_count": 4,
   "id": "5a084396-aad9-426c-ba9c-ea10e1f62f52",
   "metadata": {},
   "outputs": [
    {
     "data": {
      "text/plain": [
       "2"
      ]
     },
     "execution_count": 4,
     "metadata": {},
     "output_type": "execute_result"
    }
   ],
   "source": [
    "x=2\n",
    "x"
   ]
  },
  {
   "cell_type": "code",
   "execution_count": 6,
   "id": "62f8fbdd-14cf-4bae-8f46-c363b4ae87c9",
   "metadata": {},
   "outputs": [
    {
     "data": {
      "text/plain": [
       "5"
      ]
     },
     "execution_count": 6,
     "metadata": {},
     "output_type": "execute_result"
    }
   ],
   "source": [
    "x+3"
   ]
  },
  {
   "cell_type": "code",
   "execution_count": 8,
   "id": "a3c331eb-6e9a-412a-ab13-980d8c60c581",
   "metadata": {},
   "outputs": [
    {
     "data": {
      "text/plain": [
       "3"
      ]
     },
     "execution_count": 8,
     "metadata": {},
     "output_type": "execute_result"
    }
   ],
   "source": [
    "y=3\n",
    "y\n"
   ]
  },
  {
   "cell_type": "code",
   "execution_count": 10,
   "id": "902193fc-73cf-45a3-b20f-d5205498051e",
   "metadata": {},
   "outputs": [
    {
     "data": {
      "text/plain": [
       "5"
      ]
     },
     "execution_count": 10,
     "metadata": {},
     "output_type": "execute_result"
    }
   ],
   "source": [
    "x+y"
   ]
  },
  {
   "cell_type": "code",
   "execution_count": 12,
   "id": "78049136-4b4a-49d7-b142-6c278b57f3eb",
   "metadata": {},
   "outputs": [
    {
     "data": {
      "text/plain": [
       "9"
      ]
     },
     "execution_count": 12,
     "metadata": {},
     "output_type": "execute_result"
    }
   ],
   "source": [
    "x=9\n",
    "x"
   ]
  },
  {
   "cell_type": "code",
   "execution_count": 14,
   "id": "64362ed5-6a45-484d-94a8-1662d4e093f9",
   "metadata": {},
   "outputs": [
    {
     "data": {
      "text/plain": [
       "12"
      ]
     },
     "execution_count": 14,
     "metadata": {},
     "output_type": "execute_result"
    }
   ],
   "source": [
    "x+y"
   ]
  },
  {
   "cell_type": "code",
   "execution_count": 18,
   "id": "163e5965-8f51-4cf9-85c3-b873eaf47c0e",
   "metadata": {},
   "outputs": [
    {
     "data": {
      "text/plain": [
       "19"
      ]
     },
     "execution_count": 18,
     "metadata": {},
     "output_type": "execute_result"
    }
   ],
   "source": [
    "x+10"
   ]
  },
  {
   "cell_type": "code",
   "execution_count": 20,
   "id": "0c9d99b8-1af8-4360-b272-964e63c55e9d",
   "metadata": {},
   "outputs": [
    {
     "ename": "TypeError",
     "evalue": "can only concatenate str (not \"int\") to str",
     "output_type": "error",
     "traceback": [
      "\u001b[1;31m---------------------------------------------------------------------------\u001b[0m",
      "\u001b[1;31mTypeError\u001b[0m                                 Traceback (most recent call last)",
      "Cell \u001b[1;32mIn[20], line 1\u001b[0m\n\u001b[1;32m----> 1\u001b[0m _\u001b[38;5;241m+\u001b[39my\n",
      "\u001b[1;31mTypeError\u001b[0m: can only concatenate str (not \"int\") to str"
     ]
    }
   ],
   "source": [
    "_+y"
   ]
  },
  {
   "cell_type": "code",
   "execution_count": null,
   "id": "6776f8b9-03d6-4ae1-8f9a-a0422a4317cc",
   "metadata": {},
   "outputs": [],
   "source": [
    "name='mit'"
   ]
  },
  {
   "cell_type": "markdown",
   "id": "26eaeb79-0e78-4c58-95a7-c75406e896f9",
   "metadata": {},
   "source": []
  },
  {
   "cell_type": "code",
   "execution_count": 27,
   "id": "755c8eea-72d8-4554-96cc-a6e0dc20bfec",
   "metadata": {},
   "outputs": [
    {
     "data": {
      "text/plain": [
       "'mit'"
      ]
     },
     "execution_count": 27,
     "metadata": {},
     "output_type": "execute_result"
    }
   ],
   "source": [
    "name"
   ]
  },
  {
   "cell_type": "code",
   "execution_count": 31,
   "id": "f47660e1-dc6f-41fb-a133-00edde970a13",
   "metadata": {},
   "outputs": [
    {
     "data": {
      "text/plain": [
       "'mit technology'"
      ]
     },
     "execution_count": 31,
     "metadata": {},
     "output_type": "execute_result"
    }
   ],
   "source": [
    "name+ ' technology'"
   ]
  },
  {
   "cell_type": "code",
   "execution_count": 33,
   "id": "111c2813-a698-4e2c-ad25-7f51ba68c4e5",
   "metadata": {},
   "outputs": [
    {
     "data": {
      "text/plain": [
       "3"
      ]
     },
     "execution_count": 33,
     "metadata": {},
     "output_type": "execute_result"
    }
   ],
   "source": [
    "len(name)"
   ]
  },
  {
   "cell_type": "code",
   "execution_count": 37,
   "id": "743f9a7b-f8c2-4ef1-a0d2-95c18ffe9aac",
   "metadata": {},
   "outputs": [
    {
     "ename": "IndexError",
     "evalue": "string index out of range",
     "output_type": "error",
     "traceback": [
      "\u001b[1;31m---------------------------------------------------------------------------\u001b[0m",
      "\u001b[1;31mIndexError\u001b[0m                                Traceback (most recent call last)",
      "Cell \u001b[1;32mIn[37], line 1\u001b[0m\n\u001b[1;32m----> 1\u001b[0m name[\u001b[38;5;241m5\u001b[39m]\n",
      "\u001b[1;31mIndexError\u001b[0m: string index out of range"
     ]
    }
   ],
   "source": [
    "name[5]"
   ]
  },
  {
   "cell_type": "code",
   "execution_count": 39,
   "id": "666ed277-4a96-40fe-9a89-179482b74b62",
   "metadata": {},
   "outputs": [
    {
     "data": {
      "text/plain": [
       "'i'"
      ]
     },
     "execution_count": 39,
     "metadata": {},
     "output_type": "execute_result"
    }
   ],
   "source": [
    "name[1]"
   ]
  },
  {
   "cell_type": "code",
   "execution_count": 41,
   "id": "b9c4439c-ddae-4c27-9932-0a97179b6f7f",
   "metadata": {},
   "outputs": [
    {
     "ename": "IndexError",
     "evalue": "string index out of range",
     "output_type": "error",
     "traceback": [
      "\u001b[1;31m---------------------------------------------------------------------------\u001b[0m",
      "\u001b[1;31mIndexError\u001b[0m                                Traceback (most recent call last)",
      "Cell \u001b[1;32mIn[41], line 1\u001b[0m\n\u001b[1;32m----> 1\u001b[0m name[\u001b[38;5;241m3\u001b[39m]\n",
      "\u001b[1;31mIndexError\u001b[0m: string index out of range"
     ]
    }
   ],
   "source": [
    "name[3]"
   ]
  },
  {
   "cell_type": "code",
   "execution_count": 43,
   "id": "1118e8c9-dda5-4464-a138-285fa10c34ec",
   "metadata": {},
   "outputs": [
    {
     "data": {
      "text/plain": [
       "'m'"
      ]
     },
     "execution_count": 43,
     "metadata": {},
     "output_type": "execute_result"
    }
   ],
   "source": [
    "name[0]"
   ]
  },
  {
   "cell_type": "code",
   "execution_count": 49,
   "id": "85005ee7-4b95-413e-a5ed-e75920d2a727",
   "metadata": {},
   "outputs": [
    {
     "data": {
      "text/plain": [
       "'it'"
      ]
     },
     "execution_count": 49,
     "metadata": {},
     "output_type": "execute_result"
    }
   ],
   "source": [
    "name[1:4]"
   ]
  },
  {
   "cell_type": "code",
   "execution_count": 51,
   "id": "23be7bd7-4e07-4cfb-bd3c-ffa893da1a75",
   "metadata": {},
   "outputs": [
    {
     "data": {
      "text/plain": [
       "'mit'"
      ]
     },
     "execution_count": 51,
     "metadata": {},
     "output_type": "execute_result"
    }
   ],
   "source": [
    "name[:4]"
   ]
  },
  {
   "cell_type": "code",
   "execution_count": 53,
   "id": "9149b197-5de9-433a-bf65-60e26470f974",
   "metadata": {},
   "outputs": [
    {
     "data": {
      "text/plain": [
       "'mit'"
      ]
     },
     "execution_count": 53,
     "metadata": {},
     "output_type": "execute_result"
    }
   ],
   "source": [
    "name[:]"
   ]
  },
  {
   "cell_type": "code",
   "execution_count": 55,
   "id": "ff4be2b6-74b7-4a33-ab55-51f0fe3c3fd7",
   "metadata": {},
   "outputs": [
    {
     "data": {
      "text/plain": [
       "'t'"
      ]
     },
     "execution_count": 55,
     "metadata": {},
     "output_type": "execute_result"
    }
   ],
   "source": [
    "name[-1:4]"
   ]
  },
  {
   "cell_type": "code",
   "execution_count": 63,
   "id": "dc723891-1968-4f88-8e83-b9a4ef759cff",
   "metadata": {},
   "outputs": [
    {
     "data": {
      "text/plain": [
       "'mit'"
      ]
     },
     "execution_count": 63,
     "metadata": {},
     "output_type": "execute_result"
    }
   ],
   "source": [
    "name[-4:6]"
   ]
  },
  {
   "cell_type": "code",
   "execution_count": 65,
   "id": "86543944-b1d7-47eb-ae8a-5233849cc65c",
   "metadata": {},
   "outputs": [],
   "source": [
    "num=5"
   ]
  },
  {
   "cell_type": "code",
   "execution_count": 67,
   "id": "613ffbad-4716-4fb2-ba8d-3c86860b4d11",
   "metadata": {},
   "outputs": [
    {
     "data": {
      "text/plain": [
       "140703380154936"
      ]
     },
     "execution_count": 67,
     "metadata": {},
     "output_type": "execute_result"
    }
   ],
   "source": [
    "id(num)"
   ]
  },
  {
   "cell_type": "code",
   "execution_count": 69,
   "id": "90ddac32-a5c4-47c0-bc8f-15736c6401ab",
   "metadata": {},
   "outputs": [
    {
     "data": {
      "text/plain": [
       "140703380154936"
      ]
     },
     "execution_count": 69,
     "metadata": {},
     "output_type": "execute_result"
    }
   ],
   "source": [
    "age=5\n",
    "id(age)"
   ]
  },
  {
   "cell_type": "code",
   "execution_count": 75,
   "id": "250968fd-b3ef-4ab9-9251-a906bd9ce77c",
   "metadata": {},
   "outputs": [],
   "source": [
    "n=7\n",
    "a=-(n)"
   ]
  },
  {
   "cell_type": "code",
   "execution_count": 78,
   "id": "995b8d7a-0a02-474c-9460-05709eb95cec",
   "metadata": {},
   "outputs": [
    {
     "data": {
      "text/plain": [
       "-7"
      ]
     },
     "execution_count": 78,
     "metadata": {},
     "output_type": "execute_result"
    }
   ],
   "source": [
    "a"
   ]
  },
  {
   "cell_type": "code",
   "execution_count": 80,
   "id": "1050c655-3970-4a83-b23d-58acee9ba70e",
   "metadata": {},
   "outputs": [
    {
     "data": {
      "text/plain": [
       "4"
      ]
     },
     "execution_count": 80,
     "metadata": {},
     "output_type": "execute_result"
    }
   ],
   "source": [
    "a=5\n",
    "b=4\n",
    "a and b"
   ]
  },
  {
   "cell_type": "code",
   "execution_count": 82,
   "id": "6c6c1738-269a-4456-afe7-d22cb396d87a",
   "metadata": {},
   "outputs": [
    {
     "data": {
      "text/plain": [
       "5"
      ]
     },
     "execution_count": 82,
     "metadata": {},
     "output_type": "execute_result"
    }
   ],
   "source": [
    "a or b"
   ]
  },
  {
   "cell_type": "code",
   "execution_count": 94,
   "id": "dae0f2ad-c31d-4f36-bb5a-fda37a3a08aa",
   "metadata": {},
   "outputs": [
    {
     "data": {
      "text/plain": [
       "8"
      ]
     },
     "execution_count": 94,
     "metadata": {},
     "output_type": "execute_result"
    }
   ],
   "source": [
    "5+3\n"
   ]
  },
  {
   "cell_type": "code",
   "execution_count": null,
   "id": "474afb9e-a68f-4602-bd0a-95ca8d009bd5",
   "metadata": {},
   "outputs": [],
   "source": [
    "#introduction to id\n"
   ]
  },
  {
   "cell_type": "code",
   "execution_count": 103,
   "id": "1eb9dfbc-bb6d-406f-91ab-5e13b3c76366",
   "metadata": {},
   "outputs": [],
   "source": [
    "num=5\n",
    "\n"
   ]
  },
  {
   "cell_type": "code",
   "execution_count": 105,
   "id": "2521f678-4b07-43e1-880f-05044b03b91e",
   "metadata": {},
   "outputs": [
    {
     "data": {
      "text/plain": [
       "140703380154936"
      ]
     },
     "execution_count": 105,
     "metadata": {},
     "output_type": "execute_result"
    }
   ],
   "source": [
    "id(num)"
   ]
  },
  {
   "cell_type": "code",
   "execution_count": 107,
   "id": "8e3057a6-1ad8-46db-9a53-a43fe2d8e2f7",
   "metadata": {},
   "outputs": [
    {
     "data": {
      "text/plain": [
       "140703380154936"
      ]
     },
     "execution_count": 107,
     "metadata": {},
     "output_type": "execute_result"
    }
   ],
   "source": [
    "id(5)"
   ]
  },
  {
   "cell_type": "code",
   "execution_count": 109,
   "id": "4482e19c-d40e-4e09-9d4a-26e9f40358db",
   "metadata": {},
   "outputs": [],
   "source": [
    "#constants\n"
   ]
  },
  {
   "cell_type": "code",
   "execution_count": 111,
   "id": "0f7ff0f3-481c-42d3-9549-12758be5f3e7",
   "metadata": {},
   "outputs": [],
   "source": [
    "PI=3.14"
   ]
  },
  {
   "cell_type": "code",
   "execution_count": 113,
   "id": "a9543e7e-46a1-4912-9f5b-ac721b0c83d1",
   "metadata": {},
   "outputs": [],
   "source": [
    "PI=3.15"
   ]
  },
  {
   "cell_type": "code",
   "execution_count": 115,
   "id": "444e054d-5016-43e3-84ab-c9d188adde60",
   "metadata": {},
   "outputs": [
    {
     "data": {
      "text/plain": [
       "float"
      ]
     },
     "execution_count": 115,
     "metadata": {},
     "output_type": "execute_result"
    }
   ],
   "source": [
    "type(PI)"
   ]
  },
  {
   "cell_type": "code",
   "execution_count": 117,
   "id": "f3a1ba5b-ddda-4bbb-8167-c266739d3cc2",
   "metadata": {},
   "outputs": [],
   "source": [
    "# operators\n"
   ]
  },
  {
   "attachments": {
    "e03664f1-2e6a-4bb7-8ec8-1ca54e327314.png": {
     "image/png": "[encoded data removed]"
    }
   },
   "cell_type": "markdown",
   "id": "e6ee94e9-b18b-48b4-b47d-6448521dfbc5",
   "metadata": {},
   "source": [
    "![image.png](attachment:e03664f1-2e6a-4bb7-8ec8-1ca54e327314.png)"
   ]
  },
  {
   "cell_type": "code",
   "execution_count": 120,
   "id": "40d9f9f7-245f-4a9e-9341-39d2f0fed063",
   "metadata": {},
   "outputs": [],
   "source": [
    "#aritnhmatic operators(+,-,/,%,*,//)"
   ]
  },
  {
   "cell_type": "code",
   "execution_count": 122,
   "id": "74b7f378-7466-43d1-aa6d-e75ebb6021d9",
   "metadata": {},
   "outputs": [
    {
     "data": {
      "text/plain": [
       "15"
      ]
     },
     "execution_count": 122,
     "metadata": {},
     "output_type": "execute_result"
    }
   ],
   "source": [
    "a=5\n",
    "b=10\n",
    "a+b"
   ]
  },
  {
   "cell_type": "code",
   "execution_count": 124,
   "id": "778da962-e35c-45c6-8b30-7d8f6a398ff7",
   "metadata": {},
   "outputs": [
    {
     "data": {
      "text/plain": [
       "15"
      ]
     },
     "execution_count": 124,
     "metadata": {},
     "output_type": "execute_result"
    }
   ],
   "source": [
    "a^b"
   ]
  },
  {
   "cell_type": "code",
   "execution_count": 126,
   "id": "737b05eb-ad85-4746-b7a2-9c9a78e88ebd",
   "metadata": {},
   "outputs": [],
   "source": [
    "x1,x2=10,5\n"
   ]
  },
  {
   "cell_type": "code",
   "execution_count": 128,
   "id": "d7dfd313-9cf0-4a96-b35b-21268a1bca3b",
   "metadata": {},
   "outputs": [
    {
     "data": {
      "text/plain": [
       "15"
      ]
     },
     "execution_count": 128,
     "metadata": {},
     "output_type": "execute_result"
    }
   ],
   "source": [
    "x1^x2"
   ]
  },
  {
   "cell_type": "code",
   "execution_count": 130,
   "id": "1fa2a2c5-1c30-40c9-9e40-604880f7f8e9",
   "metadata": {},
   "outputs": [
    {
     "data": {
      "text/plain": [
       "15"
      ]
     },
     "execution_count": 130,
     "metadata": {},
     "output_type": "execute_result"
    }
   ],
   "source": [
    "x1+x2"
   ]
  },
  {
   "cell_type": "code",
   "execution_count": 132,
   "id": "6e55f663-4c9e-4e96-b3c2-8f2c80ac3acb",
   "metadata": {},
   "outputs": [
    {
     "data": {
      "text/plain": [
       "5"
      ]
     },
     "execution_count": 132,
     "metadata": {},
     "output_type": "execute_result"
    }
   ],
   "source": [
    "x1-x2"
   ]
  },
  {
   "cell_type": "code",
   "execution_count": 134,
   "id": "b3fe511f-b7d7-4d03-a4c4-9ee718fc3b9d",
   "metadata": {},
   "outputs": [
    {
     "data": {
      "text/plain": [
       "50"
      ]
     },
     "execution_count": 134,
     "metadata": {},
     "output_type": "execute_result"
    }
   ],
   "source": [
    "x1*x2"
   ]
  },
  {
   "cell_type": "code",
   "execution_count": 136,
   "id": "3c27b472-9fc1-447c-9dc2-ceb4a5bb4a7c",
   "metadata": {},
   "outputs": [
    {
     "data": {
      "text/plain": [
       "2.0"
      ]
     },
     "execution_count": 136,
     "metadata": {},
     "output_type": "execute_result"
    }
   ],
   "source": [
    "x1/x2"
   ]
  },
  {
   "cell_type": "code",
   "execution_count": 138,
   "id": "403e5c89-c7de-4dae-85d8-fe2c88a75e27",
   "metadata": {},
   "outputs": [
    {
     "data": {
      "text/plain": [
       "2"
      ]
     },
     "execution_count": 138,
     "metadata": {},
     "output_type": "execute_result"
    }
   ],
   "source": [
    "x1//x2"
   ]
  },
  {
   "cell_type": "code",
   "execution_count": 140,
   "id": "bc14ccd2-93e9-4fc1-b51b-771e3cc30725",
   "metadata": {},
   "outputs": [
    {
     "data": {
      "text/plain": [
       "0"
      ]
     },
     "execution_count": 140,
     "metadata": {},
     "output_type": "execute_result"
    }
   ],
   "source": [
    "x1%x2"
   ]
  },
  {
   "cell_type": "code",
   "execution_count": 142,
   "id": "7eb699aa-ec9f-4d79-b701-5ab202e774e2",
   "metadata": {},
   "outputs": [
    {
     "data": {
      "text/plain": [
       "100000"
      ]
     },
     "execution_count": 142,
     "metadata": {},
     "output_type": "execute_result"
    }
   ],
   "source": [
    "x1**x2"
   ]
  },
  {
   "cell_type": "code",
   "execution_count": 182,
   "id": "768cf8ba-a922-45a0-9362-c21cef35dc02",
   "metadata": {},
   "outputs": [
    {
     "data": {
      "text/plain": [
       "9"
      ]
     },
     "execution_count": 182,
     "metadata": {},
     "output_type": "execute_result"
    }
   ],
   "source": [
    "x2=3\n",
    "y2=2\n",
    "x2**y2"
   ]
  },
  {
   "cell_type": "markdown",
   "id": "57faec07-2598-4fa1-8903-73fe2345835d",
   "metadata": {},
   "source": [
    "#assignment operator#"
   ]
  },
  {
   "cell_type": "code",
   "execution_count": 185,
   "id": "7aa9c79f-20f1-4391-af47-d79be7545f61",
   "metadata": {},
   "outputs": [],
   "source": [
    "x=2\n",
    "x=x+2"
   ]
  },
  {
   "cell_type": "code",
   "execution_count": 187,
   "id": "f220788d-b30b-4194-a756-8ebbe0b857d4",
   "metadata": {},
   "outputs": [
    {
     "data": {
      "text/plain": [
       "4"
      ]
     },
     "execution_count": 187,
     "metadata": {},
     "output_type": "execute_result"
    }
   ],
   "source": [
    "x"
   ]
  },
  {
   "cell_type": "code",
   "execution_count": 189,
   "id": "f78f7d3c-2192-47e0-8b5f-127c83e45d44",
   "metadata": {},
   "outputs": [],
   "source": [
    "x+=2"
   ]
  },
  {
   "cell_type": "code",
   "execution_count": 191,
   "id": "122df728-e1c1-4478-bd8e-ba7bfd300b3e",
   "metadata": {},
   "outputs": [
    {
     "data": {
      "text/plain": [
       "6"
      ]
     },
     "execution_count": 191,
     "metadata": {},
     "output_type": "execute_result"
    }
   ],
   "source": [
    "x"
   ]
  },
  {
   "cell_type": "code",
   "execution_count": 193,
   "id": "50d10a01-f133-4c9f-93c7-099f94a78b86",
   "metadata": {},
   "outputs": [],
   "source": [
    "x*=2"
   ]
  },
  {
   "cell_type": "code",
   "execution_count": 195,
   "id": "5da6fcdc-9bcd-42b1-a680-cced7b208582",
   "metadata": {},
   "outputs": [
    {
     "data": {
      "text/plain": [
       "12"
      ]
     },
     "execution_count": 195,
     "metadata": {},
     "output_type": "execute_result"
    }
   ],
   "source": [
    "x"
   ]
  },
  {
   "cell_type": "code",
   "execution_count": 197,
   "id": "f034a077-14f2-43fb-82f8-ea7ce8728a76",
   "metadata": {},
   "outputs": [],
   "source": [
    "x-=2"
   ]
  },
  {
   "cell_type": "code",
   "execution_count": 199,
   "id": "3f2536fd-d01f-4f1a-8280-93411286d1c6",
   "metadata": {},
   "outputs": [
    {
     "data": {
      "text/plain": [
       "10"
      ]
     },
     "execution_count": 199,
     "metadata": {},
     "output_type": "execute_result"
    }
   ],
   "source": [
    "x"
   ]
  },
  {
   "cell_type": "code",
   "execution_count": 201,
   "id": "476057f4-d574-45b3-ae08-af00dcef146d",
   "metadata": {},
   "outputs": [],
   "source": [
    "x/=2"
   ]
  },
  {
   "cell_type": "code",
   "execution_count": 203,
   "id": "259eacb1-15a0-4471-8d13-ff9eab73808b",
   "metadata": {},
   "outputs": [
    {
     "data": {
      "text/plain": [
       "5.0"
      ]
     },
     "execution_count": 203,
     "metadata": {},
     "output_type": "execute_result"
    }
   ],
   "source": [
    "x"
   ]
  },
  {
   "cell_type": "code",
   "execution_count": 205,
   "id": "3516b72b-e47a-4cd9-80e8-08793e24501e",
   "metadata": {},
   "outputs": [],
   "source": [
    "x//=2"
   ]
  },
  {
   "cell_type": "code",
   "execution_count": 207,
   "id": "42239491-67b1-4827-9c40-1f03dbd22a25",
   "metadata": {},
   "outputs": [
    {
     "data": {
      "text/plain": [
       "2.0"
      ]
     },
     "execution_count": 207,
     "metadata": {},
     "output_type": "execute_result"
    }
   ],
   "source": [
    "x"
   ]
  },
  {
   "cell_type": "code",
   "execution_count": 209,
   "id": "de86f797-1bcb-4cda-bddf-696bbc2340da",
   "metadata": {},
   "outputs": [],
   "source": [
    "a,b=5,6#unary operator"
   ]
  },
  {
   "cell_type": "code",
   "execution_count": 211,
   "id": "efd5dfe3-cb4f-4653-be84-398e4138256b",
   "metadata": {},
   "outputs": [
    {
     "data": {
      "text/plain": [
       "5"
      ]
     },
     "execution_count": 211,
     "metadata": {},
     "output_type": "execute_result"
    }
   ],
   "source": [
    "a"
   ]
  },
  {
   "cell_type": "code",
   "execution_count": 213,
   "id": "1516a2c2-b168-4e27-b415-874f2a17a7e1",
   "metadata": {},
   "outputs": [
    {
     "data": {
      "text/plain": [
       "6"
      ]
     },
     "execution_count": 213,
     "metadata": {},
     "output_type": "execute_result"
    }
   ],
   "source": [
    "b"
   ]
  },
  {
   "cell_type": "code",
   "execution_count": 217,
   "id": "66d88120-fc6a-47da-afac-bc97f45eeff8",
   "metadata": {},
   "outputs": [],
   "source": [
    "a=-(5)"
   ]
  },
  {
   "cell_type": "code",
   "execution_count": 220,
   "id": "5525d6ac-e768-4dca-a14a-66356fcf19eb",
   "metadata": {},
   "outputs": [
    {
     "data": {
      "text/plain": [
       "-5"
      ]
     },
     "execution_count": 220,
     "metadata": {},
     "output_type": "execute_result"
    }
   ],
   "source": [
    "a"
   ]
  },
  {
   "cell_type": "code",
   "execution_count": 222,
   "id": "7f598e09-aa1e-45be-9a66-7aa9fdf6b5c9",
   "metadata": {},
   "outputs": [
    {
     "data": {
      "text/plain": [
       "7"
      ]
     },
     "execution_count": 222,
     "metadata": {},
     "output_type": "execute_result"
    }
   ],
   "source": [
    "n=7\n",
    "n"
   ]
  },
  {
   "cell_type": "markdown",
   "id": "b684a4cf-0555-46ae-b3ba-c267543d1723",
   "metadata": {},
   "source": [
    "m=-(n)"
   ]
  },
  {
   "cell_type": "code",
   "execution_count": 227,
   "id": "56001e53-44b6-4a16-91cb-bacbf2c525f9",
   "metadata": {},
   "outputs": [],
   "source": [
    "m=-(n)"
   ]
  },
  {
   "cell_type": "markdown",
   "id": "17e6b063-b000-4a34-a29e-e44c7121504c",
   "metadata": {},
   "source": [
    "m"
   ]
  },
  {
   "cell_type": "code",
   "execution_count": 230,
   "id": "bf722674-7e54-4952-b9f8-649e8f8d5c35",
   "metadata": {},
   "outputs": [
    {
     "data": {
      "text/plain": [
       "-7"
      ]
     },
     "execution_count": 230,
     "metadata": {},
     "output_type": "execute_result"
    }
   ],
   "source": [
    "m"
   ]
  },
  {
   "cell_type": "code",
   "execution_count": 234,
   "id": "f1e26eb5-9f8b-4f7a-9c5f-c45b2ff6d2e7",
   "metadata": {},
   "outputs": [
    {
     "data": {
      "text/plain": [
       "-7"
      ]
     },
     "execution_count": 234,
     "metadata": {},
     "output_type": "execute_result"
    }
   ],
   "source": [
    "-n"
   ]
  },
  {
   "cell_type": "markdown",
   "id": "5ebd0109-c970-4a3c-879e-c88836df784f",
   "metadata": {},
   "source": [
    "RELATIONAL OPERATOR(==,<,>,<=,>=,!=)"
   ]
  },
  {
   "cell_type": "code",
   "execution_count": 238,
   "id": "4523081f-8480-499d-9158-1314accc9c73",
   "metadata": {},
   "outputs": [],
   "source": [
    "a,b=5,6"
   ]
  },
  {
   "cell_type": "code",
   "execution_count": 240,
   "id": "ba8118e5-975d-4318-a60f-1a000f1c428a",
   "metadata": {},
   "outputs": [
    {
     "data": {
      "text/plain": [
       "5"
      ]
     },
     "execution_count": 240,
     "metadata": {},
     "output_type": "execute_result"
    }
   ],
   "source": [
    "a"
   ]
  },
  {
   "cell_type": "code",
   "execution_count": 242,
   "id": "cfb72c46-b2e4-4ddb-8499-e547f7c3e076",
   "metadata": {},
   "outputs": [
    {
     "data": {
      "text/plain": [
       "6"
      ]
     },
     "execution_count": 242,
     "metadata": {},
     "output_type": "execute_result"
    }
   ],
   "source": [
    "b"
   ]
  },
  {
   "cell_type": "code",
   "execution_count": 244,
   "id": "af813114-dc68-40ba-95a8-95d6d45784c1",
   "metadata": {},
   "outputs": [
    {
     "data": {
      "text/plain": [
       "True"
      ]
     },
     "execution_count": 244,
     "metadata": {},
     "output_type": "execute_result"
    }
   ],
   "source": [
    "a<b"
   ]
  },
  {
   "cell_type": "code",
   "execution_count": 246,
   "id": "2addc73a-f0c9-45cd-b381-fff768b88c5d",
   "metadata": {},
   "outputs": [
    {
     "data": {
      "text/plain": [
       "False"
      ]
     },
     "execution_count": 246,
     "metadata": {},
     "output_type": "execute_result"
    }
   ],
   "source": [
    "b<a"
   ]
  },
  {
   "cell_type": "code",
   "execution_count": 248,
   "id": "e132da85-880a-4927-8ff1-9adfcaec9ca8",
   "metadata": {},
   "outputs": [
    {
     "data": {
      "text/plain": [
       "True"
      ]
     },
     "execution_count": 248,
     "metadata": {},
     "output_type": "execute_result"
    }
   ],
   "source": [
    "b>a"
   ]
  },
  {
   "cell_type": "code",
   "execution_count": 250,
   "id": "cbf2938d-f017-4a65-a065-be7ead122da7",
   "metadata": {},
   "outputs": [
    {
     "data": {
      "text/plain": [
       "False"
      ]
     },
     "execution_count": 250,
     "metadata": {},
     "output_type": "execute_result"
    }
   ],
   "source": [
    "b<=a"
   ]
  },
  {
   "cell_type": "code",
   "execution_count": 252,
   "id": "f58ded5b-8007-4c46-ba2f-87c003c8644f",
   "metadata": {},
   "outputs": [
    {
     "data": {
      "text/plain": [
       "True"
      ]
     },
     "execution_count": 252,
     "metadata": {},
     "output_type": "execute_result"
    }
   ],
   "source": [
    "b>=a"
   ]
  },
  {
   "cell_type": "code",
   "execution_count": 254,
   "id": "2a0c219c-ddf6-416a-aeef-272fe118e4f9",
   "metadata": {},
   "outputs": [
    {
     "data": {
      "text/plain": [
       "True"
      ]
     },
     "execution_count": 254,
     "metadata": {},
     "output_type": "execute_result"
    }
   ],
   "source": [
    "a<=a"
   ]
  },
  {
   "cell_type": "code",
   "execution_count": 256,
   "id": "f418130f-b045-4364-b41a-bad889944dfc",
   "metadata": {},
   "outputs": [
    {
     "data": {
      "text/plain": [
       "False"
      ]
     },
     "execution_count": 256,
     "metadata": {},
     "output_type": "execute_result"
    }
   ],
   "source": [
    "a==b"
   ]
  },
  {
   "cell_type": "code",
   "execution_count": 259,
   "id": "b4993c70-f9b5-4340-9ca9-5d6afce519ea",
   "metadata": {},
   "outputs": [
    {
     "data": {
      "text/plain": [
       "True"
      ]
     },
     "execution_count": 259,
     "metadata": {},
     "output_type": "execute_result"
    }
   ],
   "source": [
    "a!=b"
   ]
  },
  {
   "cell_type": "markdown",
   "id": "703ad002-3671-4dbb-a151-07aad45a9fe5",
   "metadata": {},
   "source": [
    "logial operator(and or not)"
   ]
  },
  {
   "attachments": {
    "b5c1d5b9-0d48-4c95-8067-b069353f38b4.png": {
     "image/png": "[encoded data removed]"
    }
   },
   "cell_type": "markdown",
   "id": "95fb6b7c-b00a-4371-a6e0-5351c294113a",
   "metadata": {},
   "source": [
    "![image.png](attachment:b5c1d5b9-0d48-4c95-8067-b069353f38b4.png)"
   ]
  },
  {
   "attachments": {
    "736637cc-d8b3-45ee-a082-030a0dc31e1e.png": {
     "image/png": "[encoded data removed]"
    }
   },
   "cell_type": "markdown",
   "id": "58c92bdb-c4fe-48fd-ad0e-937511878c3b",
   "metadata": {},
   "source": [
    "![image.png](attachment:736637cc-d8b3-45ee-a082-030a0dc31e1e.png)\n"
   ]
  },
  {
   "cell_type": "code",
   "execution_count": 264,
   "id": "5feb505f-e743-4ad1-b9ff-7fd170bd6c5e",
   "metadata": {},
   "outputs": [],
   "source": [
    "a,b=5,4"
   ]
  },
  {
   "cell_type": "code",
   "execution_count": 266,
   "id": "4c8777aa-c499-4ca9-8756-4654309ac495",
   "metadata": {},
   "outputs": [
    {
     "name": "stdout",
     "output_type": "stream",
     "text": [
      "5 4\n"
     ]
    }
   ],
   "source": [
    "print(a,b)"
   ]
  },
  {
   "cell_type": "code",
   "execution_count": 270,
   "id": "44f9f776-93e5-46db-bf5e-edc6f6157c2b",
   "metadata": {},
   "outputs": [
    {
     "data": {
      "text/plain": [
       "True"
      ]
     },
     "execution_count": 270,
     "metadata": {},
     "output_type": "execute_result"
    }
   ],
   "source": [
    "a<8 and b<5"
   ]
  },
  {
   "cell_type": "code",
   "execution_count": 272,
   "id": "ab98c760-e8c2-4512-bc77-e02db07f07b8",
   "metadata": {},
   "outputs": [
    {
     "data": {
      "text/plain": [
       "False"
      ]
     },
     "execution_count": 272,
     "metadata": {},
     "output_type": "execute_result"
    }
   ],
   "source": [
    "x=False\n",
    "x"
   ]
  },
  {
   "cell_type": "code",
   "execution_count": 274,
   "id": "6e27b997-9ba3-4eb3-8868-6b4a683166ee",
   "metadata": {},
   "outputs": [
    {
     "data": {
      "text/plain": [
       "True"
      ]
     },
     "execution_count": 274,
     "metadata": {},
     "output_type": "execute_result"
    }
   ],
   "source": [
    "not x"
   ]
  },
  {
   "cell_type": "code",
   "execution_count": 276,
   "id": "dd0e0027-ce11-4711-af91-94eec5c97a41",
   "metadata": {},
   "outputs": [
    {
     "data": {
      "text/plain": [
       "2"
      ]
     },
     "execution_count": 276,
     "metadata": {},
     "output_type": "execute_result"
    }
   ],
   "source": [
    "x=2\n",
    "x"
   ]
  },
  {
   "cell_type": "code",
   "execution_count": 278,
   "id": "2a0e3eab-2d28-45de-825a-1ad27ad92dce",
   "metadata": {},
   "outputs": [
    {
     "data": {
      "text/plain": [
       "5"
      ]
     },
     "execution_count": 278,
     "metadata": {},
     "output_type": "execute_result"
    }
   ],
   "source": [
    "y=5\n",
    "y"
   ]
  },
  {
   "cell_type": "code",
   "execution_count": 280,
   "id": "043bbf34-49f0-420f-9cdd-40f0edeb8bf2",
   "metadata": {},
   "outputs": [
    {
     "data": {
      "text/plain": [
       "7"
      ]
     },
     "execution_count": 280,
     "metadata": {},
     "output_type": "execute_result"
    }
   ],
   "source": [
    "x+y"
   ]
  },
  {
   "cell_type": "code",
   "execution_count": 282,
   "id": "24f48767-798e-43dd-bba2-e75451c5b04a",
   "metadata": {},
   "outputs": [
    {
     "ename": "TypeError",
     "evalue": "can only concatenate str (not \"int\") to str",
     "output_type": "error",
     "traceback": [
      "\u001b[1;31m---------------------------------------------------------------------------\u001b[0m",
      "\u001b[1;31mTypeError\u001b[0m                                 Traceback (most recent call last)",
      "Cell \u001b[1;32mIn[282], line 1\u001b[0m\n\u001b[1;32m----> 1\u001b[0m _\u001b[38;5;241m+\u001b[39my\n",
      "\u001b[1;31mTypeError\u001b[0m: can only concatenate str (not \"int\") to str"
     ]
    }
   ],
   "source": [
    "_+y"
   ]
  },
  {
   "cell_type": "code",
   "execution_count": null,
   "id": "469f495f-6410-4087-8508-7048139d3e58",
   "metadata": {},
   "outputs": [],
   "source": []
  }
 ],
 "metadata": {
  "kernelspec": {
   "display_name": "Python [conda env:base] *",
   "language": "python",
   "name": "conda-base-py"
  },
  "language_info": {
   "codemirror_mode": {
    "name": "ipython",
    "version": 3
   },
   "file_extension": ".py",
   "mimetype": "text/x-python",
   "name": "python",
   "nbconvert_exporter": "python",
   "pygments_lexer": "ipython3",
   "version": "3.12.7"
  }
 },
 "nbformat": 4,
 "nbformat_minor": 5
}
