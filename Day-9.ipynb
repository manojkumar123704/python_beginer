{
 "cells": [
  {
   "cell_type": "markdown",
   "id": "c7edde01-d9ea-4295-9b8c-f74b14ef67ae",
   "metadata": {},
   "source": [
    "Data types in Python\n"
   ]
  },
  {
   "cell_type": "code",
   "execution_count": 1,
   "id": "5f7848b0-8bac-4b49-82d5-e069dff667cb",
   "metadata": {},
   "outputs": [],
   "source": [
    "#int"
   ]
  },
  {
   "cell_type": "code",
   "execution_count": 2,
   "id": "663cb32d-1ae3-4bdc-9c42-1c2c3f57f7cd",
   "metadata": {},
   "outputs": [
    {
     "data": {
      "text/plain": [
       "2"
      ]
     },
     "execution_count": 2,
     "metadata": {},
     "output_type": "execute_result"
    }
   ],
   "source": [
    "i=2\n",
    "i"
   ]
  },
  {
   "cell_type": "code",
   "execution_count": 3,
   "id": "74363e01-36f4-4e60-b8ed-c5534ff5bc0b",
   "metadata": {},
   "outputs": [
    {
     "data": {
      "text/plain": [
       "int"
      ]
     },
     "execution_count": 3,
     "metadata": {},
     "output_type": "execute_result"
    }
   ],
   "source": [
    "type(i)"
   ]
  },
  {
   "cell_type": "code",
   "execution_count": 4,
   "id": "70f56cb0-0bca-4cc5-a1da-b48710234553",
   "metadata": {},
   "outputs": [],
   "source": [
    "#float\n"
   ]
  },
  {
   "cell_type": "code",
   "execution_count": 5,
   "id": "1d4c9cab-9b19-43c6-9763-6e3894bf3865",
   "metadata": {},
   "outputs": [
    {
     "data": {
      "text/plain": [
       "10.0"
      ]
     },
     "execution_count": 5,
     "metadata": {},
     "output_type": "execute_result"
    }
   ],
   "source": [
    "f=1e1\n",
    "f"
   ]
  },
  {
   "cell_type": "code",
   "execution_count": 6,
   "id": "17cda727-b7c3-483b-82d3-434669ba711b",
   "metadata": {},
   "outputs": [
    {
     "data": {
      "text/plain": [
       "True"
      ]
     },
     "execution_count": 6,
     "metadata": {},
     "output_type": "execute_result"
    }
   ],
   "source": [
    " b=True\n",
    "b"
   ]
  },
  {
   "cell_type": "code",
   "execution_count": 7,
   "id": "e65973df-2ba3-450d-9875-ccc5b142ef0d",
   "metadata": {},
   "outputs": [
    {
     "data": {
      "text/plain": [
       "['False',\n",
       " 'None',\n",
       " 'True',\n",
       " 'and',\n",
       " 'as',\n",
       " 'assert',\n",
       " 'async',\n",
       " 'await',\n",
       " 'break',\n",
       " 'class',\n",
       " 'continue',\n",
       " 'def',\n",
       " 'del',\n",
       " 'elif',\n",
       " 'else',\n",
       " 'except',\n",
       " 'finally',\n",
       " 'for',\n",
       " 'from',\n",
       " 'global',\n",
       " 'if',\n",
       " 'import',\n",
       " 'in',\n",
       " 'is',\n",
       " 'lambda',\n",
       " 'nonlocal',\n",
       " 'not',\n",
       " 'or',\n",
       " 'pass',\n",
       " 'raise',\n",
       " 'return',\n",
       " 'try',\n",
       " 'while',\n",
       " 'with',\n",
       " 'yield']"
      ]
     },
     "execution_count": 7,
     "metadata": {},
     "output_type": "execute_result"
    }
   ],
   "source": [
    "import keyword\n",
    "keyword.kwlist"
   ]
  },
  {
   "cell_type": "code",
   "execution_count": 8,
   "id": "421551e5-53a0-41e6-b30d-54911d924735",
   "metadata": {},
   "outputs": [
    {
     "data": {
      "text/plain": [
       "35"
      ]
     },
     "execution_count": 8,
     "metadata": {},
     "output_type": "execute_result"
    }
   ],
   "source": [
    "len(keyword.kwlist)"
   ]
  },
  {
   "cell_type": "code",
   "execution_count": 9,
   "id": "553f616d-63e6-40f6-a442-acdfdb37b003",
   "metadata": {},
   "outputs": [
    {
     "data": {
      "text/plain": [
       "bool"
      ]
     },
     "execution_count": 9,
     "metadata": {},
     "output_type": "execute_result"
    }
   ],
   "source": [
    "type(b)"
   ]
  },
  {
   "cell_type": "code",
   "execution_count": 10,
   "id": "4c3ec2e5-ee22-498c-99e7-057b005a5f53",
   "metadata": {},
   "outputs": [
    {
     "data": {
      "text/plain": [
       "False"
      ]
     },
     "execution_count": 10,
     "metadata": {},
     "output_type": "execute_result"
    }
   ],
   "source": [
    "b1=False\n",
    "b1"
   ]
  },
  {
   "cell_type": "code",
   "execution_count": 11,
   "id": "55eae36e-dda3-47ee-9ea4-1e5e3e3b233d",
   "metadata": {},
   "outputs": [
    {
     "name": "stdout",
     "output_type": "stream",
     "text": [
      "0\n",
      "1\n",
      "1\n",
      "True\n",
      "False\n"
     ]
    }
   ],
   "source": [
    "print(b*b1)\n",
    "print(b+b1)\n",
    "print(b-b1)\n",
    "print(b)\n",
    "print(b1)\n"
   ]
  },
  {
   "cell_type": "code",
   "execution_count": 12,
   "id": "52f90b39-cc65-4915-aea9-4c3f2303676a",
   "metadata": {},
   "outputs": [
    {
     "data": {
      "text/plain": [
       "0"
      ]
     },
     "execution_count": 12,
     "metadata": {},
     "output_type": "execute_result"
    }
   ],
   "source": [
    "True*False*True*False"
   ]
  },
  {
   "cell_type": "code",
   "execution_count": 13,
   "id": "34e6ff27-e42f-472e-ba9b-2cbb099f9775",
   "metadata": {},
   "outputs": [
    {
     "data": {
      "text/plain": [
       "3"
      ]
     },
     "execution_count": 13,
     "metadata": {},
     "output_type": "execute_result"
    }
   ],
   "source": [
    "True+True+True-False"
   ]
  },
  {
   "cell_type": "code",
   "execution_count": 14,
   "id": "d6ab9e7d-83bd-4eec-be42-e56a4d57a640",
   "metadata": {},
   "outputs": [
    {
     "data": {
      "text/plain": [
       "(3+3j)"
      ]
     },
     "execution_count": 14,
     "metadata": {},
     "output_type": "execute_result"
    }
   ],
   "source": [
    "c=3+3j\n",
    "c"
   ]
  },
  {
   "cell_type": "code",
   "execution_count": 15,
   "id": "287eadf7-06db-47b0-b903-84a83a0338f5",
   "metadata": {},
   "outputs": [
    {
     "data": {
      "text/plain": [
       "complex"
      ]
     },
     "execution_count": 15,
     "metadata": {},
     "output_type": "execute_result"
    }
   ],
   "source": [
    "type(c)"
   ]
  },
  {
   "cell_type": "code",
   "execution_count": 16,
   "id": "1642f941-aff1-4591-b07d-37c6e574771f",
   "metadata": {},
   "outputs": [
    {
     "name": "stdout",
     "output_type": "stream",
     "text": [
      "(5+5j)\n",
      "<class 'complex'>\n"
     ]
    }
   ],
   "source": [
    "c1=5+5j\n",
    "print(c1)\n",
    "print(type(c1))"
   ]
  },
  {
   "cell_type": "code",
   "execution_count": 17,
   "id": "f6007ca6-731d-4468-8dbf-a43c5e23cbef",
   "metadata": {},
   "outputs": [
    {
     "name": "stdout",
     "output_type": "stream",
     "text": [
      "3.0\n",
      "3.0\n",
      "<built-in method conjugate of complex object at 0x000001FAF06252D0>\n"
     ]
    }
   ],
   "source": [
    "print(c.real)\n",
    "print(c.imag)\n",
    "print(c.conjugate)"
   ]
  },
  {
   "cell_type": "code",
   "execution_count": 18,
   "id": "574d64c2-082a-4614-b6e0-2fe3b3638227",
   "metadata": {},
   "outputs": [
    {
     "data": {
      "text/plain": [
       "30j"
      ]
     },
     "execution_count": 18,
     "metadata": {},
     "output_type": "execute_result"
    }
   ],
   "source": [
    "c*c1"
   ]
  },
  {
   "cell_type": "code",
   "execution_count": 19,
   "id": "0cd42029-47cb-4a81-9ca9-df443801c8a2",
   "metadata": {},
   "outputs": [
    {
     "name": "stdout",
     "output_type": "stream",
     "text": [
      "<class 'float'>\n"
     ]
    }
   ],
   "source": [
    "print(type(c1.imag))"
   ]
  },
  {
   "cell_type": "code",
   "execution_count": 20,
   "id": "4b89675e-1ce7-4f0a-bf5f-2236364e9b2e",
   "metadata": {},
   "outputs": [
    {
     "name": "stdout",
     "output_type": "stream",
     "text": [
      "(2+3.5j)\n",
      "<class 'float'>\n",
      "<class 'float'>\n"
     ]
    }
   ],
   "source": [
    "c2=2+3.5j\n",
    "print(c2)\n",
    "print(type(c2.imag))\n",
    "print(type(c2.real))\n"
   ]
  },
  {
   "cell_type": "code",
   "execution_count": 21,
   "id": "dbdb0f12-1038-4dbe-9a5f-bfd571b37f57",
   "metadata": {},
   "outputs": [
    {
     "data": {
      "text/plain": [
       "'data science and machine learning have a great carrer ahead'"
      ]
     },
     "execution_count": 21,
     "metadata": {},
     "output_type": "execute_result"
    }
   ],
   "source": [
    "s='data science and machine learning have a great carrer ahead'\n",
    "s"
   ]
  },
  {
   "cell_type": "code",
   "execution_count": 22,
   "id": "b42c00b7-ff2a-443c-8f71-5b193c35c343",
   "metadata": {},
   "outputs": [
    {
     "name": "stdout",
     "output_type": "stream",
     "text": [
      "data science and machine learning have a great carrer ahead\n"
     ]
    }
   ],
   "source": [
    "print(s)"
   ]
  },
  {
   "cell_type": "code",
   "execution_count": 23,
   "id": "a2dcb4e5-be90-4842-be64-0e6791cb32b1",
   "metadata": {},
   "outputs": [
    {
     "data": {
      "text/plain": [
       "'data science and machine learning have a great carrer ahead'"
      ]
     },
     "execution_count": 23,
     "metadata": {},
     "output_type": "execute_result"
    }
   ],
   "source": [
    "s1=\"data science and machine learning have a great carrer ahead\"\n",
    "s1"
   ]
  },
  {
   "cell_type": "code",
   "execution_count": 24,
   "id": "3e27204e-b535-4167-8ead-2805d111a2bc",
   "metadata": {},
   "outputs": [
    {
     "data": {
      "text/plain": [
       "'data science and machine learning have a great carrer ahead'"
      ]
     },
     "execution_count": 24,
     "metadata": {},
     "output_type": "execute_result"
    }
   ],
   "source": [
    "s2='''data science and machine learning have a great carrer ahead'''\n",
    "s2"
   ]
  },
  {
   "cell_type": "code",
   "execution_count": 25,
   "id": "163010d9-4d45-4231-968d-f6c127874229",
   "metadata": {},
   "outputs": [
    {
     "name": "stdout",
     "output_type": "stream",
     "text": [
      "data science and machine learning have a great carrer ahead\n"
     ]
    }
   ],
   "source": [
    "print(s2)"
   ]
  },
  {
   "cell_type": "markdown",
   "id": "c23f96bc-70ce-4167-9c94-0d8b4026893c",
   "metadata": {},
   "source": [
    "#typecasting"
   ]
  },
  {
   "cell_type": "code",
   "execution_count": 26,
   "id": "762195a8-37c3-4a78-acf3-082a695ad471",
   "metadata": {},
   "outputs": [
    {
     "data": {
      "text/plain": [
       "str"
      ]
     },
     "execution_count": 26,
     "metadata": {},
     "output_type": "execute_result"
    }
   ],
   "source": [
    "type('4')"
   ]
  },
  {
   "cell_type": "code",
   "execution_count": 27,
   "id": "d52f4961-b470-4cdb-b16e-cf029e01a681",
   "metadata": {},
   "outputs": [
    {
     "name": "stdout",
     "output_type": "stream",
     "text": [
      "4.242640687119285\n"
     ]
    }
   ],
   "source": [
    "  print(abs(c))"
   ]
  },
  {
   "cell_type": "code",
   "execution_count": 28,
   "id": "b91ed347-0614-4d3a-890b-a5c892f5c3b6",
   "metadata": {},
   "outputs": [
    {
     "data": {
      "text/plain": [
       "(3-3j)"
      ]
     },
     "execution_count": 28,
     "metadata": {},
     "output_type": "execute_result"
    }
   ],
   "source": [
    "c.conjugate()"
   ]
  },
  {
   "cell_type": "code",
   "execution_count": 29,
   "id": "5e95bb30-55f9-42a6-afa4-f1843cadf569",
   "metadata": {},
   "outputs": [
    {
     "ename": "SyntaxError",
     "evalue": "invalid syntax (3140246920.py, line 2)",
     "output_type": "error",
     "traceback": [
      "\u001b[1;36m  Cell \u001b[1;32mIn[29], line 2\u001b[1;36m\u001b[0m\n\u001b[1;33m    syntax:variable name= value\u001b[0m\n\u001b[1;37m                    ^\u001b[0m\n\u001b[1;31mSyntaxError\u001b[0m\u001b[1;31m:\u001b[0m invalid syntax\n"
     ]
    }
   ],
   "source": [
    "#task-2\n",
    "syntax:variable name= value"
   ]
  },
  {
   "cell_type": "code",
   "execution_count": null,
   "id": "fc49803f-eef0-402c-855d-5765d8dc6538",
   "metadata": {},
   "outputs": [
    {
     "data": {
      "text/plain": [
       "25"
      ]
     },
     "execution_count": 85,
     "metadata": {},
     "output_type": "execute_result"
    }
   ],
   "source": [
    "age=25\n",
    "age\n"
   ]
  },
  {
   "cell_type": "code",
   "execution_count": null,
   "id": "30403721-a2f9-46ca-b0da-60c89db5724b",
   "metadata": {},
   "outputs": [
    {
     "name": "stdout",
     "output_type": "stream",
     "text": [
      "alice\n"
     ]
    },
    {
     "data": {
      "text/plain": [
       "'alice'"
      ]
     },
     "execution_count": 91,
     "metadata": {},
     "output_type": "execute_result"
    }
   ],
   "source": [
    "name='alice'\n",
    "print(name)\n",
    "name"
   ]
  },
  {
   "cell_type": "code",
   "execution_count": null,
   "id": "9bccc652-0249-43d3-8544-30d1408cb1dd",
   "metadata": {},
   "outputs": [
    {
     "name": "stdout",
     "output_type": "stream",
     "text": [
      "19.99\n"
     ]
    }
   ],
   "source": [
    "price=19.99\n",
    "print(price)\n"
   ]
  },
  {
   "cell_type": "code",
   "execution_count": null,
   "id": "ab166183-aa87-4966-a4b2-861478f9f977",
   "metadata": {},
   "outputs": [
    {
     "name": "stdout",
     "output_type": "stream",
     "text": [
      "True\n"
     ]
    }
   ],
   "source": [
    "is_active=True\n",
    "print(is_active)"
   ]
  },
  {
   "cell_type": "code",
   "execution_count": null,
   "id": "bd289cff-77b4-4461-b386-b9faa97fcb2f",
   "metadata": {},
   "outputs": [],
   "source": [
    "#using variables ina expression"
   ]
  },
  {
   "cell_type": "code",
   "execution_count": null,
   "id": "7c12fc4b-ecba-48d9-9ce3-a9a14c274394",
   "metadata": {},
   "outputs": [
    {
     "name": "stdout",
     "output_type": "stream",
     "text": [
      "value of result: 9\n"
     ]
    }
   ],
   "source": [
    "a=5\n",
    "b=4\n",
    "result=a+b\n",
    "print('value of result:',result)\n"
   ]
  },
  {
   "cell_type": "code",
   "execution_count": null,
   "id": "304f47de-79a2-4d1b-91c9-33e4d50953ee",
   "metadata": {},
   "outputs": [
    {
     "name": "stdout",
     "output_type": "stream",
     "text": [
      "50\n"
     ]
    }
   ],
   "source": [
    "score=50\n",
    "print(score)"
   ]
  },
  {
   "cell_type": "code",
   "execution_count": null,
   "id": "402cf981-544a-43ff-9aac-db804d6a86ea",
   "metadata": {},
   "outputs": [
    {
     "name": "stdout",
     "output_type": "stream",
     "text": [
      "100\n"
     ]
    }
   ],
   "source": [
    "score=100\n",
    "print(score)"
   ]
  },
  {
   "cell_type": "code",
   "execution_count": null,
   "id": "bace453c-b005-4996-b53c-f475224e1e41",
   "metadata": {},
   "outputs": [
    {
     "data": {
      "text/plain": [
       "100"
      ]
     },
     "execution_count": 117,
     "metadata": {},
     "output_type": "execute_result"
    }
   ],
   "source": [
    "score"
   ]
  },
  {
   "cell_type": "code",
   "execution_count": null,
   "id": "53a77262-0ca6-4bf2-9604-0f71315b9e11",
   "metadata": {},
   "outputs": [],
   "source": [
    "string_1='hello'\n",
    "string_2='welcome'\n",
    "full_string=string_1+ \" \" +string_2"
   ]
  },
  {
   "cell_type": "code",
   "execution_count": null,
   "id": "26993d0e-8f1f-400b-b805-5c1ef2e9a547",
   "metadata": {},
   "outputs": [
    {
     "name": "stdout",
     "output_type": "stream",
     "text": [
      "hello welcome\n"
     ]
    }
   ],
   "source": [
    "print(full_string)"
   ]
  },
  {
   "cell_type": "code",
   "execution_count": null,
   "id": "231a566f-7d2a-4ea6-8919-f82a0a88a650",
   "metadata": {},
   "outputs": [
    {
     "data": {
      "text/plain": [
       "'hello welcome'"
      ]
     },
     "execution_count": 147,
     "metadata": {},
     "output_type": "execute_result"
    }
   ],
   "source": [
    "full_string"
   ]
  },
  {
   "cell_type": "markdown",
   "id": "cdf3126c-51c5-4473-b4e8-2590cf1e0eb8",
   "metadata": {},
   "source": [
    "#using variable in calculation"
   ]
  },
  {
   "cell_type": "code",
   "execution_count": null,
   "id": "caa3c6c8-44e3-4718-9ffc-be247c31746d",
   "metadata": {},
   "outputs": [],
   "source": [
    "length=4\n",
    "width=4\n",
    "area=length*width\n"
   ]
  },
  {
   "cell_type": "code",
   "execution_count": null,
   "id": "9546cac2-4013-4c1e-8a7e-a23a0705dcce",
   "metadata": {},
   "outputs": [
    {
     "name": "stdout",
     "output_type": "stream",
     "text": [
      "16\n"
     ]
    }
   ],
   "source": [
    "print(area)"
   ]
  },
  {
   "cell_type": "markdown",
   "id": "30155885-6926-4c61-931f-05d985e716eb",
   "metadata": {},
   "source": [
    "#reassigning the values\n"
   ]
  },
  {
   "cell_type": "code",
   "execution_count": null,
   "id": "24468884-8047-40a3-9ef2-b90b07e3918a",
   "metadata": {},
   "outputs": [
    {
     "data": {
      "text/plain": [
       "45"
      ]
     },
     "execution_count": 153,
     "metadata": {},
     "output_type": "execute_result"
    }
   ],
   "source": [
    "x=10\n",
    "x=45\n",
    "x"
   ]
  },
  {
   "cell_type": "code",
   "execution_count": null,
   "id": "549858f6-43fd-408c-961b-63530db8b8b0",
   "metadata": {},
   "outputs": [],
   "source": [
    "#print is use for a sentence\n"
   ]
  },
  {
   "cell_type": "code",
   "execution_count": null,
   "id": "984177f9-b3b6-4ba0-b831-d31e25603ca9",
   "metadata": {},
   "outputs": [
    {
     "data": {
      "text/plain": [
       "3"
      ]
     },
     "execution_count": 155,
     "metadata": {},
     "output_type": "execute_result"
    }
   ],
   "source": [
    "a=10\n",
    "b=3\n",
    "a\n",
    "b"
   ]
  },
  {
   "cell_type": "code",
   "execution_count": null,
   "id": "a243e302-f5f4-4e13-ab05-78936da6a9c9",
   "metadata": {},
   "outputs": [
    {
     "name": "stdout",
     "output_type": "stream",
     "text": [
      "10\n",
      "3\n"
     ]
    }
   ],
   "source": [
    "print(a)\n",
    "print(b)"
   ]
  },
  {
   "cell_type": "code",
   "execution_count": null,
   "id": "2d5ec18a-dc2f-4880-b917-0cd9f6a87a5c",
   "metadata": {},
   "outputs": [
    {
     "name": "stdout",
     "output_type": "stream",
     "text": [
      "python\n",
      "10 3 python\n"
     ]
    }
   ],
   "source": [
    "print('python')\n",
    "print(10,3,'python')"
   ]
  },
  {
   "cell_type": "code",
   "execution_count": null,
   "id": "76aaea0d-3ac0-4406-950e-f80f8dfb24dd",
   "metadata": {},
   "outputs": [
    {
     "name": "stdout",
     "output_type": "stream",
     "text": [
      "50\n"
     ]
    }
   ],
   "source": [
    "num=20\n",
    "num2=30\n",
    "sum=num+num2\n",
    "print(sum)"
   ]
  },
  {
   "cell_type": "markdown",
   "id": "d006c84a-502d-4a3d-ba60-98583dc42da7",
   "metadata": {},
   "source": [
    "#print resul with string"
   ]
  },
  {
   "cell_type": "code",
   "execution_count": null,
   "id": "e846f973-124b-4801-a130-ac2666c2dd14",
   "metadata": {},
   "outputs": [
    {
     "name": "stdout",
     "output_type": "stream",
     "text": [
      "the sum of  20 and 30 is: 50\n"
     ]
    }
   ],
   "source": [
    "num1=20\n",
    "num2=30\n",
    "add=num1+num2\n",
    "print('the sum of ',num1,'and',num2,'is:',add)"
   ]
  },
  {
   "cell_type": "code",
   "execution_count": null,
   "id": "8c55d628-5378-4038-95c5-aa19971a58ac",
   "metadata": {},
   "outputs": [
    {
     "name": "stdout",
     "output_type": "stream",
     "text": [
      "my name is python and i am 20 years old & from hyd\n"
     ]
    }
   ],
   "source": [
    "name='python'\n",
    "age='20'\n",
    "city='hyd'\n",
    "print('my name is',name,'and i am',age,'years old & from',city)"
   ]
  },
  {
   "cell_type": "code",
   "execution_count": null,
   "id": "8a8d05d9-f486-45da-a294-8483cfb2dfa1",
   "metadata": {},
   "outputs": [
    {
     "name": "stdout",
     "output_type": "stream",
     "text": [
      "the sum of20 and 30 is:50\n"
     ]
    }
   ],
   "source": [
    "print('the sum of{} and {} is:{}'.format(num1,num2,add))"
   ]
  },
  {
   "cell_type": "code",
   "execution_count": null,
   "id": "dbc1d898-4a8d-4c47-bcb2-de873119d089",
   "metadata": {},
   "outputs": [
    {
     "name": "stdout",
     "output_type": "stream",
     "text": [
      "hello youre welcome how are you\n"
     ]
    }
   ],
   "source": [
    "s1='hello'\n",
    "s2='welcome'\n",
    "print('{} youre {} how are you'.format(s1,s2))"
   ]
  },
  {
   "cell_type": "code",
   "execution_count": null,
   "id": "1b0dbf0c-8d56-49c4-aa55-14d735341e9f",
   "metadata": {},
   "outputs": [
    {
     "name": "stdout",
     "output_type": "stream",
     "text": [
      "the average of 100 25 333 is:152.66666666666666 or 153\n"
     ]
    }
   ],
   "source": [
    "num1=100\n",
    "num2=25\n",
    "num3=333\n",
    "avg=(num1+num2+num3)/3\n",
    "avg1=round((num1+num2+num3)/3)\n",
    "print('the average of {} {} {} is:{} or {}'.format(num1,num2,num3,avg,avg1))"
   ]
  },
  {
   "cell_type": "code",
   "execution_count": null,
   "id": "342a482c-f401-4586-8d9e-372df98a9c5b",
   "metadata": {},
   "outputs": [
    {
     "name": "stdout",
     "output_type": "stream",
     "text": [
      "the sum of 200 and 200 is:400\n"
     ]
    }
   ],
   "source": [
    "num1=200\n",
    "num2=200\n",
    "add=num1+num2\n",
    "print(f'the sum of {num1} and {num2} is:{add}')"
   ]
  },
  {
   "cell_type": "code",
   "execution_count": null,
   "id": "0b7b01a4-6e5d-4c59-a357-c942eccece02",
   "metadata": {},
   "outputs": [
    {
     "name": "stdout",
     "output_type": "stream",
     "text": [
      "my name is python and iam 20 years old i live in hyd\n"
     ]
    }
   ],
   "source": [
    "name='python'\n",
    "age=20\n",
    "city='hyd'\n",
    "print(f'my name is {name} and iam {age} years old i live in {city}')"
   ]
  },
  {
   "cell_type": "code",
   "execution_count": null,
   "id": "94c9d087-8718-4b44-934a-4c98c419d478",
   "metadata": {},
   "outputs": [
    {
     "name": "stdout",
     "output_type": "stream",
     "text": [
      "the average of 200&200 is 152.66666666666666 or 153\n"
     ]
    }
   ],
   "source": [
    "print(f'the average of {num1}&{num2} is {avg} or {avg1}')"
   ]
  },
  {
   "cell_type": "code",
   "execution_count": null,
   "id": "4b04ad6e-211e-4a37-a35f-079fd3433448",
   "metadata": {},
   "outputs": [
    {
     "name": "stdout",
     "output_type": "stream",
     "text": [
      "the given numbers are  20 20 40\n"
     ]
    }
   ],
   "source": [
    "n1=20\n",
    "n2=20\n",
    "n3=40\n",
    "print(\"the given numbers are \",n1,n2,n3)"
   ]
  },
  {
   "cell_type": "code",
   "execution_count": null,
   "id": "1546536f-4ce3-4e70-ab88-f4ce3c1f1061",
   "metadata": {},
   "outputs": [
    {
     "name": "stdout",
     "output_type": "stream",
     "text": [
      "the given numbers are :20,20,40\n"
     ]
    }
   ],
   "source": [
    "print('the given numbers are :{},{},{}'.format(n1,n2,n3))"
   ]
  },
  {
   "cell_type": "code",
   "execution_count": null,
   "id": "a53e4fe1-acc3-4ab6-9e90-b576b7dc62e4",
   "metadata": {},
   "outputs": [
    {
     "name": "stdout",
     "output_type": "stream",
     "text": [
      "the given numbers are 20,20,40\n"
     ]
    }
   ],
   "source": [
    "print(f'the given numbers are {n1},{n2},{n3}')"
   ]
  },
  {
   "cell_type": "raw",
   "id": "ed3f0ff9-2ecc-4e94-bcbe-fd213b87e8de",
   "metadata": {},
   "source": [
    "end statements in python\n"
   ]
  },
  {
   "cell_type": "code",
   "execution_count": null,
   "id": "7c25bc90-5630-4927-9740-9f29492ae8a7",
   "metadata": {},
   "outputs": [
    {
     "name": "stdout",
     "output_type": "stream",
     "text": [
      "hello\n",
      "welcome\n"
     ]
    }
   ],
   "source": [
    "print('hello')\n",
    "print('welcome')\n"
   ]
  },
  {
   "cell_type": "code",
   "execution_count": null,
   "id": "1dbb8618-a68b-4737-b737-0500bba2ccfa",
   "metadata": {},
   "outputs": [
    {
     "name": "stdout",
     "output_type": "stream",
     "text": [
      "hello  welcome  how are you\n"
     ]
    }
   ],
   "source": [
    "print( 'hello', end='  ')\n",
    "print('welcome',end='  ')\n",
    "print('how are you')"
   ]
  },
  {
   "cell_type": "markdown",
   "id": "de06fbd5-7217-4649-b76c-d8e9af3c3c70",
   "metadata": {},
   "source": [
    "#separator"
   ]
  },
  {
   "cell_type": "code",
   "execution_count": null,
   "id": "d5acf8ab-527b-4bcc-af95-2e6dc91202a5",
   "metadata": {},
   "outputs": [
    {
     "name": "stdout",
     "output_type": "stream",
     "text": [
      "hello-->hai-->how are you\n"
     ]
    }
   ],
   "source": [
    "print('hello','hai','how are you',sep='-->')"
   ]
  },
  {
   "cell_type": "code",
   "execution_count": null,
   "id": "0e086843-ce93-4619-a1ca-df561b44cfa1",
   "metadata": {},
   "outputs": [
    {
     "name": "stdout",
     "output_type": "stream",
     "text": [
      "hello&hai&how are you\n"
     ]
    }
   ],
   "source": [
    "print('hello','hai','how are you',sep='&')"
   ]
  },
  {
   "cell_type": "code",
   "execution_count": null,
   "id": "c7d9fd61-8ea6-4f22-a5df-2e3c55845b8d",
   "metadata": {},
   "outputs": [
    {
     "name": "stdout",
     "output_type": "stream",
     "text": [
      "hello^hai^how are you\n"
     ]
    }
   ],
   "source": [
    "print('hello','hai','how are you',sep='^')"
   ]
  },
  {
   "cell_type": "code",
   "execution_count": null,
   "id": "9ee72d1c-5cab-42b6-ab8d-09cec5c4c3ae",
   "metadata": {},
   "outputs": [
    {
     "name": "stdout",
     "output_type": "stream",
     "text": [
      "hello#hai#how are you\n"
     ]
    }
   ],
   "source": [
    "print('hello','hai','how are you',sep='#')"
   ]
  },
  {
   "cell_type": "code",
   "execution_count": null,
   "id": "89bc8497-486d-4fd0-819b-3e92e2defdc7",
   "metadata": {},
   "outputs": [
    {
     "name": "stdout",
     "output_type": "stream",
     "text": [
      "hello@hai@how are you\n"
     ]
    }
   ],
   "source": [
    "print('hello','hai','how are you',sep='@')"
   ]
  },
  {
   "cell_type": "code",
   "execution_count": null,
   "id": "273f5725-029c-4d6a-b717-ff8fa18e2c1c",
   "metadata": {},
   "outputs": [
    {
     "name": "stdout",
     "output_type": "stream",
     "text": [
      "hello   hai   how are you\n"
     ]
    }
   ],
   "source": [
    "print('hello','hai','how are you',sep='   ')"
   ]
  },
  {
   "cell_type": "code",
   "execution_count": null,
   "id": "67ab3df6-5333-4538-995d-d28f989b6c4f",
   "metadata": {},
   "outputs": [
    {
     "name": "stdout",
     "output_type": "stream",
     "text": [
      "hello\n",
      "welcome "
     ]
    }
   ],
   "source": [
    "print('hello',sep='&')\n",
    "print('welcome',end=' ')"
   ]
  },
  {
   "cell_type": "code",
   "execution_count": null,
   "id": "22f48c7c-6395-4469-9df9-218cf5486b0b",
   "metadata": {},
   "outputs": [
    {
     "ename": "NameError",
     "evalue": "name 'india' is not defined",
     "output_type": "error",
     "traceback": [
      "\u001b[1;31m---------------------------------------------------------------------------\u001b[0m",
      "\u001b[1;31mNameError\u001b[0m                                 Traceback (most recent call last)",
      "Cell \u001b[1;32mIn[15], line 3\u001b[0m\n\u001b[0;32m      1\u001b[0m \u001b[38;5;28;01mfrom\u001b[39;00m \u001b[38;5;21;01mdatetime\u001b[39;00m \u001b[38;5;28;01mimport\u001b[39;00m datetime \u001b[38;5;28;01mas\u001b[39;00m dt\n\u001b[0;32m      2\u001b[0m dt\n\u001b[1;32m----> 3\u001b[0m \u001b[38;5;28mprint\u001b[39m(dt\u001b[38;5;241m.\u001b[39mastimezone(india))\n",
      "\u001b[1;31mNameError\u001b[0m: name 'india' is not defined"
     ]
    }
   ],
   "source": [
    "from datetime import datetime as dt\n",
    "dt\n",
    "print(dt.astimezone())"
   ]
  },
  {
   "cell_type": "code",
   "execution_count": null,
   "id": "1454f7e6-bf9a-45dc-a51c-d31f08a2cda1",
   "metadata": {},
   "outputs": [
    {
     "data": {
      "image/png": "[encoded data removed]",
      "text/plain": [
       "<Figure size 640x480 with 1 Axes>"
      ]
     },
     "metadata": {},
     "output_type": "display_data"
    }
   ],
   "source": [
    "from matplotlib import pyplot as plt\n",
    "x_values=(1,2,3)\n",
    "y_values=(4,8,12)\n",
    "plt.plot(x_values,y_values)\n",
    "plt.show()"
   ]
  },
  {
   "cell_type": "code",
   "execution_count": null,
   "id": "fb6c41f7-b7e3-4440-aedd-bb0dc52cb095",
   "metadata": {},
   "outputs": [],
   "source": [
    "import os"
   ]
  },
  {
   "cell_type": "code",
   "execution_count": null,
   "id": "0aa2ec1d-9169-4988-a1e3-514b114785e2",
   "metadata": {},
   "outputs": [
    {
     "name": "stdout",
     "output_type": "stream",
     "text": [
      "['False', 'None', 'True', 'and', 'as', 'assert', 'async', 'await', 'break', 'class', 'continue', 'def', 'del', 'elif', 'else', 'except', 'finally', 'for', 'from', 'global', 'if', 'import', 'in', 'is', 'lambda', 'nonlocal', 'not', 'or', 'pass', 'raise', 'return', 'try', 'while', 'with', 'yield']\n",
      "sys.version_info(major=3, minor=12, micro=7, releaselevel='final', serial=0)\n"
     ]
    }
   ],
   "source": [
    "import keyword\n",
    "print(keyword.kwlist)\n",
    "import sys\n",
    "print(sys.version_info)\n",
    "import operator\n",
    "import os\n",
    "from datetime import date"
   ]
  },
  {
   "cell_type": "code",
   "execution_count": null,
   "id": "2f1c11a0-2bf5-4a5d-836e-528ce8777906",
   "metadata": {},
   "outputs": [
    {
     "name": "stdout",
     "output_type": "stream",
     "text": [
      "35\n"
     ]
    }
   ],
   "source": [
    "print(len(keyword.kwlist))"
   ]
  },
  {
   "cell_type": "markdown",
   "id": "e447080a-1039-448e-a606-543f9f43d4e9",
   "metadata": {},
   "source": [
    "#identifiers\n",
    "identifiers cannot have a symbol in it\n",
    "identifiers should not start with the numbers\n",
    "identifiers can't be keywords\n"
   ]
  },
  {
   "cell_type": "code",
   "execution_count": null,
   "id": "1f45982b-9d35-45d4-8eb3-89c265e242dc",
   "metadata": {},
   "outputs": [
    {
     "data": {
      "text/plain": [
       "10"
      ]
     },
     "execution_count": 28,
     "metadata": {},
     "output_type": "execute_result"
    }
   ],
   "source": [
    "a1=10\n",
    "a1"
   ]
  },
  {
   "cell_type": "code",
   "execution_count": null,
   "id": "06102ccd-d776-47f9-b100-015175be93f3",
   "metadata": {},
   "outputs": [],
   "source": [
    "a=20"
   ]
  },
  {
   "cell_type": "code",
   "execution_count": null,
   "id": "170f6d0c-2cf5-43a5-bb3e-02145fbcfddf",
   "metadata": {},
   "outputs": [
    {
     "name": "stdout",
     "output_type": "stream",
     "text": [
      "20\n"
     ]
    }
   ],
   "source": [
    "print(a)"
   ]
  },
  {
   "cell_type": "code",
   "execution_count": null,
   "id": "fa1d6c37-b8d6-49dd-b0ba-f1d240ce8fff",
   "metadata": {},
   "outputs": [
    {
     "name": "stdout",
     "output_type": "stream",
     "text": [
      "29 <class 'int'> 0x7ffc25af2d38\n"
     ]
    }
   ],
   "source": [
    "p=29\n",
    "q=29\n",
    "r=q\n",
    "print(p,type(p),hex(id(p)))"
   ]
  },
  {
   "cell_type": "code",
   "execution_count": null,
   "id": "1b53681e-7796-4817-8f14-e5e0985388c9",
   "metadata": {},
   "outputs": [
    {
     "name": "stdout",
     "output_type": "stream",
     "text": [
      "29 <class 'int'> 0x7ffc25af2d38\n",
      "140720940723512\n"
     ]
    }
   ],
   "source": [
    "print(q,type(q),hex(id(q)))\n",
    "print(id(q))"
   ]
  },
  {
   "cell_type": "code",
   "execution_count": null,
   "id": "8f36f38c-6f6e-44ed-9f28-82cf7956e8a2",
   "metadata": {},
   "outputs": [
    {
     "name": "stdout",
     "output_type": "stream",
     "text": [
      "29 <class 'int'> 0x7ffc25af2d38\n"
     ]
    }
   ],
   "source": [
    "print(r,type(r),hex(id(r)))"
   ]
  },
  {
   "cell_type": "code",
   "execution_count": null,
   "id": "f64ec75d-25b6-4ee3-a5e5-c59976b459af",
   "metadata": {},
   "outputs": [
    {
     "data": {
      "text/plain": [
       "30"
      ]
     },
     "execution_count": 40,
     "metadata": {},
     "output_type": "execute_result"
    }
   ],
   "source": [
    "p=10\n",
    "p=p+20 #variable overwritting\n",
    "p"
   ]
  },
  {
   "cell_type": "code",
   "execution_count": null,
   "id": "0896dd55-fea3-4a85-9f7a-9a3a0f6f1ef5",
   "metadata": {},
   "outputs": [],
   "source": [
    "int=10\n",
    "char='hh'\n",
    "float=20.5676"
   ]
  },
  {
   "cell_type": "code",
   "execution_count": null,
   "id": "d72a6698-3aa9-450f-a544-12f468e1430d",
   "metadata": {},
   "outputs": [
    {
     "name": "stdout",
     "output_type": "stream",
     "text": [
      "10 20.5676 hh "
     ]
    }
   ],
   "source": [
    "print(int,float,char,end=' ')"
   ]
  },
  {
   "cell_type": "code",
   "execution_count": null,
   "id": "92551d00-c8a0-44d6-acb0-1317fb01477f",
   "metadata": {},
   "outputs": [],
   "source": [
    "int,char,float=10,3,4"
   ]
  },
  {
   "cell_type": "code",
   "execution_count": null,
   "id": "73a38c41-b3dd-4d9d-84f0-ab6a268d327f",
   "metadata": {},
   "outputs": [
    {
     "name": "stdout",
     "output_type": "stream",
     "text": [
      "10\n",
      "3\n",
      "4\n"
     ]
    }
   ],
   "source": [
    "print(int)\n",
    "print(char)\n",
    "print(float)"
   ]
  },
  {
   "cell_type": "code",
   "execution_count": null,
   "id": "593c4897-72eb-4a44-92c7-ca5c9a8a8f78",
   "metadata": {},
   "outputs": [
    {
     "name": "stdout",
     "output_type": "stream",
     "text": [
      "345678 345678 345678 345678 345678 345678 345678 345678 345678 345678 345678 345678 345678 345678 345678 345678 345678 345678\n"
     ]
    }
   ],
   "source": [
    "p=p1=p2=p3=p4=p5=p6=p7=p8=345678\n",
    "print(p,p1,p2,p3,p4,p5,p6,p7,p,p,p,p,p,p,p,p,p,p8)"
   ]
  },
  {
   "cell_type": "code",
   "execution_count": null,
   "id": "374eb556-adb7-459c-8a7b-8853e7dd867a",
   "metadata": {},
   "outputs": [
    {
     "ename": "TypeError",
     "evalue": "isinstance() arg 2 must be a type, a tuple of types, or a union",
     "output_type": "error",
     "traceback": [
      "\u001b[1;31m---------------------------------------------------------------------------\u001b[0m",
      "\u001b[1;31mTypeError\u001b[0m                                 Traceback (most recent call last)",
      "Cell \u001b[1;32mIn[52], line 2\u001b[0m\n\u001b[0;32m      1\u001b[0m value1\u001b[38;5;241m=\u001b[39m\u001b[38;5;241m45\u001b[39m\n\u001b[1;32m----> 2\u001b[0m \u001b[38;5;28mprint\u001b[39m(\u001b[38;5;28misinstance\u001b[39m(value1,\u001b[38;5;28mint\u001b[39m))\n\u001b[0;32m      3\u001b[0m \u001b[38;5;28mprint\u001b[39m(value1)\n\u001b[0;32m      4\u001b[0m \u001b[38;5;28mprint\u001b[39m(\u001b[38;5;28mtype\u001b[39m(value1))\n",
      "\u001b[1;31mTypeError\u001b[0m: isinstance() arg 2 must be a type, a tuple of types, or a union"
     ]
    }
   ],
   "source": [
    "value1=45\n",
    "print(isinstance(value1,int))\n",
    "print(value1)\n",
    "print(type(value1))\n",
    "print(sys.getsizeof(value1))\n",
    "print(value1,\"is integer?\")\n",
    "\n"
   ]
  },
  {
   "cell_type": "code",
   "execution_count": null,
   "id": "a68074f8-0b4c-4f20-a01c-16e8527a4818",
   "metadata": {},
   "outputs": [
    {
     "ename": "TypeError",
     "evalue": "isinstance() arg 2 must be a type, a tuple of types, or a union",
     "output_type": "error",
     "traceback": [
      "\u001b[1;31m---------------------------------------------------------------------------\u001b[0m",
      "\u001b[1;31mTypeError\u001b[0m                                 Traceback (most recent call last)",
      "Cell \u001b[1;32mIn[54], line 2\u001b[0m\n\u001b[0;32m      1\u001b[0m val1\u001b[38;5;241m=\u001b[39m\u001b[38;5;241m10\u001b[39m\n\u001b[1;32m----> 2\u001b[0m \u001b[38;5;28mprint\u001b[39m(val1,\u001b[38;5;124m\"\u001b[39m\u001b[38;5;124mis int\u001b[39m\u001b[38;5;124m\"\u001b[39m, \u001b[38;5;28misinstance\u001b[39m(val1,\u001b[38;5;28mint\u001b[39m))\n\u001b[0;32m      4\u001b[0m \u001b[38;5;28mprint\u001b[39m(val1)\n\u001b[0;32m      5\u001b[0m \u001b[38;5;28mprint\u001b[39m(\u001b[38;5;28mtype\u001b[39m(val1))\n",
      "\u001b[1;31mTypeError\u001b[0m: isinstance() arg 2 must be a type, a tuple of types, or a union"
     ]
    }
   ],
   "source": [
    "val1=10\n",
    "print(val1,\"is int\", isinstance(val1,int))\n",
    "\n",
    "print(val1)\n",
    "print(type(val1))\n",
    "print(sys.getsizeof(val1))\n",
    "\n"
   ]
  },
  {
   "cell_type": "code",
   "execution_count": null,
   "id": "54f4b9d3-0ea8-41e9-9b67-827bf8e37cf1",
   "metadata": {},
   "outputs": [
    {
     "ename": "TypeError",
     "evalue": "isinstance() arg 2 must be a type, a tuple of types, or a union",
     "output_type": "error",
     "traceback": [
      "\u001b[1;31m---------------------------------------------------------------------------\u001b[0m",
      "\u001b[1;31mTypeError\u001b[0m                                 Traceback (most recent call last)",
      "Cell \u001b[1;32mIn[56], line 2\u001b[0m\n\u001b[0;32m      1\u001b[0m val2\u001b[38;5;241m=\u001b[39m\u001b[38;5;241m3\u001b[39m\n\u001b[1;32m----> 2\u001b[0m \u001b[38;5;28mprint\u001b[39m(\u001b[38;5;28misinstance\u001b[39m(val2,\u001b[38;5;28mint\u001b[39m))\n",
      "\u001b[1;31mTypeError\u001b[0m: isinstance() arg 2 must be a type, a tuple of types, or a union"
     ]
    }
   ],
   "source": [
    "val2=3\n",
    "print(isinstance(val2,int))"
   ]
  },
  {
   "cell_type": "code",
   "execution_count": null,
   "id": "5b66f7d8-32d4-4c2c-81e0-0cec7ab0328b",
   "metadata": {},
   "outputs": [
    {
     "name": "stdout",
     "output_type": "stream",
     "text": [
      "True\n",
      "<class 'complex'>\n"
     ]
    }
   ],
   "source": [
    "val3=3+3j\n",
    "print(isinstance(val3,complex))\n",
    "print(type(val3))"
   ]
  },
  {
   "cell_type": "code",
   "execution_count": null,
   "id": "9f24a6b4-a018-4a07-8eee-558c91847fb5",
   "metadata": {},
   "outputs": [
    {
     "name": "stdout",
     "output_type": "stream",
     "text": [
      "True\n"
     ]
    }
   ],
   "source": [
    "print(isinstance(val3,complex))"
   ]
  },
  {
   "cell_type": "code",
   "execution_count": null,
   "id": "1aaf31d9-3066-49e4-8502-29abdc76310c",
   "metadata": {},
   "outputs": [
    {
     "ename": "TypeError",
     "evalue": "'int' object is not callable",
     "output_type": "error",
     "traceback": [
      "\u001b[1;31m---------------------------------------------------------------------------\u001b[0m",
      "\u001b[1;31mTypeError\u001b[0m                                 Traceback (most recent call last)",
      "Cell \u001b[1;32mIn[62], line 1\u001b[0m\n\u001b[1;32m----> 1\u001b[0m sys\u001b[38;5;241m.\u001b[39mgetsizeof(\u001b[38;5;28mint\u001b[39m())\n",
      "\u001b[1;31mTypeError\u001b[0m: 'int' object is not callable"
     ]
    }
   ],
   "source": [
    "sys.getsizeof(int())"
   ]
  },
  {
   "cell_type": "code",
   "execution_count": null,
   "id": "bfba1841-a4a7-4ccc-bb9b-0a41c609655e",
   "metadata": {},
   "outputs": [
    {
     "ename": "TypeError",
     "evalue": "'int' object is not callable",
     "output_type": "error",
     "traceback": [
      "\u001b[1;31m---------------------------------------------------------------------------\u001b[0m",
      "\u001b[1;31mTypeError\u001b[0m                                 Traceback (most recent call last)",
      "Cell \u001b[1;32mIn[64], line 1\u001b[0m\n\u001b[1;32m----> 1\u001b[0m sys\u001b[38;5;241m.\u001b[39mgetsizeof(\u001b[38;5;28mfloat\u001b[39m())\n",
      "\u001b[1;31mTypeError\u001b[0m: 'int' object is not callable"
     ]
    }
   ],
   "source": [
    "sys.getsizeof(float())"
   ]
  },
  {
   "cell_type": "code",
   "execution_count": null,
   "id": "94ad27a3-f3e8-482a-9be1-69e3033d6316",
   "metadata": {},
   "outputs": [
    {
     "data": {
      "text/plain": [
       "32"
      ]
     },
     "execution_count": 66,
     "metadata": {},
     "output_type": "execute_result"
    }
   ],
   "source": [
    "sys.getsizeof(complex())"
   ]
  },
  {
   "cell_type": "code",
   "execution_count": null,
   "id": "b3ebfde6-35a2-43ab-abe3-81812f49499c",
   "metadata": {},
   "outputs": [],
   "source": [
    "#boolean"
   ]
  },
  {
   "cell_type": "code",
   "execution_count": null,
   "id": "69b1d25f-d961-4793-91e5-ce3fb551c6fa",
   "metadata": {},
   "outputs": [
    {
     "name": "stdout",
     "output_type": "stream",
     "text": [
      "True\n",
      "True\n"
     ]
    },
    {
     "ename": "TypeError",
     "evalue": "isinstance() arg 2 must be a type, a tuple of types, or a union",
     "output_type": "error",
     "traceback": [
      "\u001b[1;31m---------------------------------------------------------------------------\u001b[0m",
      "\u001b[1;31mTypeError\u001b[0m                                 Traceback (most recent call last)",
      "Cell \u001b[1;32mIn[93], line 5\u001b[0m\n\u001b[0;32m      3\u001b[0m \u001b[38;5;28mprint\u001b[39m(bool1)\n\u001b[0;32m      4\u001b[0m \u001b[38;5;28mprint\u001b[39m(\u001b[38;5;28misinstance\u001b[39m(bool1,\u001b[38;5;28mbool\u001b[39m))\n\u001b[1;32m----> 5\u001b[0m \u001b[38;5;28mprint\u001b[39m(\u001b[38;5;28misinstance\u001b[39m(bool2,\u001b[38;5;28mint\u001b[39m))\n",
      "\u001b[1;31mTypeError\u001b[0m: isinstance() arg 2 must be a type, a tuple of types, or a union"
     ]
    }
   ],
   "source": [
    "bool1=True\n",
    "bool2=False\n",
    "print(bool1)\n",
    "print(isinstance(bool1,bool))\n",
    "print(isinstance(bool2,int))"
   ]
  },
  {
   "cell_type": "code",
   "execution_count": null,
   "id": "bca8dde1-15b2-45ab-ac0b-54b03c80426e",
   "metadata": {},
   "outputs": [
    {
     "data": {
      "text/plain": [
       "False"
      ]
     },
     "execution_count": 95,
     "metadata": {},
     "output_type": "execute_result"
    }
   ],
   "source": [
    "bool(0)"
   ]
  },
  {
   "cell_type": "code",
   "execution_count": null,
   "id": "e1ed0fdf-8704-439f-a5a4-9ba051c3c048",
   "metadata": {},
   "outputs": [
    {
     "data": {
      "text/plain": [
       "True"
      ]
     },
     "execution_count": 97,
     "metadata": {},
     "output_type": "execute_result"
    }
   ],
   "source": [
    "bool(1)"
   ]
  },
  {
   "cell_type": "code",
   "execution_count": null,
   "id": "c0c7a55b-dfc5-4798-9447-92b2e9e76acf",
   "metadata": {},
   "outputs": [
    {
     "data": {
      "text/plain": [
       "True"
      ]
     },
     "execution_count": 99,
     "metadata": {},
     "output_type": "execute_result"
    }
   ],
   "source": [
    "bool(True)"
   ]
  },
  {
   "cell_type": "code",
   "execution_count": null,
   "id": "70a1ea54-36db-4ae6-bb8c-fb4410c8e909",
   "metadata": {},
   "outputs": [
    {
     "data": {
      "text/plain": [
       "True"
      ]
     },
     "execution_count": 101,
     "metadata": {},
     "output_type": "execute_result"
    }
   ],
   "source": [
    "bool(1)"
   ]
  },
  {
   "cell_type": "code",
   "execution_count": null,
   "id": "f2f938b5-4deb-43a7-b00b-cafe8abfbe16",
   "metadata": {},
   "outputs": [
    {
     "data": {
      "text/plain": [
       "False"
      ]
     },
     "execution_count": 103,
     "metadata": {},
     "output_type": "execute_result"
    }
   ],
   "source": [
    "bool(None)"
   ]
  },
  {
   "cell_type": "markdown",
   "id": "ae1c4099-c841-43f3-a63b-83e1dbb3622e",
   "metadata": {},
   "source": [
    "STRING CREATION"
   ]
  },
  {
   "cell_type": "code",
   "execution_count": null,
   "id": "a68891f8-4e3b-48f5-978c-a74722d2e6ff",
   "metadata": {},
   "outputs": [
    {
     "name": "stdout",
     "output_type": "stream",
     "text": [
      "hello\n"
     ]
    }
   ],
   "source": [
    "str1=\"hello\"\n",
    "print(str1)"
   ]
  },
  {
   "cell_type": "code",
   "execution_count": null,
   "id": "ad6b8f67-285f-4621-88aa-92e43c12bc4e",
   "metadata": {},
   "outputs": [
    {
     "name": "stdout",
     "output_type": "stream",
     "text": [
      "hello\n",
      "                world\n"
     ]
    }
   ],
   "source": [
    "mystr='''hello\n",
    "                world'''\n",
    "print(mystr)\n",
    "         "
   ]
  },
  {
   "cell_type": "code",
   "execution_count": null,
   "id": "9ee7c31f-c2a1-455e-b53f-8d9dc47f97dc",
   "metadata": {},
   "outputs": [
    {
     "name": "stdout",
     "output_type": "stream",
     "text": [
      "hello\n",
      "               world\n"
     ]
    }
   ],
   "source": [
    "mystr=\"\"\"hello\n",
    "               world\"\"\"\n",
    "print(mystr)"
   ]
  },
  {
   "cell_type": "code",
   "execution_count": null,
   "id": "51165ed7-7940-4c3b-a1bd-55bcf91b84eb",
   "metadata": {},
   "outputs": [
    {
     "name": "stdout",
     "output_type": "stream",
     "text": [
      "hello\n",
      "               worldhello\n",
      "               worldhello\n",
      "               worldhello\n",
      "               world\n"
     ]
    }
   ],
   "source": [
    "print(mystr*4)"
   ]
  },
  {
   "cell_type": "code",
   "execution_count": null,
   "id": "26dac36d-cfe1-4267-98bc-60f612bb789f",
   "metadata": {},
   "outputs": [
    {
     "data": {
      "text/plain": [
       "26"
      ]
     },
     "execution_count": 114,
     "metadata": {},
     "output_type": "execute_result"
    }
   ],
   "source": [
    "len(mystr)"
   ]
  },
  {
   "cell_type": "code",
   "execution_count": null,
   "id": "3c5dd0b2-05e2-4474-8ae9-e505d87d8ef8",
   "metadata": {},
   "outputs": [
    {
     "data": {
      "text/plain": [
       "str"
      ]
     },
     "execution_count": 116,
     "metadata": {},
     "output_type": "execute_result"
    }
   ],
   "source": [
    "str"
   ]
  },
  {
   "cell_type": "code",
   "execution_count": null,
   "id": "df536f20-2da9-4e36-bfa8-3f7b59dcad6e",
   "metadata": {},
   "outputs": [
    {
     "data": {
      "text/plain": [
       "'hello\\n               world'"
      ]
     },
     "execution_count": 118,
     "metadata": {},
     "output_type": "execute_result"
    }
   ],
   "source": [
    "mystr"
   ]
  },
  {
   "cell_type": "code",
   "execution_count": null,
   "id": "7e06f801-935a-48a5-af69-5846ac3ed839",
   "metadata": {},
   "outputs": [
    {
     "data": {
      "text/plain": [
       "'h'"
      ]
     },
     "execution_count": 120,
     "metadata": {},
     "output_type": "execute_result"
    }
   ],
   "source": [
    "mystr[0]"
   ]
  },
  {
   "cell_type": "code",
   "execution_count": null,
   "id": "e186fd1d-7ff4-4005-a961-e71982195c86",
   "metadata": {},
   "outputs": [
    {
     "data": {
      "text/plain": [
       "' '"
      ]
     },
     "execution_count": 122,
     "metadata": {},
     "output_type": "execute_result"
    }
   ],
   "source": [
    "mystr[8]"
   ]
  },
  {
   "cell_type": "code",
   "execution_count": null,
   "id": "b181bef6-4f13-462a-8212-f9419a4d3601",
   "metadata": {},
   "outputs": [
    {
     "data": {
      "text/plain": [
       "'d'"
      ]
     },
     "execution_count": 124,
     "metadata": {},
     "output_type": "execute_result"
    }
   ],
   "source": [
    "mystr[25]"
   ]
  },
  {
   "cell_type": "code",
   "execution_count": null,
   "id": "71214326-e6a3-4999-bacf-cc01bc9fbc2b",
   "metadata": {},
   "outputs": [
    {
     "data": {
      "text/plain": [
       "'hello'"
      ]
     },
     "execution_count": 126,
     "metadata": {},
     "output_type": "execute_result"
    }
   ],
   "source": [
    "mystr[0:5]"
   ]
  },
  {
   "cell_type": "code",
   "execution_count": null,
   "id": "0cf37561-cee3-455c-98ed-c884bacee737",
   "metadata": {},
   "outputs": [
    {
     "data": {
      "text/plain": [
       "'hello\\n             '"
      ]
     },
     "execution_count": 128,
     "metadata": {},
     "output_type": "execute_result"
    }
   ],
   "source": [
    "mystr[:-7]"
   ]
  },
  {
   "cell_type": "code",
   "execution_count": null,
   "id": "a0f5a6f7-6585-4c6a-adc7-46699a104c30",
   "metadata": {},
   "outputs": [
    {
     "data": {
      "text/plain": [
       "'hello\\n               world'"
      ]
     },
     "execution_count": 130,
     "metadata": {},
     "output_type": "execute_result"
    }
   ],
   "source": [
    "mystr[0:29]"
   ]
  },
  {
   "cell_type": "code",
   "execution_count": null,
   "id": "7bade2f8-9929-47a5-9ec3-c5950440aaa8",
   "metadata": {},
   "outputs": [],
   "source": [
    "\n"
   ]
  },
  {
   "cell_type": "code",
   "execution_count": null,
   "id": "650a5f80-e8ed-4384-83f9-b6b6fed4cb9d",
   "metadata": {},
   "outputs": [
    {
     "data": {
      "text/plain": [
       "'hello\\n               world'"
      ]
     },
     "execution_count": 133,
     "metadata": {},
     "output_type": "execute_result"
    }
   ],
   "source": [
    "mystr\n"
   ]
  },
  {
   "cell_type": "code",
   "execution_count": null,
   "id": "386958d3-ebc2-4fb7-80ac-e7ef4df28daf",
   "metadata": {},
   "outputs": [],
   "source": [
    "#string Contactination\n",
    "s1='hjggvgtcrfdxfctgc'\n",
    "s2='bhgvgfcgfc ngvh'"
   ]
  },
  {
   "cell_type": "code",
   "execution_count": null,
   "id": "89a4bbd4-9acb-49c4-b812-324d546fe19a",
   "metadata": {},
   "outputs": [],
   "source": [
    "concats=s1+s2"
   ]
  },
  {
   "cell_type": "code",
   "execution_count": null,
   "id": "c76278cc-8e8b-4700-bbb4-be3f9475cb1c",
   "metadata": {},
   "outputs": [
    {
     "data": {
      "text/plain": [
       "'hjggvgtcrfdxfctgcbhgvgfcgfc ngvh'"
      ]
     },
     "execution_count": 139,
     "metadata": {},
     "output_type": "execute_result"
    }
   ],
   "source": [
    "concats"
   ]
  },
  {
   "cell_type": "code",
   "execution_count": null,
   "id": "a056d089-185b-432d-bd5b-757e1687dfa3",
   "metadata": {},
   "outputs": [
    {
     "data": {
      "text/plain": [
       "int"
      ]
     },
     "execution_count": 141,
     "metadata": {},
     "output_type": "execute_result"
    }
   ],
   "source": [
    "poll_data=7\n",
    "type(poll_data)"
   ]
  },
  {
   "cell_type": "code",
   "execution_count": null,
   "id": "eab96acd-6fe7-4283-badd-c799d88ff136",
   "metadata": {},
   "outputs": [
    {
     "ename": "TypeError",
     "evalue": "cannot convert dictionary update sequence element #0 to a sequence",
     "output_type": "error",
     "traceback": [
      "\u001b[1;31m---------------------------------------------------------------------------\u001b[0m",
      "\u001b[1;31mTypeError\u001b[0m                                 Traceback (most recent call last)",
      "Cell \u001b[1;32mIn[143], line 1\u001b[0m\n\u001b[1;32m----> 1\u001b[0m \u001b[38;5;28mdict\u001b[39m(\u001b[38;5;28mrange\u001b[39m(\u001b[38;5;241m9\u001b[39m))\n",
      "\u001b[1;31mTypeError\u001b[0m: cannot convert dictionary update sequence element #0 to a sequence"
     ]
    }
   ],
   "source": [
    "dict(range(9))# this can"
   ]
  },
  {
   "cell_type": "code",
   "execution_count": null,
   "id": "987ad013-41af-44a4-b821-c05b55074cef",
   "metadata": {},
   "outputs": [
    {
     "data": {
      "text/plain": [
       "{0, 1, 2, 3, 4, 5, 6, 7, 8}"
      ]
     },
     "execution_count": 145,
     "metadata": {},
     "output_type": "execute_result"
    }
   ],
   "source": [
    "set(range(9))"
   ]
  },
  {
   "cell_type": "code",
   "execution_count": null,
   "id": "480e0329-053a-4970-bf94-92c428796d84",
   "metadata": {},
   "outputs": [
    {
     "data": {
      "text/plain": [
       "tuple"
      ]
     },
     "execution_count": 147,
     "metadata": {},
     "output_type": "execute_result"
    }
   ],
   "source": [
    "obj_data=()\n",
    "type(obj_data)"
   ]
  },
  {
   "cell_type": "markdown",
   "id": "af61874c-d35e-4570-8e46-c6e24f29090f",
   "metadata": {},
   "source": [
    "#python data structures\n",
    "in datastru we need to define morevthan one value"
   ]
  },
  {
   "cell_type": "markdown",
   "id": "43ca29d4-c2f9-4799-8ee8-cd78b8759ccb",
   "metadata": {},
   "source": [
    "matrix is coolection of datastructure\n",
    "datastructure is collection of datatypes"
   ]
  },
  {
   "cell_type": "code",
   "execution_count": null,
   "id": "0fa65d9b-9026-4df9-96e6-25773f735db3",
   "metadata": {},
   "outputs": [],
   "source": [
    "#27 list ds"
   ]
  },
  {
   "cell_type": "code",
   "execution_count": null,
   "id": "1d5290fb-b56d-4092-a32d-408342ea7046",
   "metadata": {},
   "outputs": [
    {
     "data": {
      "text/plain": [
       "[]"
      ]
     },
     "execution_count": 153,
     "metadata": {},
     "output_type": "execute_result"
    }
   ],
   "source": [
    "li=[]\n",
    "li"
   ]
  },
  {
   "cell_type": "code",
   "execution_count": null,
   "id": "1140bb0f-262d-4718-a4a7-48e246b303b3",
   "metadata": {},
   "outputs": [
    {
     "data": {
      "text/plain": [
       "0"
      ]
     },
     "execution_count": 155,
     "metadata": {},
     "output_type": "execute_result"
    }
   ],
   "source": [
    "len(li)"
   ]
  },
  {
   "cell_type": "code",
   "execution_count": null,
   "id": "cfb2c7d4-1263-49ab-aa23-ee6a78f25742",
   "metadata": {},
   "outputs": [
    {
     "data": {
      "text/plain": [
       "list"
      ]
     },
     "execution_count": 157,
     "metadata": {},
     "output_type": "execute_result"
    }
   ],
   "source": [
    "type(li)"
   ]
  },
  {
   "cell_type": "code",
   "execution_count": null,
   "id": "ba81891e-00ab-450c-803d-ef6a3212c2a4",
   "metadata": {},
   "outputs": [],
   "source": [
    "li.append(10)#Signature: li.append(object, /)\n",
    "               #Docstring: Append object to the end of the list.\n",
    "                #Type:      builtin_function_or_method"
   ]
  },
  {
   "cell_type": "code",
   "execution_count": null,
   "id": "f8405b6a-071f-46ee-ae19-b9ae0e5f2bf1",
   "metadata": {},
   "outputs": [
    {
     "data": {
      "text/plain": [
       "[10]"
      ]
     },
     "execution_count": 161,
     "metadata": {},
     "output_type": "execute_result"
    }
   ],
   "source": [
    "li"
   ]
  },
  {
   "cell_type": "code",
   "execution_count": null,
   "id": "fa46653c-cf44-416e-a0e6-66f3c0e9efa2",
   "metadata": {},
   "outputs": [
    {
     "data": {
      "text/plain": [
       "1"
      ]
     },
     "execution_count": 163,
     "metadata": {},
     "output_type": "execute_result"
    }
   ],
   "source": [
    "len(li)"
   ]
  },
  {
   "cell_type": "code",
   "execution_count": null,
   "id": "90102c1e-d8fc-4920-9f0f-82ef578e1c57",
   "metadata": {},
   "outputs": [
    {
     "ename": "TypeError",
     "evalue": "list.append() takes exactly one argument (4 given)",
     "output_type": "error",
     "traceback": [
      "\u001b[1;31m---------------------------------------------------------------------------\u001b[0m",
      "\u001b[1;31mTypeError\u001b[0m                                 Traceback (most recent call last)",
      "Cell \u001b[1;32mIn[165], line 1\u001b[0m\n\u001b[1;32m----> 1\u001b[0m li\u001b[38;5;241m.\u001b[39mappend(\u001b[38;5;241m10\u001b[39m,\u001b[38;5;241m20\u001b[39m,\u001b[38;5;241m30\u001b[39m,\u001b[38;5;241m40\u001b[39m)\n\u001b[0;32m      2\u001b[0m li\n",
      "\u001b[1;31mTypeError\u001b[0m: list.append() takes exactly one argument (4 given)"
     ]
    }
   ],
   "source": [
    "li.append(10,20,30,40)\n",
    "li"
   ]
  },
  {
   "cell_type": "code",
   "execution_count": null,
   "id": "8b79c2ec-f2a5-435f-a504-386b5a938277",
   "metadata": {},
   "outputs": [],
   "source": [
    "li.append(10)\n",
    "li.append(20)\n",
    "li.append(30)\n",
    "li.append(40)"
   ]
  },
  {
   "cell_type": "code",
   "execution_count": null,
   "id": "709dccbc-4aac-4828-9f77-6dadeae89288",
   "metadata": {},
   "outputs": [],
   "source": []
  },
  {
   "cell_type": "code",
   "execution_count": null,
   "id": "a56749c1-5832-453d-aa21-06d06475bba4",
   "metadata": {},
   "outputs": [
    {
     "data": {
      "text/plain": [
       "[10, 10, 20, 30, 40]"
      ]
     },
     "execution_count": 170,
     "metadata": {},
     "output_type": "execute_result"
    }
   ],
   "source": [
    "li"
   ]
  },
  {
   "cell_type": "code",
   "execution_count": null,
   "id": "63c516cb-aa64-4108-8411-fe6ab3d4bd81",
   "metadata": {},
   "outputs": [
    {
     "data": {
      "text/plain": [
       "[10, 10, 20, 30, 40]"
      ]
     },
     "execution_count": 172,
     "metadata": {},
     "output_type": "execute_result"
    }
   ],
   "source": [
    "li"
   ]
  },
  {
   "cell_type": "code",
   "execution_count": null,
   "id": "f6e58f3c-87d0-4381-b26c-454265c42a91",
   "metadata": {},
   "outputs": [],
   "source": [
    "li.append(10)\n",
    "li.append(2.3)\n",
    "li.append(True)\n",
    "li.append('2+3j')\n",
    "li.append([1,2,3])"
   ]
  },
  {
   "cell_type": "code",
   "execution_count": null,
   "id": "e5e54aae-2cfd-4595-8865-845b3fd6908f",
   "metadata": {},
   "outputs": [
    {
     "data": {
      "text/plain": [
       "[10, 10, 20, 30, 40, 10, 2.3, True, '2+3j', [1, 2, 3]]"
      ]
     },
     "execution_count": 176,
     "metadata": {},
     "output_type": "execute_result"
    }
   ],
   "source": [
    "li"
   ]
  },
  {
   "cell_type": "code",
   "execution_count": null,
   "id": "877e40f5-fa21-4aee-958c-c1dfae71f180",
   "metadata": {},
   "outputs": [],
   "source": [
    "l1=li.copy()"
   ]
  },
  {
   "cell_type": "code",
   "execution_count": null,
   "id": "c27d665f-64eb-49c1-9a56-4c28ba5f113a",
   "metadata": {},
   "outputs": [
    {
     "data": {
      "text/plain": [
       "[10, 10, 20, 30, 40, 10, 2.3, True, '2+3j', [1, 2, 3]]"
      ]
     },
     "execution_count": 180,
     "metadata": {},
     "output_type": "execute_result"
    }
   ],
   "source": [
    "l1"
   ]
  },
  {
   "cell_type": "code",
   "execution_count": null,
   "id": "da783dfc-d050-4384-a8d6-1f3f731af07c",
   "metadata": {},
   "outputs": [
    {
     "data": {
      "text/plain": [
       "True"
      ]
     },
     "execution_count": 182,
     "metadata": {},
     "output_type": "execute_result"
    }
   ],
   "source": [
    "li==l1"
   ]
  },
  {
   "cell_type": "code",
   "execution_count": null,
   "id": "b1ceaeba-c19a-431d-9ef6-8d2f2a6cb69b",
   "metadata": {},
   "outputs": [
    {
     "data": {
      "text/plain": [
       "False"
      ]
     },
     "execution_count": 184,
     "metadata": {},
     "output_type": "execute_result"
    }
   ],
   "source": [
    "li!=l1"
   ]
  },
  {
   "cell_type": "code",
   "execution_count": null,
   "id": "033bfd9b-9c34-4a44-ad59-fd577ab73940",
   "metadata": {},
   "outputs": [
    {
     "name": "stdout",
     "output_type": "stream",
     "text": [
      "1750974233792\n",
      "1750974962496\n"
     ]
    },
    {
     "data": {
      "text/plain": [
       "True"
      ]
     },
     "execution_count": 186,
     "metadata": {},
     "output_type": "execute_result"
    }
   ],
   "source": [
    "print(id(li))==print(id(l1))"
   ]
  },
  {
   "cell_type": "code",
   "execution_count": null,
   "id": "a848348a-7bbb-4b9f-be18-66c5f5564aa6",
   "metadata": {},
   "outputs": [],
   "source": [
    "l=[1,2,3,4]"
   ]
  },
  {
   "cell_type": "code",
   "execution_count": null,
   "id": "1ceb15d7-b66c-40ef-8573-7ceb72ac8ee1",
   "metadata": {},
   "outputs": [
    {
     "data": {
      "text/plain": [
       "[1, 2, 3, 4]"
      ]
     },
     "execution_count": 190,
     "metadata": {},
     "output_type": "execute_result"
    }
   ],
   "source": [
    "l"
   ]
  },
  {
   "cell_type": "code",
   "execution_count": null,
   "id": "3fa04321-749d-49ce-a019-467953815eb2",
   "metadata": {},
   "outputs": [],
   "source": [
    "l.remove(1)"
   ]
  },
  {
   "cell_type": "code",
   "execution_count": null,
   "id": "c1bba5e8-c173-48be-9249-237cc47abbc3",
   "metadata": {},
   "outputs": [
    {
     "data": {
      "text/plain": [
       "[2, 3, 4]"
      ]
     },
     "execution_count": 194,
     "metadata": {},
     "output_type": "execute_result"
    }
   ],
   "source": [
    "l"
   ]
  },
  {
   "cell_type": "code",
   "execution_count": null,
   "id": "556668aa-4bd2-494c-abb5-c16daa0685c3",
   "metadata": {},
   "outputs": [
    {
     "data": {
      "text/plain": [
       "[2, 3, 4]"
      ]
     },
     "execution_count": 196,
     "metadata": {},
     "output_type": "execute_result"
    }
   ],
   "source": [
    "l"
   ]
  },
  {
   "cell_type": "code",
   "execution_count": null,
   "id": "a1ee0510-8556-4352-9819-1ad175e38aba",
   "metadata": {},
   "outputs": [],
   "source": [
    "#list indexing& slicing"
   ]
  },
  {
   "cell_type": "markdown",
   "id": "c2b53656-c898-415c-b921-0c594c97a14c",
   "metadata": {},
   "source": [
    "string indexing"
   ]
  },
  {
   "cell_type": "code",
   "execution_count": null,
   "id": "3a1e6941-98ab-4959-bab1-79ea46035a09",
   "metadata": {},
   "outputs": [],
   "source": [
    "s7='hello world'"
   ]
  },
  {
   "cell_type": "code",
   "execution_count": null,
   "id": "2d37c896-a330-48e7-8cbd-b15d04505b29",
   "metadata": {},
   "outputs": [
    {
     "data": {
      "text/plain": [
       "'d'"
      ]
     },
     "execution_count": 203,
     "metadata": {},
     "output_type": "execute_result"
    }
   ],
   "source": [
    "s7[10]"
   ]
  },
  {
   "cell_type": "code",
   "execution_count": null,
   "id": "69565b49-5aa5-4958-9850-c14d7171dc70",
   "metadata": {},
   "outputs": [
    {
     "data": {
      "text/plain": [
       "'e'"
      ]
     },
     "execution_count": 205,
     "metadata": {},
     "output_type": "execute_result"
    }
   ],
   "source": [
    "s7[1]"
   ]
  },
  {
   "cell_type": "code",
   "execution_count": null,
   "id": "411373f2-2e3c-473b-87f0-5b70f27d92b3",
   "metadata": {},
   "outputs": [
    {
     "name": "stdout",
     "output_type": "stream",
     "text": [
      "hello world\n",
      "hello world\n",
      "hello world\n",
      "hello world\n",
      "hello world\n",
      "hello world\n",
      "hello world\n",
      "hello world\n",
      "hello world\n",
      "hello world\n",
      "hello world\n"
     ]
    }
   ],
   "source": [
    "for i in s7:\n",
    "    print(s7)"
   ]
  },
  {
   "cell_type": "code",
   "execution_count": null,
   "id": "d38890d0-afd9-41b7-891d-6b6da874898d",
   "metadata": {},
   "outputs": [
    {
     "name": "stdout",
     "output_type": "stream",
     "text": [
      "h\n",
      "e\n",
      "l\n",
      "l\n",
      "o\n",
      " \n",
      "w\n",
      "o\n",
      "r\n",
      "l\n",
      "d\n"
     ]
    }
   ],
   "source": [
    "for i in s7:\n",
    "    print(i)"
   ]
  },
  {
   "cell_type": "code",
   "execution_count": null,
   "id": "9dabd52f-76a1-4bf9-a162-63c0d149850f",
   "metadata": {},
   "outputs": [],
   "source": [
    "s8='nareshit'"
   ]
  },
  {
   "cell_type": "code",
   "execution_count": null,
   "id": "5ce4c918-3ef9-40f7-b959-082917176a19",
   "metadata": {},
   "outputs": [
    {
     "name": "stdout",
     "output_type": "stream",
     "text": [
      "reshi\n"
     ]
    }
   ],
   "source": [
    "print(s8[2:7])"
   ]
  },
  {
   "cell_type": "code",
   "execution_count": null,
   "id": "00d38785-3011-46dd-b353-6e05270b0792",
   "metadata": {},
   "outputs": [
    {
     "name": "stdout",
     "output_type": "stream",
     "text": [
      "areshi\n"
     ]
    }
   ],
   "source": [
    "print(s8[-7:-1])"
   ]
  },
  {
   "cell_type": "code",
   "execution_count": null,
   "id": "31ee3d7d-7232-4502-b79f-c425b35a1865",
   "metadata": {},
   "outputs": [
    {
     "data": {
      "text/plain": [
       "[1, 5, 9]"
      ]
     },
     "execution_count": 217,
     "metadata": {},
     "output_type": "execute_result"
    }
   ],
   "source": [
    "step_indexing=[1,2,3,4,5,6,7,8,9,10]\n",
    "step_indexing[0:10:4]\n"
   ]
  },
  {
   "cell_type": "code",
   "execution_count": null,
   "id": "b3c52293-528c-491f-84b5-045a9def24fb",
   "metadata": {},
   "outputs": [
    {
     "data": {
      "text/plain": [
       "[1, 6]"
      ]
     },
     "execution_count": 219,
     "metadata": {},
     "output_type": "execute_result"
    }
   ],
   "source": [
    "step_indexing[0:10:5]"
   ]
  },
  {
   "cell_type": "code",
   "execution_count": null,
   "id": "e5652f4e-08c8-4822-bc5f-a3d8f63d3eb6",
   "metadata": {},
   "outputs": [],
   "source": [
    "l=[1,2,3,4]\n",
    "l5=l.reverse()"
   ]
  },
  {
   "cell_type": "code",
   "execution_count": null,
   "id": "caf9fcb6-cb77-4899-a00e-a8270e21a556",
   "metadata": {},
   "outputs": [],
   "source": [
    "l5\n"
   ]
  },
  {
   "cell_type": "code",
   "execution_count": null,
   "id": "265151cf-bdc4-49a0-8983-879adc279750",
   "metadata": {},
   "outputs": [
    {
     "name": "stdout",
     "output_type": "stream",
     "text": [
      "None\n"
     ]
    }
   ],
   "source": [
    "print(l5)"
   ]
  },
  {
   "cell_type": "markdown",
   "id": "1f2ff46a-2901-4cef-9784-e7e18affeea3",
   "metadata": {},
   "source": [
    "##### "
   ]
  },
  {
   "cell_type": "code",
   "execution_count": null,
   "id": "a39ce04c-5fea-4d4c-8cba-bf94f503b85d",
   "metadata": {},
   "outputs": [
    {
     "data": {
      "text/plain": [
       "[4, 3, 2, 1]"
      ]
     },
     "execution_count": 228,
     "metadata": {},
     "output_type": "execute_result"
    }
   ],
   "source": [
    "l"
   ]
  },
  {
   "cell_type": "markdown",
   "id": "febf0c69-3322-4aba-a1f5-6677fef10787",
   "metadata": {},
   "source": [
    "## "
   ]
  },
  {
   "cell_type": "code",
   "execution_count": null,
   "id": "e4b5e69d-089d-4125-9ddd-129f65225f22",
   "metadata": {},
   "outputs": [
    {
     "data": {
      "text/plain": [
       "0"
      ]
     },
     "execution_count": 231,
     "metadata": {},
     "output_type": "execute_result"
    }
   ],
   "source": [
    "l.count(70)"
   ]
  },
  {
   "cell_type": "code",
   "execution_count": null,
   "id": "1d7b3442-d80d-4858-8fd9-ce1cd37913df",
   "metadata": {},
   "outputs": [],
   "source": [
    "l.append(70)"
   ]
  },
  {
   "cell_type": "code",
   "execution_count": null,
   "id": "da24b9b4-d8fe-4285-b769-03196dcd4b95",
   "metadata": {},
   "outputs": [
    {
     "data": {
      "text/plain": [
       "1"
      ]
     },
     "execution_count": 235,
     "metadata": {},
     "output_type": "execute_result"
    }
   ],
   "source": [
    "l.count(70)\n"
   ]
  },
  {
   "cell_type": "code",
   "execution_count": null,
   "id": "e519d272-e36c-465d-bdb7-5dd5cf7b11fc",
   "metadata": {},
   "outputs": [
    {
     "data": {
      "text/plain": [
       "[4, 3, 2, 1, 70]"
      ]
     },
     "execution_count": 237,
     "metadata": {},
     "output_type": "execute_result"
    }
   ],
   "source": [
    "l[:]"
   ]
  },
  {
   "cell_type": "code",
   "execution_count": null,
   "id": "4d74f001-8df9-4bd4-9ccc-79e562e81b1e",
   "metadata": {},
   "outputs": [
    {
     "data": {
      "text/plain": [
       "[4, 3, 2, 1, 70]"
      ]
     },
     "execution_count": 239,
     "metadata": {},
     "output_type": "execute_result"
    }
   ],
   "source": [
    "l[:5]"
   ]
  },
  {
   "cell_type": "code",
   "execution_count": null,
   "id": "b161c03b-3d94-48a9-885c-a916e2dc5b18",
   "metadata": {},
   "outputs": [
    {
     "data": {
      "text/plain": [
       "[10, 10, 20, 30, 40, 10, 2.3, True, '2+3j', [1, 2, 3]]"
      ]
     },
     "execution_count": 241,
     "metadata": {},
     "output_type": "execute_result"
    }
   ],
   "source": [
    "li"
   ]
  },
  {
   "cell_type": "code",
   "execution_count": null,
   "id": "9cde2750-9b0e-4750-b3a5-4eef43751af7",
   "metadata": {},
   "outputs": [
    {
     "data": {
      "text/plain": [
       "[10, 10, 20, 30, 40]"
      ]
     },
     "execution_count": 243,
     "metadata": {},
     "output_type": "execute_result"
    }
   ],
   "source": [
    "li[:5]"
   ]
  },
  {
   "cell_type": "code",
   "execution_count": null,
   "id": "0fa2161f-b4e6-4730-a5e7-dd89efdb73b3",
   "metadata": {},
   "outputs": [],
   "source": [
    "l3=[40,30,20,10,40,30,20]"
   ]
  },
  {
   "cell_type": "markdown",
   "id": "dd6e664c-abc4-42ad-8497-788337b1fbc5",
   "metadata": {},
   "source": [
    "### "
   ]
  },
  {
   "cell_type": "code",
   "execution_count": null,
   "id": "2f103d13-ed42-4b33-80e5-22b6df655b62",
   "metadata": {},
   "outputs": [
    {
     "data": {
      "text/plain": [
       "[40, 30, 20, 10, 40, 30, 20]"
      ]
     },
     "execution_count": 248,
     "metadata": {},
     "output_type": "execute_result"
    }
   ],
   "source": [
    "l3"
   ]
  },
  {
   "cell_type": "markdown",
   "id": "f9da24f0-b494-4948-a7e1-227915b26d60",
   "metadata": {},
   "source": [
    "### "
   ]
  },
  {
   "cell_type": "code",
   "execution_count": null,
   "id": "8f2176a2-3cfc-43ea-bc8e-4b7b9204860f",
   "metadata": {},
   "outputs": [
    {
     "data": {
      "text/plain": [
       "1750974233792"
      ]
     },
     "execution_count": 251,
     "metadata": {},
     "output_type": "execute_result"
    }
   ],
   "source": [
    "id(li)"
   ]
  },
  {
   "cell_type": "code",
   "execution_count": null,
   "id": "365311e0-779d-4e38-b6ea-3272383146fe",
   "metadata": {},
   "outputs": [
    {
     "data": {
      "text/plain": [
       "10"
      ]
     },
     "execution_count": 253,
     "metadata": {},
     "output_type": "execute_result"
    }
   ],
   "source": [
    "len(li)"
   ]
  },
  {
   "cell_type": "code",
   "execution_count": null,
   "id": "0d1c74f8-0b99-489c-921d-e88f87548676",
   "metadata": {},
   "outputs": [],
   "source": [
    "li.clear()\n"
   ]
  },
  {
   "cell_type": "code",
   "execution_count": null,
   "id": "ee31839b-bc73-40b2-8344-ea9cc409a19b",
   "metadata": {},
   "outputs": [
    {
     "data": {
      "text/plain": [
       "1750974233792"
      ]
     },
     "execution_count": 257,
     "metadata": {},
     "output_type": "execute_result"
    }
   ],
   "source": [
    "id(li)"
   ]
  },
  {
   "cell_type": "code",
   "execution_count": null,
   "id": "369cf86c-8c2d-4b5e-9fac-715418df90fc",
   "metadata": {},
   "outputs": [],
   "source": [
    "del li"
   ]
  },
  {
   "cell_type": "markdown",
   "id": "de9ee62b-96c4-42be-8e0b-ce5603c679d4",
   "metadata": {},
   "source": []
  },
  {
   "cell_type": "code",
   "execution_count": null,
   "id": "affe7956-53a0-490f-b73a-23a1456c6da0",
   "metadata": {},
   "outputs": [
    {
     "data": {
      "text/plain": [
       "[40, 30, 20, 10, 40, 30, 20]"
      ]
     },
     "execution_count": 262,
     "metadata": {},
     "output_type": "execute_result"
    }
   ],
   "source": [
    "l3"
   ]
  },
  {
   "cell_type": "code",
   "execution_count": null,
   "id": "99cacd54-ff3b-421d-ae3d-923a67a96a6f",
   "metadata": {},
   "outputs": [
    {
     "data": {
      "text/plain": [
       "[40, 30, 20, 10, 40, 30, 20]"
      ]
     },
     "execution_count": 264,
     "metadata": {},
     "output_type": "execute_result"
    }
   ],
   "source": [
    "l3"
   ]
  },
  {
   "cell_type": "code",
   "execution_count": null,
   "id": "7f4da471-25af-4e73-95ce-ac5f41b1f58c",
   "metadata": {},
   "outputs": [
    {
     "data": {
      "text/plain": [
       "20"
      ]
     },
     "execution_count": 266,
     "metadata": {},
     "output_type": "execute_result"
    }
   ],
   "source": [
    "l3.pop()#pop removes index wise\n"
   ]
  },
  {
   "cell_type": "code",
   "execution_count": null,
   "id": "25efe9fe-b37b-48ac-8652-388d1b09b478",
   "metadata": {},
   "outputs": [
    {
     "data": {
      "text/plain": [
       "[40, 30, 20, 10, 40, 30]"
      ]
     },
     "execution_count": 268,
     "metadata": {},
     "output_type": "execute_result"
    }
   ],
   "source": [
    "l3"
   ]
  },
  {
   "cell_type": "markdown",
   "id": "76cb8e81-30ae-4626-8b99-755c8b6c1e49",
   "metadata": {},
   "source": []
  },
  {
   "cell_type": "code",
   "execution_count": null,
   "id": "f9cb4cbc-2d64-4e52-a525-104c9e168b60",
   "metadata": {},
   "outputs": [
    {
     "data": {
      "text/plain": [
       "[40, 30, 20, 10, 40, 30]"
      ]
     },
     "execution_count": 271,
     "metadata": {},
     "output_type": "execute_result"
    }
   ],
   "source": [
    "l3"
   ]
  },
  {
   "cell_type": "code",
   "execution_count": null,
   "id": "b0b09d33-ed16-470e-bf28-dc62aea352e6",
   "metadata": {},
   "outputs": [],
   "source": [
    "l3.insert(2,25)"
   ]
  },
  {
   "cell_type": "code",
   "execution_count": null,
   "id": "7f7620f3-9aec-4cbc-829d-f29c5cc3af81",
   "metadata": {},
   "outputs": [
    {
     "data": {
      "text/plain": [
       "[40, 30, 25, 20, 10, 40, 30]"
      ]
     },
     "execution_count": 275,
     "metadata": {},
     "output_type": "execute_result"
    }
   ],
   "source": [
    "l3"
   ]
  },
  {
   "cell_type": "code",
   "execution_count": null,
   "id": "cbf5b68d-f0f8-46a9-801f-ad013d6edfd4",
   "metadata": {},
   "outputs": [
    {
     "data": {
      "text/plain": [
       "[4, 3, 2, 1, 70]"
      ]
     },
     "execution_count": 277,
     "metadata": {},
     "output_type": "execute_result"
    }
   ],
   "source": [
    "l"
   ]
  },
  {
   "cell_type": "code",
   "execution_count": null,
   "id": "331dd2c3-c745-4158-9624-ad5dbe38b4cb",
   "metadata": {},
   "outputs": [],
   "source": [
    "l[0]=40"
   ]
  },
  {
   "cell_type": "code",
   "execution_count": null,
   "id": "ef3d1342-c8b2-42fe-8fc0-567d83780a82",
   "metadata": {},
   "outputs": [
    {
     "data": {
      "text/plain": [
       "[40, 3, 2, 1, 70]"
      ]
     },
     "execution_count": 281,
     "metadata": {},
     "output_type": "execute_result"
    }
   ],
   "source": [
    "l"
   ]
  },
  {
   "cell_type": "code",
   "execution_count": null,
   "id": "0cae1241-1ddf-4cd0-89d3-082becd32575",
   "metadata": {},
   "outputs": [],
   "source": [
    "l[1]=30"
   ]
  },
  {
   "cell_type": "code",
   "execution_count": null,
   "id": "2e23e0f8-cbdd-4c39-9f78-7a2dc546c269",
   "metadata": {},
   "outputs": [
    {
     "data": {
      "text/plain": [
       "[40, 30, 2, 1, 70]"
      ]
     },
     "execution_count": 285,
     "metadata": {},
     "output_type": "execute_result"
    }
   ],
   "source": [
    "l"
   ]
  },
  {
   "cell_type": "code",
   "execution_count": null,
   "id": "f87dfbb3-ad80-4155-8ab1-19e1217e95ca",
   "metadata": {},
   "outputs": [],
   "source": [
    "l.append(20)"
   ]
  },
  {
   "cell_type": "code",
   "execution_count": null,
   "id": "cac5bfa4-67e2-4510-acc2-9145d1843422",
   "metadata": {},
   "outputs": [
    {
     "data": {
      "text/plain": [
       "[40, 30, 2, 1, 70, 20]"
      ]
     },
     "execution_count": 289,
     "metadata": {},
     "output_type": "execute_result"
    }
   ],
   "source": [
    "l"
   ]
  },
  {
   "cell_type": "code",
   "execution_count": null,
   "id": "9a93e7a1-6ebd-410e-877c-2520f2babb95",
   "metadata": {},
   "outputs": [],
   "source": [
    "l.insert(7,80)\n"
   ]
  },
  {
   "cell_type": "code",
   "execution_count": null,
   "id": "3924ff82-ec1b-4dfb-ac2e-c8fe5acdd9ee",
   "metadata": {},
   "outputs": [
    {
     "data": {
      "text/plain": [
       "[40, 30, 2, 1, 70, 20, 80]"
      ]
     },
     "execution_count": 293,
     "metadata": {},
     "output_type": "execute_result"
    }
   ],
   "source": [
    "l"
   ]
  },
  {
   "cell_type": "code",
   "execution_count": null,
   "id": "3f4e431e-f96e-4835-b346-239deed9c4db",
   "metadata": {},
   "outputs": [],
   "source": [
    "\n",
    "l.extend(l1)"
   ]
  },
  {
   "cell_type": "code",
   "execution_count": null,
   "id": "19d7dfac-a873-4cd2-88d1-33fec84cc643",
   "metadata": {},
   "outputs": [],
   "source": []
  },
  {
   "cell_type": "code",
   "execution_count": null,
   "id": "aedb0661-ba7f-42a0-a016-976657c0d005",
   "metadata": {},
   "outputs": [
    {
     "data": {
      "text/plain": [
       "[40,\n",
       " 30,\n",
       " 2,\n",
       " 1,\n",
       " 70,\n",
       " 20,\n",
       " 80,\n",
       " 10,\n",
       " 10,\n",
       " 20,\n",
       " 30,\n",
       " 40,\n",
       " 10,\n",
       " 2.3,\n",
       " True,\n",
       " '2+3j',\n",
       " [1, 2, 3]]"
      ]
     },
     "execution_count": 298,
     "metadata": {},
     "output_type": "execute_result"
    }
   ],
   "source": [
    "l"
   ]
  },
  {
   "cell_type": "code",
   "execution_count": null,
   "id": "762547eb-7186-49d4-b109-e7798c6877e2",
   "metadata": {},
   "outputs": [
    {
     "name": "stdout",
     "output_type": "stream",
     "text": [
      "40\n",
      "30\n",
      "2\n",
      "1\n",
      "70\n",
      "20\n",
      "80\n",
      "10\n",
      "10\n",
      "20\n",
      "30\n",
      "40\n",
      "10\n",
      "2.3\n",
      "True\n",
      "2+3j\n",
      "[1, 2, 3]\n"
     ]
    }
   ],
   "source": [
    "for i in l:\n",
    "    print(i)"
   ]
  },
  {
   "cell_type": "code",
   "execution_count": null,
   "id": "d11a3d58-23f2-4e2c-9aff-9f8803faec63",
   "metadata": {},
   "outputs": [],
   "source": [
    "a=3\n",
    "b=6\n"
   ]
  },
  {
   "cell_type": "code",
   "execution_count": null,
   "id": "d16e0120-773f-4d19-bf07-c4a494ea62f7",
   "metadata": {},
   "outputs": [
    {
     "name": "stdout",
     "output_type": "stream",
     "text": [
      "9\n"
     ]
    }
   ],
   "source": [
    "print(a+b)"
   ]
  },
  {
   "cell_type": "code",
   "execution_count": null,
   "id": "55938e0f-d258-4961-8086-c7813445e1b0",
   "metadata": {},
   "outputs": [],
   "source": [
    "_=9\n"
   ]
  },
  {
   "cell_type": "code",
   "execution_count": null,
   "id": "26889e9e-ae30-44a9-b963-cd3ebc4159ad",
   "metadata": {},
   "outputs": [
    {
     "data": {
      "text/plain": [
       "9"
      ]
     },
     "execution_count": 308,
     "metadata": {},
     "output_type": "execute_result"
    }
   ],
   "source": [
    "_\n"
   ]
  },
  {
   "cell_type": "code",
   "execution_count": null,
   "id": "6496b051-9fe0-42fc-923d-461ca01faf63",
   "metadata": {},
   "outputs": [
    {
     "data": {
      "text/plain": [
       "15"
      ]
     },
     "execution_count": 310,
     "metadata": {},
     "output_type": "execute_result"
    }
   ],
   "source": [
    "_+6"
   ]
  },
  {
   "cell_type": "code",
   "execution_count": null,
   "id": "8bd5b3a0-1613-4756-9098-b235d91cf9cb",
   "metadata": {},
   "outputs": [
    {
     "data": {
      "text/plain": [
       "12"
      ]
     },
     "execution_count": 312,
     "metadata": {},
     "output_type": "execute_result"
    }
   ],
   "source": [
    "_+a"
   ]
  },
  {
   "cell_type": "code",
   "execution_count": null,
   "id": "b834f7f0-cf84-41ed-9e5a-4979672d9227",
   "metadata": {},
   "outputs": [],
   "source": []
  },
  {
   "cell_type": "code",
   "execution_count": null,
   "id": "8d015936-5a52-4d07-8cad-250b2b0039c6",
   "metadata": {},
   "outputs": [],
   "source": []
  },
  {
   "cell_type": "code",
   "execution_count": null,
   "id": "f9370c98-17d6-4461-917b-44640fd63765",
   "metadata": {},
   "outputs": [],
   "source": []
  },
  {
   "cell_type": "code",
   "execution_count": null,
   "id": "a9f1292a-e774-4e06-9e1b-ee6a55dd8a8d",
   "metadata": {},
   "outputs": [],
   "source": []
  },
  {
   "cell_type": "code",
   "execution_count": null,
   "id": "1fa7fa55-b8b3-47f0-be24-486e6247c494",
   "metadata": {},
   "outputs": [],
   "source": []
  },
  {
   "cell_type": "code",
   "execution_count": null,
   "id": "bdb6d52b-010e-498c-bbb1-ddf4a4864d41",
   "metadata": {},
   "outputs": [],
   "source": []
  },
  {
   "cell_type": "code",
   "execution_count": null,
   "id": "a471b1f3-2641-4a6a-a437-d7f6c788742e",
   "metadata": {},
   "outputs": [],
   "source": []
  },
  {
   "cell_type": "code",
   "execution_count": null,
   "id": "15d5eb35-7cc8-4a95-b318-870b62d1993f",
   "metadata": {},
   "outputs": [],
   "source": []
  },
  {
   "cell_type": "code",
   "execution_count": null,
   "id": "d176eda0-a85d-40fe-bdda-0eaca1de7d81",
   "metadata": {},
   "outputs": [],
   "source": []
  }
 ],
 "metadata": {
  "kernelspec": {
   "display_name": "Python 3",
   "language": "python",
   "name": "python3"
  },
  "language_info": {
   "codemirror_mode": {
    "name": "ipython",
    "version": 3
   },
   "file_extension": ".py",
   "mimetype": "text/x-python",
   "name": "python",
   "nbconvert_exporter": "python",
   "pygments_lexer": "ipython3",
   "version": "3.13.2"
  }
 },
 "nbformat": 4,
 "nbformat_minor": 5
}
