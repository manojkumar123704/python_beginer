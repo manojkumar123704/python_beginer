{
 "cells": [
  {
   "cell_type": "code",
   "execution_count": 1,
   "id": "347a909c-4ca6-4ddb-9f24-6b56e59b2100",
   "metadata": {},
   "outputs": [],
   "source": [
    "txt=\"  abc def ghi  \"\n"
   ]
  },
  {
   "cell_type": "code",
   "execution_count": 3,
   "id": "8fb78b42-f727-4c1e-9e84-2c6b37d4ad9b",
   "metadata": {},
   "outputs": [
    {
     "data": {
      "text/plain": [
       "'abc def ghi  '"
      ]
     },
     "execution_count": 3,
     "metadata": {},
     "output_type": "execute_result"
    }
   ],
   "source": [
    "txt.lstrip()#lstrip prints the string you have given"
   ]
  },
  {
   "cell_type": "code",
   "execution_count": 5,
   "id": "03683546-c10b-418a-a7d8-e545d5ce6d53",
   "metadata": {},
   "outputs": [
    {
     "data": {
      "text/plain": [
       "'abc def ghi'"
      ]
     },
     "execution_count": 5,
     "metadata": {},
     "output_type": "execute_result"
    }
   ],
   "source": [
    "txt.strip()#strip prints without any spaces in the string"
   ]
  },
  {
   "cell_type": "code",
   "execution_count": 7,
   "id": "6be906db-5d54-4f28-926b-5cbd4c2592c0",
   "metadata": {},
   "outputs": [
    {
     "data": {
      "text/plain": [
       "'  abc def ghi  '"
      ]
     },
     "execution_count": 7,
     "metadata": {},
     "output_type": "execute_result"
    }
   ],
   "source": [
    "txt"
   ]
  },
  {
   "cell_type": "markdown",
   "id": "c9004e00-99f9-46f5-a498-2fa3e7f44a90",
   "metadata": {},
   "source": [
    "using escape character\n"
   ]
  },
  {
   "cell_type": "code",
   "execution_count": 10,
   "id": "c163abe6-8a07-4e6f-b65f-e2b682a7b95d",
   "metadata": {},
   "outputs": [
    {
     "ename": "SyntaxError",
     "evalue": "invalid syntax (2884377909.py, line 1)",
     "output_type": "error",
     "traceback": [
      "\u001b[1;36m  Cell \u001b[1;32mIn[10], line 1\u001b[1;36m\u001b[0m\n\u001b[1;33m    mystr=\"my favourite movie is\"Game of thrones\"\"\u001b[0m\n\u001b[1;37m                                 ^\u001b[0m\n\u001b[1;31mSyntaxError\u001b[0m\u001b[1;31m:\u001b[0m invalid syntax\n"
     ]
    }
   ],
   "source": [
    "mystr=\"my favourite movie is\"Game of thrones\"\""
   ]
  },
  {
   "cell_type": "code",
   "execution_count": 18,
   "id": "757880da-4ec1-4832-8655-df9904100a97",
   "metadata": {},
   "outputs": [
    {
     "name": "stdout",
     "output_type": "stream",
     "text": [
      "my favourite movie is\"Game of thrones\"\n"
     ]
    }
   ],
   "source": [
    "mystr=\"my favourite movie is\\\"Game of thrones\\\"\"#here '\\' makes the string run with error\n",
    "print(mystr)"
   ]
  },
  {
   "cell_type": "code",
   "execution_count": 20,
   "id": "8ef51f3a-5c14-458f-b141-c21a6053a5ff",
   "metadata": {},
   "outputs": [
    {
     "name": "stdout",
     "output_type": "stream",
     "text": [
      "my favourite movie is\"Game of thrones\"\n"
     ]
    }
   ],
   "source": [
    "print(mystr)"
   ]
  },
  {
   "cell_type": "markdown",
   "id": "030099ab-53ad-436c-a457-0a2d7feac334",
   "metadata": {},
   "source": [
    "LIST"
   ]
  },
  {
   "cell_type": "code",
   "execution_count": 42,
   "id": "f9dffa59-7870-4196-87e5-4f2a644af4dd",
   "metadata": {},
   "outputs": [],
   "source": [
    "list1=[]"
   ]
  },
  {
   "cell_type": "code",
   "execution_count": 49,
   "id": "089e9887-e658-4f0d-b91d-386de381aa13",
   "metadata": {},
   "outputs": [],
   "source": [
    "list1.append(20)#append is used for adding an value or element at last"
   ]
  },
  {
   "cell_type": "code",
   "execution_count": 51,
   "id": "b6db47e2-6aac-43e2-b79e-d3f23ca7b945",
   "metadata": {},
   "outputs": [
    {
     "data": {
      "text/plain": [
       "[20]"
      ]
     },
     "execution_count": 51,
     "metadata": {},
     "output_type": "execute_result"
    }
   ],
   "source": [
    "list1"
   ]
  },
  {
   "cell_type": "code",
   "execution_count": 53,
   "id": "d9064ec2-bcdb-443d-9c75-71d9d7fab525",
   "metadata": {},
   "outputs": [
    {
     "name": "stdout",
     "output_type": "stream",
     "text": [
      "<class 'list'>\n"
     ]
    }
   ],
   "source": [
    "print(type(list1))#prints type of the list"
   ]
  },
  {
   "cell_type": "code",
   "execution_count": 59,
   "id": "02c3e21c-6706-4960-8149-7c96daf29eb2",
   "metadata": {},
   "outputs": [],
   "source": [
    "list2=[10,30,60]"
   ]
  },
  {
   "cell_type": "code",
   "execution_count": 61,
   "id": "e9facd7b-4b47-44b2-8b51-2fbbec37fad7",
   "metadata": {},
   "outputs": [
    {
     "data": {
      "text/plain": [
       "[10, 30, 60]"
      ]
     },
     "execution_count": 61,
     "metadata": {},
     "output_type": "execute_result"
    }
   ],
   "source": [
    "list2"
   ]
  },
  {
   "cell_type": "code",
   "execution_count": 63,
   "id": "754252cd-4347-405b-9e73-faa0eaa9306d",
   "metadata": {},
   "outputs": [],
   "source": [
    "list3=[10,77,30.66,60.89]"
   ]
  },
  {
   "cell_type": "code",
   "execution_count": 65,
   "id": "5efc828d-0bd8-43d3-a614-f0d4fd3e4b1b",
   "metadata": {},
   "outputs": [],
   "source": [
    "list4=['one','two',\"three\"]"
   ]
  },
  {
   "cell_type": "code",
   "execution_count": 67,
   "id": "46e9cce8-f97b-47ad-9936-631cefdf0a3c",
   "metadata": {},
   "outputs": [],
   "source": [
    "list5=['asif',25,[50,100],[150,90]]#nested "
   ]
  },
  {
   "cell_type": "code",
   "execution_count": 69,
   "id": "dc5b71b4-8626-4eef-b18f-8f0815d3e5ac",
   "metadata": {},
   "outputs": [],
   "source": [
    "list6=[100,'asif',17.765]"
   ]
  },
  {
   "cell_type": "code",
   "execution_count": 71,
   "id": "cb0f17be-207a-4010-8594-f8a8b765a7bd",
   "metadata": {},
   "outputs": [],
   "source": [
    "list7=['asif',25,[50,100],[150,90],{'john','david'}]"
   ]
  },
  {
   "cell_type": "code",
   "execution_count": 73,
   "id": "8c4f319c-9403-4a28-9af7-f4c9ab300e5a",
   "metadata": {},
   "outputs": [
    {
     "data": {
      "text/plain": [
       "3"
      ]
     },
     "execution_count": 73,
     "metadata": {},
     "output_type": "execute_result"
    }
   ],
   "source": [
    "len(list6)"
   ]
  },
  {
   "cell_type": "code",
   "execution_count": 75,
   "id": "236ab98c-58b7-4cc1-a682-b3c4ac451e58",
   "metadata": {},
   "outputs": [
    {
     "data": {
      "text/plain": [
       "5"
      ]
     },
     "execution_count": 75,
     "metadata": {},
     "output_type": "execute_result"
    }
   ],
   "source": [
    "len(list7)#gives the length of the list"
   ]
  },
  {
   "cell_type": "code",
   "execution_count": 77,
   "id": "f0c74ec5-d5dc-4289-b949-803d2561c54c",
   "metadata": {},
   "outputs": [
    {
     "data": {
      "text/plain": [
       "[10, 30, 60]"
      ]
     },
     "execution_count": 77,
     "metadata": {},
     "output_type": "execute_result"
    }
   ],
   "source": [
    "list2"
   ]
  },
  {
   "cell_type": "code",
   "execution_count": 81,
   "id": "c61b33a3-d8e2-4a28-88a5-c89a3e055d6e",
   "metadata": {},
   "outputs": [
    {
     "data": {
      "text/plain": [
       "10"
      ]
     },
     "execution_count": 81,
     "metadata": {},
     "output_type": "execute_result"
    }
   ],
   "source": [
    "list2[0]#shows the value at index 0 oin the list"
   ]
  },
  {
   "cell_type": "code",
   "execution_count": 83,
   "id": "00d4a2fd-8dff-47b5-b43b-54bb886ac8de",
   "metadata": {},
   "outputs": [
    {
     "ename": "IndexError",
     "evalue": "list index out of range",
     "output_type": "error",
     "traceback": [
      "\u001b[1;31m---------------------------------------------------------------------------\u001b[0m",
      "\u001b[1;31mIndexError\u001b[0m                                Traceback (most recent call last)",
      "Cell \u001b[1;32mIn[83], line 1\u001b[0m\n\u001b[1;32m----> 1\u001b[0m list2[\u001b[38;5;241m4\u001b[39m]\n",
      "\u001b[1;31mIndexError\u001b[0m: list index out of range"
     ]
    }
   ],
   "source": [
    "list2[4]# shoes the error out of range"
   ]
  },
  {
   "cell_type": "code",
   "execution_count": 344,
   "id": "b9483659-60cd-423e-8dbf-b53895e88455",
   "metadata": {},
   "outputs": [
    {
     "data": {
      "text/plain": [
       "list[slice(2, 0, None)]"
      ]
     },
     "execution_count": 344,
     "metadata": {},
     "output_type": "execute_result"
    }
   ],
   "source": [
    "list[2:0]"
   ]
  },
  {
   "cell_type": "code",
   "execution_count": 342,
   "id": "33331b87-e555-4757-bb26-a6fb4de4bcfb",
   "metadata": {},
   "outputs": [
    {
     "data": {
      "text/plain": [
       "'three'"
      ]
     },
     "execution_count": 342,
     "metadata": {},
     "output_type": "execute_result"
    }
   ],
   "source": [
    "list4[-1]"
   ]
  },
  {
   "cell_type": "code",
   "execution_count": 89,
   "id": "02e96754-f9d3-49a0-85d1-5cbcebe18b5e",
   "metadata": {},
   "outputs": [
    {
     "data": {
      "text/plain": [
       "[150, 90]"
      ]
     },
     "execution_count": 89,
     "metadata": {},
     "output_type": "execute_result"
    }
   ],
   "source": [
    "list5[-1]"
   ]
  },
  {
   "cell_type": "code",
   "execution_count": 91,
   "id": "63d3cc9d-a36b-4e40-977c-8925cc51bd1f",
   "metadata": {},
   "outputs": [],
   "source": [
    "mylist=['one','two','three','four','five','six','seven','eight']"
   ]
  },
  {
   "cell_type": "code",
   "execution_count": 93,
   "id": "90e7e2fc-0fac-4c7a-b6a7-99463817d11c",
   "metadata": {},
   "outputs": [
    {
     "data": {
      "text/plain": [
       "['one', 'two', 'three', 'four', 'five', 'six', 'seven', 'eight']"
      ]
     },
     "execution_count": 93,
     "metadata": {},
     "output_type": "execute_result"
    }
   ],
   "source": [
    "mylist"
   ]
  },
  {
   "cell_type": "code",
   "execution_count": 95,
   "id": "7d20c12c-8bd5-492a-b516-223dce2e2470",
   "metadata": {},
   "outputs": [
    {
     "data": {
      "text/plain": [
       "['one', 'two', 'three']"
      ]
     },
     "execution_count": 95,
     "metadata": {},
     "output_type": "execute_result"
    }
   ],
   "source": [
    "mylist[0:3]"
   ]
  },
  {
   "cell_type": "code",
   "execution_count": 97,
   "id": "37fdb0e7-ba89-45e0-a282-a0db773c8248",
   "metadata": {},
   "outputs": [
    {
     "data": {
      "text/plain": [
       "['one', 'two', 'three', 'four', 'five', 'six', 'seven']"
      ]
     },
     "execution_count": 97,
     "metadata": {},
     "output_type": "execute_result"
    }
   ],
   "source": [
    "mylist[0:-1]"
   ]
  },
  {
   "cell_type": "code",
   "execution_count": 99,
   "id": "142fddd2-67d9-4e2b-9fb7-4b59cdbb6ac3",
   "metadata": {},
   "outputs": [
    {
     "data": {
      "text/plain": [
       "['one', 'two', 'three', 'four', 'five', 'six']"
      ]
     },
     "execution_count": 99,
     "metadata": {},
     "output_type": "execute_result"
    }
   ],
   "source": [
    "mylist[:-2]"
   ]
  },
  {
   "cell_type": "code",
   "execution_count": 103,
   "id": "23b24880-ad28-4826-9b08-ee7603a9e3df",
   "metadata": {},
   "outputs": [
    {
     "data": {
      "text/plain": [
       "['six', 'seven', 'eight']"
      ]
     },
     "execution_count": 103,
     "metadata": {},
     "output_type": "execute_result"
    }
   ],
   "source": [
    "mylist."
   ]
  },
  {
   "cell_type": "code",
   "execution_count": 105,
   "id": "df3602eb-3c73-4515-a780-c039ddc9a24b",
   "metadata": {},
   "outputs": [
    {
     "data": {
      "text/plain": [
       "['one', 'two', 'three', 'four', 'five', 'six', 'seven', 'eight']"
      ]
     },
     "execution_count": 105,
     "metadata": {},
     "output_type": "execute_result"
    }
   ],
   "source": [
    "mylist[:]"
   ]
  },
  {
   "cell_type": "markdown",
   "id": "f5405157-3a5f-4bb8-8300-757d6ed6c389",
   "metadata": {},
   "source": [
    "ADD,REMOVE,&CHANGES ITEMS"
   ]
  },
  {
   "cell_type": "code",
   "execution_count": 110,
   "id": "0658b09f-111c-4d23-a3e8-61ae5e7af489",
   "metadata": {},
   "outputs": [
    {
     "data": {
      "text/plain": [
       "['one', 'two', 'three', 'four', 'five', 'six', 'seven', 'eight']"
      ]
     },
     "execution_count": 110,
     "metadata": {},
     "output_type": "execute_result"
    }
   ],
   "source": [
    "mylist."
   ]
  },
  {
   "cell_type": "code",
   "execution_count": 112,
   "id": "66e1815a-6f93-4981-9cf8-fe765eec4a86",
   "metadata": {},
   "outputs": [],
   "source": [
    "mylist.appe"
   ]
  },
  {
   "cell_type": "code",
   "execution_count": 114,
   "id": "d662f472-3b4e-4c27-99b2-aa15e8a52448",
   "metadata": {},
   "outputs": [
    {
     "data": {
      "text/plain": [
       "['one', 'two', 'three', 'four', 'five', 'six', 'seven', 'eight', 'nine']"
      ]
     },
     "execution_count": 114,
     "metadata": {},
     "output_type": "execute_result"
    }
   ],
   "source": [
    "mylist"
   ]
  },
  {
   "cell_type": "code",
   "execution_count": 116,
   "id": "575edc2e-b2b6-43c0-9997-efe8fad47be2",
   "metadata": {},
   "outputs": [],
   "source": [
    "mylist.insert(9,'ten')"
   ]
  },
  {
   "cell_type": "code",
   "execution_count": 118,
   "id": "cef2c10e-17e5-4995-8703-aaa112284d90",
   "metadata": {},
   "outputs": [
    {
     "data": {
      "text/plain": [
       "['one', 'two', 'three', 'four', 'five', 'six', 'seven', 'eight', 'nine', 'ten']"
      ]
     },
     "execution_count": 118,
     "metadata": {},
     "output_type": "execute_result"
    }
   ],
   "source": [
    "mylist"
   ]
  },
  {
   "cell_type": "code",
   "execution_count": 124,
   "id": "190eeca5-2570-4640-8a35-36e01219fcf0",
   "metadata": {},
   "outputs": [],
   "source": [
    "mylist.insert(1,'ONE')"
   ]
  },
  {
   "cell_type": "code",
   "execution_count": 126,
   "id": "0d97e754-85a9-4c0c-87fc-5b29b3720dfa",
   "metadata": {},
   "outputs": [
    {
     "data": {
      "text/plain": [
       "['one',\n",
       " 'ONE',\n",
       " 'one',\n",
       " 'two',\n",
       " 'three',\n",
       " 'four',\n",
       " 'five',\n",
       " 'six',\n",
       " 'seven',\n",
       " 'eight',\n",
       " 'nine',\n",
       " 'ten']"
      ]
     },
     "execution_count": 126,
     "metadata": {},
     "output_type": "execute_result"
    }
   ],
   "source": [
    "mylist"
   ]
  },
  {
   "cell_type": "code",
   "execution_count": 141,
   "id": "791c0fe7-f569-482f-82fb-718f0dd168ad",
   "metadata": {},
   "outputs": [],
   "source": [
    "\n",
    "mylist.remove('one')"
   ]
  },
  {
   "cell_type": "code",
   "execution_count": 143,
   "id": "2736e72d-5a7a-4ea4-8166-c6ef5e54080c",
   "metadata": {},
   "outputs": [
    {
     "data": {
      "text/plain": [
       "['one', 'two', 'three', 'four', 'five', 'six', 'seven', 'eight', 'nine', 'ten']"
      ]
     },
     "execution_count": 143,
     "metadata": {},
     "output_type": "execute_result"
    }
   ],
   "source": [
    "mylist"
   ]
  },
  {
   "cell_type": "code",
   "execution_count": 145,
   "id": "04ce2496-8ccc-4513-ab74-1925b1ff2740",
   "metadata": {},
   "outputs": [
    {
     "data": {
      "text/plain": [
       "'ten'"
      ]
     },
     "execution_count": 145,
     "metadata": {},
     "output_type": "execute_result"
    }
   ],
   "source": [
    "mylist.pop()"
   ]
  },
  {
   "cell_type": "code",
   "execution_count": 147,
   "id": "863eff37-3070-4413-b105-7922d73619d5",
   "metadata": {},
   "outputs": [
    {
     "data": {
      "text/plain": [
       "'nine'"
      ]
     },
     "execution_count": 147,
     "metadata": {},
     "output_type": "execute_result"
    }
   ],
   "source": [
    "mylist.pop(8)"
   ]
  },
  {
   "cell_type": "code",
   "execution_count": 149,
   "id": "3ba13e71-85c9-4794-b635-0cbfeddfbb21",
   "metadata": {},
   "outputs": [],
   "source": [
    "del mylist[7]"
   ]
  },
  {
   "cell_type": "code",
   "execution_count": 151,
   "id": "96af4dc5-95e0-488c-b1d5-30d9a008a6b2",
   "metadata": {},
   "outputs": [
    {
     "data": {
      "text/plain": [
       "['one', 'two', 'three', 'four', 'five', 'six', 'seven']"
      ]
     },
     "execution_count": 151,
     "metadata": {},
     "output_type": "execute_result"
    }
   ],
   "source": [
    "mylist"
   ]
  },
  {
   "cell_type": "code",
   "execution_count": 157,
   "id": "fc950580-d046-4362-afd8-5acc3a6c87b5",
   "metadata": {},
   "outputs": [],
   "source": [
    "#change value of list\n",
    "mylist[0]=1\n",
    "mylist[1]=2\n",
    "mylist[2]=3"
   ]
  },
  {
   "cell_type": "code",
   "execution_count": 161,
   "id": "4d5fbc9b-d3f0-4219-829e-8be8ff60a64d",
   "metadata": {},
   "outputs": [
    {
     "data": {
      "text/plain": [
       "[1, 2, 3, 'four', 'five', 'six', 'seven']"
      ]
     },
     "execution_count": 161,
     "metadata": {},
     "output_type": "execute_result"
    }
   ],
   "source": [
    "mylist"
   ]
  },
  {
   "cell_type": "code",
   "execution_count": 175,
   "id": "d4390749-0415-4612-8949-abb4d88fb6d0",
   "metadata": {},
   "outputs": [
    {
     "data": {
      "text/plain": [
       "False"
      ]
     },
     "execution_count": 175,
     "metadata": {},
     "output_type": "execute_result"
    }
   ],
   "source": [
    "l1=[]\n",
    "mylist.copy()==l1"
   ]
  },
  {
   "cell_type": "code",
   "execution_count": 177,
   "id": "ea56c536-eaba-4655-8178-6228112da740",
   "metadata": {},
   "outputs": [],
   "source": [
    "mylist.clear()\n"
   ]
  },
  {
   "cell_type": "code",
   "execution_count": 179,
   "id": "0ed4e5a2-be7a-45da-b985-7bab11237f10",
   "metadata": {},
   "outputs": [
    {
     "data": {
      "text/plain": [
       "[]"
      ]
     },
     "execution_count": 179,
     "metadata": {},
     "output_type": "execute_result"
    }
   ],
   "source": [
    "mylist"
   ]
  },
  {
   "cell_type": "code",
   "execution_count": 181,
   "id": "ec25f451-25ea-4a63-adfa-b5d1a244ce8d",
   "metadata": {},
   "outputs": [],
   "source": [
    "del mylist"
   ]
  },
  {
   "cell_type": "code",
   "execution_count": 183,
   "id": "e2c65bdf-3877-444c-90db-20154c51c3e4",
   "metadata": {},
   "outputs": [
    {
     "ename": "NameError",
     "evalue": "name 'mylist' is not defined",
     "output_type": "error",
     "traceback": [
      "\u001b[1;31m---------------------------------------------------------------------------\u001b[0m",
      "\u001b[1;31mNameError\u001b[0m                                 Traceback (most recent call last)",
      "Cell \u001b[1;32mIn[183], line 1\u001b[0m\n\u001b[1;32m----> 1\u001b[0m mylist\n",
      "\u001b[1;31mNameError\u001b[0m: name 'mylist' is not defined"
     ]
    }
   ],
   "source": [
    "mylist#the list is deleted"
   ]
  },
  {
   "cell_type": "markdown",
   "id": "ff670ad7-7962-401c-a6a1-bda3d4abf906",
   "metadata": {},
   "source": [
    "COPYLIST"
   ]
  },
  {
   "cell_type": "code",
   "execution_count": 186,
   "id": "5bce8f71-b31b-40f0-9b81-6402cb9037a2",
   "metadata": {},
   "outputs": [],
   "source": [
    "mylist=['one','two','three','four','five','six','seven','eight']\n"
   ]
  },
  {
   "cell_type": "code",
   "execution_count": 188,
   "id": "6c0bab2a-1f1d-4f88-8ad8-334878bb664c",
   "metadata": {},
   "outputs": [
    {
     "data": {
      "text/plain": [
       "['one', 'two', 'three', 'four', 'five', 'six', 'seven', 'eight']"
      ]
     },
     "execution_count": 188,
     "metadata": {},
     "output_type": "execute_result"
    }
   ],
   "source": [
    "mylist"
   ]
  },
  {
   "cell_type": "code",
   "execution_count": 190,
   "id": "f81ceff3-a7ef-41a9-8384-f3c958333153",
   "metadata": {},
   "outputs": [
    {
     "data": {
      "text/plain": [
       "2499511894976"
      ]
     },
     "execution_count": 190,
     "metadata": {},
     "output_type": "execute_result"
    }
   ],
   "source": [
    "id(mylist)"
   ]
  },
  {
   "cell_type": "code",
   "execution_count": 202,
   "id": "fb40f059-ce97-4693-96d9-541f80ba5498",
   "metadata": {},
   "outputs": [],
   "source": [
    "mylist2=mylist.copy()"
   ]
  },
  {
   "cell_type": "code",
   "execution_count": 204,
   "id": "76cdf0bf-ca69-422f-b538-d87c69c9f106",
   "metadata": {},
   "outputs": [
    {
     "data": {
      "text/plain": [
       "(2499511894976, 2499512310272)"
      ]
     },
     "execution_count": 204,
     "metadata": {},
     "output_type": "execute_result"
    }
   ],
   "source": [
    "id(mylist),id(mylist2)"
   ]
  },
  {
   "cell_type": "code",
   "execution_count": 206,
   "id": "14075049-9a8c-4348-8018-1d57f33b41fd",
   "metadata": {},
   "outputs": [],
   "source": [
    "mylist[0]=1"
   ]
  },
  {
   "cell_type": "code",
   "execution_count": 208,
   "id": "d5752a49-0eea-4b50-806b-eb578aa885e5",
   "metadata": {},
   "outputs": [
    {
     "data": {
      "text/plain": [
       "[1, 'two', 'three', 'four', 'five', 'six', 'seven', 'eight']"
      ]
     },
     "execution_count": 208,
     "metadata": {},
     "output_type": "execute_result"
    }
   ],
   "source": [
    "mylist"
   ]
  },
  {
   "cell_type": "code",
   "execution_count": 212,
   "id": "aaa07b53-b7d0-48b8-a361-b3659636716b",
   "metadata": {},
   "outputs": [
    {
     "data": {
      "text/plain": [
       "['one', 'two', 'three', 'four', 'five', 'six', 'seven', 'eight']"
      ]
     },
     "execution_count": 212,
     "metadata": {},
     "output_type": "execute_result"
    }
   ],
   "source": [
    "mylist2"
   ]
  },
  {
   "cell_type": "code",
   "execution_count": 222,
   "id": "09f8a64c-3e85-484e-b5e3-475b96779390",
   "metadata": {},
   "outputs": [],
   "source": [
    "mylist1=['one','two','three','four','five','six','seven','eight']"
   ]
  },
  {
   "cell_type": "code",
   "execution_count": 224,
   "id": "203e0f3e-ca29-413d-9685-55ddcab6b079",
   "metadata": {},
   "outputs": [
    {
     "data": {
      "text/plain": [
       "['one', 'two', 'three', 'four', 'five', 'six', 'seven', 'eight']"
      ]
     },
     "execution_count": 224,
     "metadata": {},
     "output_type": "execute_result"
    }
   ],
   "source": [
    "mylist1"
   ]
  },
  {
   "cell_type": "code",
   "execution_count": 226,
   "id": "034ba1e3-fec1-4bba-bb3c-babba2d9526c",
   "metadata": {},
   "outputs": [
    {
     "data": {
      "text/plain": [
       "'one'"
      ]
     },
     "execution_count": 226,
     "metadata": {},
     "output_type": "execute_result"
    }
   ],
   "source": [
    "mylist1[0]"
   ]
  },
  {
   "cell_type": "code",
   "execution_count": 232,
   "id": "0ca82f77-4013-4d9b-940c-155a7e7d2bf2",
   "metadata": {},
   "outputs": [],
   "source": [
    "mylist3=mylist1+mylist2"
   ]
  },
  {
   "cell_type": "code",
   "execution_count": 236,
   "id": "3d804b09-815b-4b12-8391-b917c866f1e8",
   "metadata": {},
   "outputs": [
    {
     "data": {
      "text/plain": [
       "['one',\n",
       " 'two',\n",
       " 'three',\n",
       " 'four',\n",
       " 'five',\n",
       " 'six',\n",
       " 'seven',\n",
       " 'eight',\n",
       " 'one',\n",
       " 'two',\n",
       " 'three',\n",
       " 'four',\n",
       " 'five',\n",
       " 'six',\n",
       " 'seven',\n",
       " 'eight']"
      ]
     },
     "execution_count": 236,
     "metadata": {},
     "output_type": "execute_result"
    }
   ],
   "source": [
    "mylist3"
   ]
  },
  {
   "cell_type": "code",
   "execution_count": 238,
   "id": "942e76a0-aa16-4e90-bbb3-19adab63721e",
   "metadata": {},
   "outputs": [],
   "source": [
    "mylist.extend(mylist2)"
   ]
  },
  {
   "cell_type": "code",
   "execution_count": 240,
   "id": "f3a5d006-fe08-4e7e-8efb-b2ba6b7c8d06",
   "metadata": {},
   "outputs": [
    {
     "data": {
      "text/plain": [
       "[1,\n",
       " 'two',\n",
       " 'three',\n",
       " 'four',\n",
       " 'five',\n",
       " 'six',\n",
       " 'seven',\n",
       " 'eight',\n",
       " 'one',\n",
       " 'two',\n",
       " 'three',\n",
       " 'four',\n",
       " 'five',\n",
       " 'six',\n",
       " 'seven',\n",
       " 'eight']"
      ]
     },
     "execution_count": 240,
     "metadata": {},
     "output_type": "execute_result"
    }
   ],
   "source": [
    "mylist\n"
   ]
  },
  {
   "cell_type": "markdown",
   "id": "bc2ff461-b2b1-4685-967d-9a6daa5f633b",
   "metadata": {},
   "source": [
    "LISTMEMBERSHIP"
   ]
  },
  {
   "cell_type": "code",
   "execution_count": 77,
   "id": "137015f4-e6bb-417c-b433-79e1bc71a4c9",
   "metadata": {},
   "outputs": [],
   "source": [
    "list1=['one','two','three','four']\n",
    "\n",
    "list2=['five','six','seven','eight']"
   ]
  },
  {
   "cell_type": "code",
   "execution_count": 79,
   "id": "32895cec-bf68-484c-8db0-51340b08d792",
   "metadata": {},
   "outputs": [],
   "source": [
    "list1.extend(list2)"
   ]
  },
  {
   "cell_type": "code",
   "execution_count": 81,
   "id": "aa68393e-76b6-4af6-a97e-4f3f4c2d7dda",
   "metadata": {},
   "outputs": [
    {
     "data": {
      "text/plain": [
       "['one', 'two', 'three', 'four', 'five', 'six', 'seven', 'eight']"
      ]
     },
     "execution_count": 81,
     "metadata": {},
     "output_type": "execute_result"
    }
   ],
   "source": [
    "list1"
   ]
  },
  {
   "cell_type": "code",
   "execution_count": 83,
   "id": "e32c504f-c852-4e27-974a-2ff7d89879be",
   "metadata": {},
   "outputs": [
    {
     "data": {
      "text/plain": [
       "True"
      ]
     },
     "execution_count": 83,
     "metadata": {},
     "output_type": "execute_result"
    }
   ],
   "source": [
    "'one' in list1#membership operators are in and not in"
   ]
  },
  {
   "cell_type": "code",
   "execution_count": 85,
   "id": "4344aeea-02dd-4595-8fc3-63daccfcb737",
   "metadata": {},
   "outputs": [
    {
     "name": "stdout",
     "output_type": "stream",
     "text": [
      "three is present in list1\n"
     ]
    }
   ],
   "source": [
    "if 'three' in list1:\n",
    "    print('three is present in list1')\n",
    "else:\n",
    "    print('three doesnt exist in list1')"
   ]
  },
  {
   "cell_type": "markdown",
   "id": "6d65fe84-00de-4376-913a-9bc1148414b9",
   "metadata": {},
   "source": [
    "reverse and sort list"
   ]
  },
  {
   "cell_type": "code",
   "execution_count": 258,
   "id": "29d88011-ae1c-4107-b892-b174055d3971",
   "metadata": {},
   "outputs": [
    {
     "data": {
      "text/plain": [
       "['one', 'two', 'three', 'four', 'five', 'six', 'seven', 'eight']"
      ]
     },
     "execution_count": 258,
     "metadata": {},
     "output_type": "execute_result"
    }
   ],
   "source": [
    "list1"
   ]
  },
  {
   "cell_type": "code",
   "execution_count": 262,
   "id": "f7fa7b00-6c70-4aad-bf03-4b6792bb7c59",
   "metadata": {},
   "outputs": [],
   "source": [
    "list1.reverse()"
   ]
  },
  {
   "cell_type": "code",
   "execution_count": 265,
   "id": "f84c0cd4-76e3-4b96-bb57-027c988721b1",
   "metadata": {},
   "outputs": [
    {
     "data": {
      "text/plain": [
       "['eight', 'seven', 'six', 'five', 'four', 'three', 'two', 'one']"
      ]
     },
     "execution_count": 265,
     "metadata": {},
     "output_type": "execute_result"
    }
   ],
   "source": [
    "list1"
   ]
  },
  {
   "cell_type": "code",
   "execution_count": 267,
   "id": "5bbf50ac-2ee3-4d8e-b110-be1fd1ccab9d",
   "metadata": {},
   "outputs": [
    {
     "data": {
      "text/plain": [
       "['one', 'two', 'three', 'four', 'five', 'six', 'seven', 'eight']"
      ]
     },
     "execution_count": 267,
     "metadata": {},
     "output_type": "execute_result"
    }
   ],
   "source": [
    "list1.reverse()\n",
    "list1"
   ]
  },
  {
   "cell_type": "code",
   "execution_count": 271,
   "id": "49b9cb5e-1b08-49df-b076-8abeb52a813c",
   "metadata": {},
   "outputs": [
    {
     "data": {
      "text/plain": [
       "['eight', 'seven', 'six', 'five', 'four', 'three', 'two', 'one']"
      ]
     },
     "execution_count": 271,
     "metadata": {},
     "output_type": "execute_result"
    }
   ],
   "source": [
    "list1[::-1]"
   ]
  },
  {
   "cell_type": "code",
   "execution_count": 273,
   "id": "6f4ec527-8ab2-4939-8e5b-a78733dacc82",
   "metadata": {},
   "outputs": [
    {
     "data": {
      "text/plain": [
       "['eight', 'seven', 'six', 'five', 'four', 'three', 'two', 'one']"
      ]
     },
     "execution_count": 273,
     "metadata": {},
     "output_type": "execute_result"
    }
   ],
   "source": [
    "list1[::-1]"
   ]
  },
  {
   "cell_type": "code",
   "execution_count": 277,
   "id": "08f26519-9e59-4bc9-9ba8-0015a6867c7f",
   "metadata": {},
   "outputs": [
    {
     "data": {
      "text/plain": [
       "['one', 'two', 'three', 'four', 'five', 'six', 'seven', 'eight']"
      ]
     },
     "execution_count": 277,
     "metadata": {},
     "output_type": "execute_result"
    }
   ],
   "source": [
    "list1[0::]"
   ]
  },
  {
   "cell_type": "code",
   "execution_count": 279,
   "id": "57a259e8-51b9-4c94-be09-09571d93865b",
   "metadata": {},
   "outputs": [
    {
     "data": {
      "text/plain": [
       "['one', 'two', 'three', 'four', 'five', 'six', 'seven', 'eight']"
      ]
     },
     "execution_count": 279,
     "metadata": {},
     "output_type": "execute_result"
    }
   ],
   "source": [
    "list1"
   ]
  },
  {
   "cell_type": "code",
   "execution_count": 281,
   "id": "6e18fc9e-b48b-466b-94ad-b1c1bc644d79",
   "metadata": {},
   "outputs": [],
   "source": [
    "mylist3=[9,5,2,99,12,88,34]"
   ]
  },
  {
   "cell_type": "code",
   "execution_count": 285,
   "id": "eb4cfe4a-db06-4e37-a949-a1f39ba15910",
   "metadata": {},
   "outputs": [],
   "source": [
    "mylist3.sort#sorts list in ascending order"
   ]
  },
  {
   "cell_type": "code",
   "execution_count": 287,
   "id": "11c00254-e52c-40ff-9cb4-f278cf0387b2",
   "metadata": {},
   "outputs": [
    {
     "data": {
      "text/plain": [
       "[2, 5, 9, 12, 34, 88, 99]"
      ]
     },
     "execution_count": 287,
     "metadata": {},
     "output_type": "execute_result"
    }
   ],
   "source": [
    "mylist3"
   ]
  },
  {
   "cell_type": "code",
   "execution_count": 295,
   "id": "de5506a0-6c9a-46d5-b0c5-d3c1bb0147a1",
   "metadata": {},
   "outputs": [],
   "source": [
    "mylist3=[9,5,2,99,12,88,34]#sorting in descending order\n",
    "mylist3.sort(reverse=True)"
   ]
  },
  {
   "cell_type": "code",
   "execution_count": 297,
   "id": "bfee4f69-8abc-4637-9365-3121941961e1",
   "metadata": {},
   "outputs": [
    {
     "data": {
      "text/plain": [
       "[99, 88, 34, 12, 9, 5, 2]"
      ]
     },
     "execution_count": 297,
     "metadata": {},
     "output_type": "execute_result"
    }
   ],
   "source": [
    "mylist3"
   ]
  },
  {
   "cell_type": "code",
   "execution_count": 299,
   "id": "ac9f9a39-e19a-4966-8582-66d41cb0863a",
   "metadata": {},
   "outputs": [
    {
     "data": {
      "text/plain": [
       "[2, 5, 9, 12, 34, 88, 99]"
      ]
     },
     "execution_count": 299,
     "metadata": {},
     "output_type": "execute_result"
    }
   ],
   "source": [
    "sorted(mylist3)#this sorted returnd=s the sorted list without changing list"
   ]
  },
  {
   "cell_type": "code",
   "execution_count": 301,
   "id": "45e5cfff-6b05-4b2e-93d7-db0e47edec8b",
   "metadata": {},
   "outputs": [
    {
     "data": {
      "text/plain": [
       "[99, 88, 34, 12, 9, 5, 2]"
      ]
     },
     "execution_count": 301,
     "metadata": {},
     "output_type": "execute_result"
    }
   ],
   "source": [
    "mylist3"
   ]
  },
  {
   "cell_type": "markdown",
   "id": "beae0f2c-af86-45a0-82b4-4f369e596679",
   "metadata": {},
   "source": [
    "LOOP THROUGH A LIST"
   ]
  },
  {
   "cell_type": "code",
   "execution_count": 304,
   "id": "860dc508-17cb-4869-becc-42e3598469d8",
   "metadata": {},
   "outputs": [
    {
     "data": {
      "text/plain": [
       "['one', 'two', 'three', 'four', 'five', 'six', 'seven', 'eight']"
      ]
     },
     "execution_count": 304,
     "metadata": {},
     "output_type": "execute_result"
    }
   ],
   "source": [
    "list1"
   ]
  },
  {
   "cell_type": "code",
   "execution_count": 312,
   "id": "a3d078ef-d4d1-4e04-a47a-5521d30c1b00",
   "metadata": {},
   "outputs": [
    {
     "name": "stdout",
     "output_type": "stream",
     "text": [
      "one\n",
      "two\n",
      "three\n",
      "four\n",
      "five\n",
      "six\n",
      "seven\n",
      "eight\n"
     ]
    }
   ],
   "source": [
    "for i in list1:#printing the list  using for loop\n",
    "    print(i)"
   ]
  },
  {
   "cell_type": "code",
   "execution_count": 314,
   "id": "61df6e5f-36cb-439b-b147-9eccee5b0ee6",
   "metadata": {},
   "outputs": [
    {
     "name": "stdout",
     "output_type": "stream",
     "text": [
      "(0, 'one')\n",
      "(1, 'two')\n",
      "(2, 'three')\n",
      "(3, 'four')\n",
      "(4, 'five')\n",
      "(5, 'six')\n",
      "(6, 'seven')\n",
      "(7, 'eight')\n"
     ]
    }
   ],
   "source": [
    "for i in enumerate(list1):#enumerate prints the list with index nuymbers\n",
    "    print(i)"
   ]
  },
  {
   "cell_type": "markdown",
   "id": "db933f73-de53-495f-92b0-1b63ddf515b3",
   "metadata": {},
   "source": [
    "COUNT"
   ]
  },
  {
   "cell_type": "code",
   "execution_count": 317,
   "id": "b4d59d9a-6ebe-4b57-bf9f-b846268e017b",
   "metadata": {},
   "outputs": [],
   "source": [
    "list10=['one', 'two', 'three', 'four', 'one','one','two','three']"
   ]
  },
  {
   "cell_type": "code",
   "execution_count": 319,
   "id": "eae64dfb-c2f8-4f0d-9ba2-99f8f6249588",
   "metadata": {},
   "outputs": [
    {
     "data": {
      "text/plain": [
       "['one', 'two', 'three', 'four', 'one', 'one', 'two', 'three']"
      ]
     },
     "execution_count": 319,
     "metadata": {},
     "output_type": "execute_result"
    }
   ],
   "source": [
    "list10"
   ]
  },
  {
   "cell_type": "code",
   "execution_count": 325,
   "id": "90552380-d56b-443e-96c2-70cef8cf4adf",
   "metadata": {},
   "outputs": [
    {
     "data": {
      "text/plain": [
       "3"
      ]
     },
     "execution_count": 325,
     "metadata": {},
     "output_type": "execute_result"
    }
   ],
   "source": [
    "list10.count('one')"
   ]
  },
  {
   "cell_type": "code",
   "execution_count": 327,
   "id": "c6376c8b-360e-4dfe-bc5b-11a666dd0ea7",
   "metadata": {},
   "outputs": [
    {
     "data": {
      "text/plain": [
       "2"
      ]
     },
     "execution_count": 327,
     "metadata": {},
     "output_type": "execute_result"
    }
   ],
   "source": [
    "list10.count('two')"
   ]
  },
  {
   "cell_type": "markdown",
   "id": "cea49a5f-aaa0-4faf-9144-1ff413dde46b",
   "metadata": {},
   "source": [
    "ALL/ANY"
   ]
  },
  {
   "cell_type": "markdown",
   "id": "15e9e116-843e-4c9e-a895-253c094f99a1",
   "metadata": {},
   "source": [
    "THE ALL METHOD RETURNS -->\n",
    "TRUE :IF ALL ELEMENTS ARE TRUE(NO '0')\n",
    "FALSE:IF FALSE ELEMENT IS PLACED IN A LIST(LIST HAS '0')"
   ]
  },
  {
   "cell_type": "code",
   "execution_count": 93,
   "id": "5808dcce-53be-4bf0-84a9-7468129e2410",
   "metadata": {},
   "outputs": [],
   "source": [
    "L1=[1,2,3,4,5,0]\n",
    "all(L1)\n",
    "list=[]"
   ]
  },
  {
   "cell_type": "code",
   "execution_count": 89,
   "id": "c90e444a-e5da-4bd1-8b8d-ff35177d2753",
   "metadata": {},
   "outputs": [],
   "source": [
    "all1=[1,2,3,True]"
   ]
  },
  {
   "cell_type": "code",
   "execution_count": 95,
   "id": "5cfef255-2816-41ad-817d-5d1ef2b18f4e",
   "metadata": {},
   "outputs": [
    {
     "data": {
      "text/plain": [
       "False"
      ]
     },
     "execution_count": 95,
     "metadata": {},
     "output_type": "execute_result"
    }
   ],
   "source": [
    "all(L1)"
   ]
  },
  {
   "cell_type": "code",
   "execution_count": 99,
   "id": "cf68c04c-dfbf-4549-a4de-9479b738c743",
   "metadata": {},
   "outputs": [
    {
     "data": {
      "text/plain": [
       "False"
      ]
     },
     "execution_count": 99,
     "metadata": {},
     "output_type": "execute_result"
    }
   ],
   "source": [
    "any(list)#returns false if list is empty(or)returns true if list exist iterals"
   ]
  },
  {
   "cell_type": "code",
   "execution_count": 101,
   "id": "1a1b4861-5dcf-49e5-89f3-c8b6b4c0cd78",
   "metadata": {},
   "outputs": [],
   "source": [
    "l=[400,20,30]\n",
    "l.sort()#parameter tunning"
   ]
  },
  {
   "cell_type": "code",
   "execution_count": 103,
   "id": "772e2e40-a58a-44d8-8cdd-1eb08e3bfcd9",
   "metadata": {},
   "outputs": [
    {
     "data": {
      "text/plain": [
       "True"
      ]
     },
     "execution_count": 103,
     "metadata": {},
     "output_type": "execute_result"
    }
   ],
   "source": [
    "all(l)"
   ]
  },
  {
   "cell_type": "code",
   "execution_count": 105,
   "id": "c435ef81-65cc-4755-80cd-3252fd715ac7",
   "metadata": {},
   "outputs": [],
   "source": [
    "l.sort(reverse=True)#hyper parameter tunning"
   ]
  },
  {
   "cell_type": "code",
   "execution_count": 107,
   "id": "f20d3a77-d29e-448b-b06d-ef6aa8c1512e",
   "metadata": {},
   "outputs": [
    {
     "data": {
      "text/plain": [
       "[400, 30, 20]"
      ]
     },
     "execution_count": 107,
     "metadata": {},
     "output_type": "execute_result"
    }
   ],
   "source": [
    "l"
   ]
  },
  {
   "cell_type": "code",
   "execution_count": 109,
   "id": "ff9a8a0f-995b-4d8e-a4c0-f1e32ba3eb9d",
   "metadata": {},
   "outputs": [],
   "source": [
    "l.extend(L1)"
   ]
  },
  {
   "cell_type": "code",
   "execution_count": 111,
   "id": "8c0e52fc-c92a-474b-a0c8-15e2ec639e9e",
   "metadata": {},
   "outputs": [
    {
     "data": {
      "text/plain": [
       "[400, 30, 20, 1, 2, 3, 4, 5, 0]"
      ]
     },
     "execution_count": 111,
     "metadata": {},
     "output_type": "execute_result"
    }
   ],
   "source": [
    "l"
   ]
  },
  {
   "cell_type": "code",
   "execution_count": 113,
   "id": "7b0ae6e5-a8ad-42e6-895a-75de147d7c0d",
   "metadata": {},
   "outputs": [
    {
     "data": {
      "text/plain": [
       "False"
      ]
     },
     "execution_count": 113,
     "metadata": {},
     "output_type": "execute_result"
    }
   ],
   "source": [
    "all(l)"
   ]
  },
  {
   "cell_type": "code",
   "execution_count": 115,
   "id": "3a7c9c1c-a6ed-44c9-8562-a6dcfcbb1506",
   "metadata": {},
   "outputs": [],
   "source": [
    "l=[2,1,56,87,43,32,23]"
   ]
  },
  {
   "cell_type": "code",
   "execution_count": 117,
   "id": "fa0e8532-a93f-4895-8532-a021857ab6c6",
   "metadata": {},
   "outputs": [
    {
     "data": {
      "text/plain": [
       "[1, 2, 23, 32, 43, 56, 87]"
      ]
     },
     "execution_count": 117,
     "metadata": {},
     "output_type": "execute_result"
    }
   ],
   "source": [
    "\n",
    "sorted(l)"
   ]
  },
  {
   "cell_type": "code",
   "execution_count": 119,
   "id": "ff9b8cfc-3964-4ead-a1a3-aff3bf730c11",
   "metadata": {},
   "outputs": [
    {
     "data": {
      "text/plain": [
       "[2, 1, 56, 87, 43, 32, 23]"
      ]
     },
     "execution_count": 119,
     "metadata": {},
     "output_type": "execute_result"
    }
   ],
   "source": [
    "l"
   ]
  },
  {
   "cell_type": "code",
   "execution_count": 121,
   "id": "0c1063d4-980c-4527-9b1c-2e008e12549a",
   "metadata": {},
   "outputs": [
    {
     "data": {
      "text/plain": [
       "[87, 56, 43, 32, 23, 2, 1]"
      ]
     },
     "execution_count": 121,
     "metadata": {},
     "output_type": "execute_result"
    }
   ],
   "source": [
    "sorted(l,reverse=True)"
   ]
  },
  {
   "cell_type": "code",
   "execution_count": 123,
   "id": "841012f6-43f7-4cdb-b8d4-ff4b51c427af",
   "metadata": {},
   "outputs": [],
   "source": [
    "l.sort( reverse=False)"
   ]
  },
  {
   "cell_type": "code",
   "execution_count": 71,
   "id": "309c3e81-0e26-4cbd-827a-3249497bc05c",
   "metadata": {},
   "outputs": [
    {
     "data": {
      "text/plain": [
       "[20, 30, 400]"
      ]
     },
     "execution_count": 71,
     "metadata": {},
     "output_type": "execute_result"
    }
   ],
   "source": [
    "\n",
    "l"
   ]
  },
  {
   "cell_type": "code",
   "execution_count": 127,
   "id": "fa7e477a-bdc6-4a38-b54c-e98af038a687",
   "metadata": {},
   "outputs": [
    {
     "ename": "TypeError",
     "evalue": "tuple expected at most 1 argument, got 2",
     "output_type": "error",
     "traceback": [
      "\u001b[1;31m---------------------------------------------------------------------------\u001b[0m",
      "\u001b[1;31mTypeError\u001b[0m                                 Traceback (most recent call last)",
      "Cell \u001b[1;32mIn[127], line 1\u001b[0m\n\u001b[1;32m----> 1\u001b[0m \u001b[38;5;28mtuple\u001b[39m(\u001b[38;5;241m1\u001b[39m,[\u001b[38;5;241m1\u001b[39m,\u001b[38;5;241m2\u001b[39m])\n",
      "\u001b[1;31mTypeError\u001b[0m: tuple expected at most 1 argument, got 2"
     ]
    }
   ],
   "source": [
    "tuple(1,[1,2])"
   ]
  },
  {
   "cell_type": "code",
   "execution_count": 131,
   "id": "9f13237c-f148-4049-860c-20ac81d60d57",
   "metadata": {},
   "outputs": [
    {
     "data": {
      "text/plain": [
       "[1, 2, 3, 4]"
      ]
     },
     "execution_count": 131,
     "metadata": {},
     "output_type": "execute_result"
    }
   ],
   "source": [
    "[1,2]+[3,4]"
   ]
  },
  {
   "cell_type": "code",
   "execution_count": 133,
   "id": "84881413-49d8-4cfb-816c-5f2d97bd8e9d",
   "metadata": {},
   "outputs": [
    {
     "name": "stdout",
     "output_type": "stream",
     "text": [
      "1 2 3\n"
     ]
    }
   ],
   "source": [
    "print(1,2,3)"
   ]
  },
  {
   "cell_type": "code",
   "execution_count": 135,
   "id": "534d5f25-738b-4793-91a5-e36290a66713",
   "metadata": {},
   "outputs": [
    {
     "ename": "SyntaxError",
     "evalue": "invalid syntax. Perhaps you forgot a comma? (910179706.py, line 1)",
     "output_type": "error",
     "traceback": [
      "\u001b[1;36m  Cell \u001b[1;32mIn[135], line 1\u001b[1;36m\u001b[0m\n\u001b[1;33m    print(1.2.3)\u001b[0m\n\u001b[1;37m          ^\u001b[0m\n\u001b[1;31mSyntaxError\u001b[0m\u001b[1;31m:\u001b[0m invalid syntax. Perhaps you forgot a comma?\n"
     ]
    }
   ],
   "source": [
    "print(1.2.3)"
   ]
  },
  {
   "cell_type": "code",
   "execution_count": 137,
   "id": "1b4b67ba-75d9-4230-bb5f-fba28d35dc1f",
   "metadata": {},
   "outputs": [
    {
     "data": {
      "text/plain": [
       "3.3333333333333335"
      ]
     },
     "execution_count": 137,
     "metadata": {},
     "output_type": "execute_result"
    }
   ],
   "source": [
    "10/3"
   ]
  },
  {
   "cell_type": "code",
   "execution_count": null,
   "id": "b32aafbf-d091-4500-91a4-f4f9905e45cf",
   "metadata": {},
   "outputs": [],
   "source": []
  }
 ],
 "metadata": {
  "kernelspec": {
   "display_name": "Python [conda env:base] *",
   "language": "python",
   "name": "conda-base-py"
  },
  "language_info": {
   "codemirror_mode": {
    "name": "ipython",
    "version": 3
   },
   "file_extension": ".py",
   "mimetype": "text/x-python",
   "name": "python",
   "nbconvert_exporter": "python",
   "pygments_lexer": "ipython3",
   "version": "3.12.7"
  }
 },
 "nbformat": 4,
 "nbformat_minor": 5
}
