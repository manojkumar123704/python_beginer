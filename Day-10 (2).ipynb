{
 "cells": [
  {
   "cell_type": "code",
   "execution_count": 1,
   "id": "90bcfd2a-6fd1-4d9d-95fd-f58b2835ae88",
   "metadata": {},
   "outputs": [
    {
     "data": {
      "text/plain": [
       "25"
      ]
     },
     "execution_count": 1,
     "metadata": {},
     "output_type": "execute_result"
    }
   ],
   "source": [
    "25\n"
   ]
  },
  {
   "cell_type": "code",
   "execution_count": 5,
   "id": "7cbefb86-f0c2-4a80-8f1f-93b50c6fc89e",
   "metadata": {},
   "outputs": [
    {
     "data": {
      "text/plain": [
       "'0b11001'"
      ]
     },
     "execution_count": 5,
     "metadata": {},
     "output_type": "execute_result"
    }
   ],
   "source": [
    "bin(25)"
   ]
  },
  {
   "cell_type": "code",
   "execution_count": 7,
   "id": "47d9c109-10ba-4edd-aab3-1701d427e7fa",
   "metadata": {},
   "outputs": [
    {
     "data": {
      "text/plain": [
       "'0b11110'"
      ]
     },
     "execution_count": 7,
     "metadata": {},
     "output_type": "execute_result"
    }
   ],
   "source": [
    "bin(30)"
   ]
  },
  {
   "cell_type": "code",
   "execution_count": 9,
   "id": "724459ca-207b-4960-8afc-045586bdbb28",
   "metadata": {},
   "outputs": [
    {
     "data": {
      "text/plain": [
       "30"
      ]
     },
     "execution_count": 9,
     "metadata": {},
     "output_type": "execute_result"
    }
   ],
   "source": [
    "int(0b11110)"
   ]
  },
  {
   "cell_type": "code",
   "execution_count": 11,
   "id": "4be67c80-4ec8-4f0b-8157-8e3da65a9466",
   "metadata": {},
   "outputs": [
    {
     "data": {
      "text/plain": [
       "'0b100011'"
      ]
     },
     "execution_count": 11,
     "metadata": {},
     "output_type": "execute_result"
    }
   ],
   "source": [
    "bin(35)"
   ]
  },
  {
   "cell_type": "code",
   "execution_count": 13,
   "id": "fcc1e21f-ed74-4cf6-81a8-b2137fdd76a0",
   "metadata": {},
   "outputs": [
    {
     "data": {
      "text/plain": [
       "'0o31'"
      ]
     },
     "execution_count": 13,
     "metadata": {},
     "output_type": "execute_result"
    }
   ],
   "source": [
    "oct(25)\n"
   ]
  },
  {
   "cell_type": "code",
   "execution_count": 15,
   "id": "3e119f87-6ecb-41f8-b568-d9ecdfb2b510",
   "metadata": {},
   "outputs": [
    {
     "data": {
      "text/plain": [
       "25"
      ]
     },
     "execution_count": 15,
     "metadata": {},
     "output_type": "execute_result"
    }
   ],
   "source": [
    "int(0o31)"
   ]
  },
  {
   "cell_type": "code",
   "execution_count": 17,
   "id": "322b376b-fc15-4307-93a4-01190ac46482",
   "metadata": {},
   "outputs": [
    {
     "data": {
      "text/plain": [
       "'0b111'"
      ]
     },
     "execution_count": 17,
     "metadata": {},
     "output_type": "execute_result"
    }
   ],
   "source": [
    "bin(7)"
   ]
  },
  {
   "cell_type": "code",
   "execution_count": 19,
   "id": "38216a99-ad5f-4b86-9722-9f51ad0cc032",
   "metadata": {},
   "outputs": [
    {
     "data": {
      "text/plain": [
       "'0x100'"
      ]
     },
     "execution_count": 19,
     "metadata": {},
     "output_type": "execute_result"
    }
   ],
   "source": [
    "hex(256)"
   ]
  },
  {
   "cell_type": "code",
   "execution_count": 21,
   "id": "f170cd28-cd87-4e73-a7fa-7906590a623b",
   "metadata": {},
   "outputs": [
    {
     "data": {
      "text/plain": [
       "10"
      ]
     },
     "execution_count": 21,
     "metadata": {},
     "output_type": "execute_result"
    }
   ],
   "source": [
    "0xa"
   ]
  },
  {
   "cell_type": "code",
   "execution_count": 23,
   "id": "0bccce42-9a9a-46c5-aa46-b3399eba8fa9",
   "metadata": {},
   "outputs": [
    {
     "data": {
      "text/plain": [
       "11"
      ]
     },
     "execution_count": 23,
     "metadata": {},
     "output_type": "execute_result"
    }
   ],
   "source": [
    "0xb"
   ]
  },
  {
   "cell_type": "code",
   "execution_count": 27,
   "id": "09a1c3cf-5e43-4d37-b68c-f78cb67ca041",
   "metadata": {},
   "outputs": [
    {
     "data": {
      "text/plain": [
       "3"
      ]
     },
     "execution_count": 27,
     "metadata": {},
     "output_type": "execute_result"
    }
   ],
   "source": [
    "0b11"
   ]
  },
  {
   "cell_type": "code",
   "execution_count": 29,
   "id": "05c18d59-722c-4c50-bc34-726bb3081422",
   "metadata": {},
   "outputs": [
    {
     "data": {
      "text/plain": [
       "256"
      ]
     },
     "execution_count": 29,
     "metadata": {},
     "output_type": "execute_result"
    }
   ],
   "source": [
    "int(0x100)"
   ]
  },
  {
   "cell_type": "code",
   "execution_count": 31,
   "id": "030b0d37-8ee3-4c54-a4f7-2df3386c37f4",
   "metadata": {},
   "outputs": [
    {
     "data": {
      "text/plain": [
       "25"
      ]
     },
     "execution_count": 31,
     "metadata": {},
     "output_type": "execute_result"
    }
   ],
   "source": [
    "0x19"
   ]
  },
  {
   "cell_type": "code",
   "execution_count": 37,
   "id": "b5e4db7c-0077-4e9b-9a5e-cf8ea63e8eb1",
   "metadata": {},
   "outputs": [],
   "source": [
    "a1=8\n",
    "b1=7\n",
    "a1=temp\n",
    "a1=b1\n",
    "b1=temp"
   ]
  },
  {
   "cell_type": "code",
   "execution_count": 39,
   "id": "6c80d4a3-df6b-48d5-8d48-0a34c9aa14c5",
   "metadata": {},
   "outputs": [
    {
     "name": "stdout",
     "output_type": "stream",
     "text": [
      "7\n",
      "8\n"
     ]
    }
   ],
   "source": [
    "print(a1)\n",
    "print(b1)"
   ]
  },
  {
   "cell_type": "code",
   "execution_count": 63,
   "id": "829939a7-96b5-4617-bdcf-6d540ee4255e",
   "metadata": {},
   "outputs": [],
   "source": [
    "a2=5\n",
    "b2=6\n"
   ]
  },
  {
   "cell_type": "code",
   "execution_count": 65,
   "id": "c1f65dbe-ba05-47fc-b17e-7aa97c383fb9",
   "metadata": {},
   "outputs": [],
   "source": [
    "a2,b2=b2,a2"
   ]
  },
  {
   "cell_type": "code",
   "execution_count": 67,
   "id": "356430a9-82ee-4888-ae93-8d3653e3b18f",
   "metadata": {},
   "outputs": [
    {
     "name": "stdout",
     "output_type": "stream",
     "text": [
      "6\n",
      "5\n"
     ]
    }
   ],
   "source": [
    "print(a2)\n",
    "print(b2)"
   ]
  },
  {
   "cell_type": "code",
   "execution_count": 3,
   "id": "e44df006-c2aa-4d8d-8be3-1120ee9197fb",
   "metadata": {},
   "outputs": [],
   "source": [
    "import numpy as np\n",
    "npp=np.nan"
   ]
  },
  {
   "cell_type": "code",
   "execution_count": 5,
   "id": "6344b1fc-9209-4199-9618-eb36063ff075",
   "metadata": {},
   "outputs": [
    {
     "data": {
      "text/plain": [
       "float"
      ]
     },
     "execution_count": 5,
     "metadata": {},
     "output_type": "execute_result"
    }
   ],
   "source": [
    "type(npp)"
   ]
  },
  {
   "cell_type": "code",
   "execution_count": 11,
   "id": "da68d85a-432f-4ca7-98dd-0b8e0504ed4d",
   "metadata": {},
   "outputs": [],
   "source": [
    "l5=['z','a','m']\n",
    "l5.sort()"
   ]
  },
  {
   "cell_type": "code",
   "execution_count": 13,
   "id": "4f418380-c169-4235-8ddf-c06315209dbc",
   "metadata": {},
   "outputs": [
    {
     "data": {
      "text/plain": [
       "['a', 'm', 'z']"
      ]
     },
     "execution_count": 13,
     "metadata": {},
     "output_type": "execute_result"
    }
   ],
   "source": [
    "l5"
   ]
  },
  {
   "cell_type": "raw",
   "id": "8f45fcdb-1962-46da-bdcb-da420e67ace3",
   "metadata": {},
   "source": [
    "##### "
   ]
  },
  {
   "cell_type": "code",
   "execution_count": 28,
   "id": "403203f0-a756-43d9-9e10-d39ec6e58bab",
   "metadata": {},
   "outputs": [
    {
     "data": {
      "text/plain": [
       "5"
      ]
     },
     "execution_count": 28,
     "metadata": {},
     "output_type": "execute_result"
    }
   ],
   "source": [
    "int.__add__(2,3)"
   ]
  },
  {
   "cell_type": "code",
   "execution_count": 32,
   "id": "f4e57329-1083-491c-8f36-26e0882894b7",
   "metadata": {},
   "outputs": [
    {
     "data": {
      "text/plain": [
       "-1"
      ]
     },
     "execution_count": 32,
     "metadata": {},
     "output_type": "execute_result"
    }
   ],
   "source": [
    "int.__sub__(2,3)"
   ]
  },
  {
   "cell_type": "code",
   "execution_count": 40,
   "id": "289b3105-08d0-499d-a6df-d4ca29d03ce3",
   "metadata": {},
   "outputs": [
    {
     "ename": "AttributeError",
     "evalue": "type object 'int' has no attribute '__div__'",
     "output_type": "error",
     "traceback": [
      "\u001b[1;31m---------------------------------------------------------------------------\u001b[0m",
      "\u001b[1;31mAttributeError\u001b[0m                            Traceback (most recent call last)",
      "Cell \u001b[1;32mIn[40], line 1\u001b[0m\n\u001b[1;32m----> 1\u001b[0m \u001b[38;5;28mint\u001b[39m\u001b[38;5;241m.\u001b[39m__div__(\u001b[38;5;241m5\u001b[39m,\u001b[38;5;241m10\u001b[39m)\n",
      "\u001b[1;31mAttributeError\u001b[0m: type object 'int' has no attribute '__div__'"
     ]
    }
   ],
   "source": [
    "int.__div__(5,10)"
   ]
  },
  {
   "cell_type": "code",
   "execution_count": 38,
   "id": "91a8c3a9-d052-4356-b1e4-0e2772add653",
   "metadata": {},
   "outputs": [
    {
     "data": {
      "text/plain": [
       "5.77"
      ]
     },
     "execution_count": 38,
     "metadata": {},
     "output_type": "execute_result"
    }
   ],
   "source": [
    "float.__add__(2.33,3.44)"
   ]
  },
  {
   "cell_type": "code",
   "execution_count": 44,
   "id": "6acfcf56-8371-4bee-9613-417126248de6",
   "metadata": {},
   "outputs": [
    {
     "data": {
      "text/plain": [
       "'hii welcome'"
      ]
     },
     "execution_count": 44,
     "metadata": {},
     "output_type": "execute_result"
    }
   ],
   "source": [
    "str.__add__('hii', ' welcome')"
   ]
  },
  {
   "cell_type": "code",
   "execution_count": 45,
   "id": "80f64bd9-d833-411b-aba2-a3746c844a55",
   "metadata": {},
   "outputs": [
    {
     "name": "stdout",
     "output_type": "stream",
     "text": [
      "your otp is:8823\n"
     ]
    }
   ],
   "source": [
    "import random\n",
    "def generate_otp(length=4):\n",
    "    \"generates a otp of length\"\n",
    "    digits='01238'\n",
    "    otp = ''.join(random.choice(digits) for _ in  range(length))\n",
    "    return otp\n",
    "\n",
    "\n",
    "\n",
    "\n",
    "\n",
    "otp_length=4\n",
    "otp=generate_otp(otp_length)\n",
    "print(\"your otp is:{}\".format(otp))"
   ]
  },
  {
   "cell_type": "code",
   "execution_count": null,
   "id": "69529682-5d3a-4091-b628-eef7af16d818",
   "metadata": {},
   "outputs": [],
   "source": []
  },
  {
   "cell_type": "code",
   "execution_count": null,
   "id": "488fb0fe-d827-40b1-9b98-0500ab28d0b4",
   "metadata": {},
   "outputs": [],
   "source": []
  }
 ],
 "metadata": {
  "kernelspec": {
   "display_name": "Python [conda env:base] *",
   "language": "python",
   "name": "conda-base-py"
  },
  "language_info": {
   "codemirror_mode": {
    "name": "ipython",
    "version": 3
   },
   "file_extension": ".py",
   "mimetype": "text/x-python",
   "name": "python",
   "nbconvert_exporter": "python",
   "pygments_lexer": "ipython3",
   "version": "3.12.7"
  }
 },
 "nbformat": 4,
 "nbformat_minor": 5
}
